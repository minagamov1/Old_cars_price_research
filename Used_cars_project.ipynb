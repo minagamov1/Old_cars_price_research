{
 "cells": [
  {
   "cell_type": "markdown",
   "id": "2f577c30",
   "metadata": {
    "toc": true
   },
   "source": [
    "<h1>Table of Contents<span class=\"tocSkip\"></span></h1>\n",
    "<div class=\"toc\"><ul class=\"toc-item\"><li><span><a href=\"#Произведем-необходимые-импорты\" data-toc-modified-id=\"Произведем-необходимые-импорты-1\"><span class=\"toc-item-num\">1&nbsp;&nbsp;</span>Произведем необходимые импорты</a></span></li><li><span><a href=\"#Загрузим-датасет\" data-toc-modified-id=\"Загрузим-датасет-2\"><span class=\"toc-item-num\">2&nbsp;&nbsp;</span>Загрузим датасет</a></span></li><li><span><a href=\"#EDA\" data-toc-modified-id=\"EDA-3\"><span class=\"toc-item-num\">3&nbsp;&nbsp;</span>EDA</a></span><ul class=\"toc-item\"><li><span><a href=\"#Пропуски-в-данных\" data-toc-modified-id=\"Пропуски-в-данных-3.1\"><span class=\"toc-item-num\">3.1&nbsp;&nbsp;</span>Пропуски в данных</a></span></li><li><span><a href=\"#Явные-дубликаты\" data-toc-modified-id=\"Явные-дубликаты-3.2\"><span class=\"toc-item-num\">3.2&nbsp;&nbsp;</span>Явные дубликаты</a></span></li><li><span><a href=\"#Визуализация-и-поиск-выбросов\" data-toc-modified-id=\"Визуализация-и-поиск-выбросов-3.3\"><span class=\"toc-item-num\">3.3&nbsp;&nbsp;</span>Визуализация и поиск выбросов</a></span></li><li><span><a href=\"#Изучение-остальных-признаков,-с-помощью-визуализации\" data-toc-modified-id=\"Изучение-остальных-признаков,-с-помощью-визуализации-3.4\"><span class=\"toc-item-num\">3.4&nbsp;&nbsp;</span>Изучение остальных признаков, с помощью визуализации</a></span></li></ul></li><li><span><a href=\"#Создание-новых-признаков\" data-toc-modified-id=\"Создание-новых-признаков-4\"><span class=\"toc-item-num\">4&nbsp;&nbsp;</span>Создание новых признаков</a></span></li><li><span><a href=\"#Гипотезы\" data-toc-modified-id=\"Гипотезы-5\"><span class=\"toc-item-num\">5&nbsp;&nbsp;</span>Гипотезы</a></span><ul class=\"toc-item\"><li><span><a href=\"#Гипотеза-1\" data-toc-modified-id=\"Гипотеза-1-5.1\"><span class=\"toc-item-num\">5.1&nbsp;&nbsp;</span>Гипотеза 1</a></span></li><li><span><a href=\"#Гипотеза-2\" data-toc-modified-id=\"Гипотеза-2-5.2\"><span class=\"toc-item-num\">5.2&nbsp;&nbsp;</span>Гипотеза 2</a></span></li></ul></li><li><span><a href=\"#Машинное-обучение\" data-toc-modified-id=\"Машинное-обучение-6\"><span class=\"toc-item-num\">6&nbsp;&nbsp;</span>Машинное обучение</a></span><ul class=\"toc-item\"><li><span><a href=\"#Кодирование-категориальных-признаков\" data-toc-modified-id=\"Кодирование-категориальных-признаков-6.1\"><span class=\"toc-item-num\">6.1&nbsp;&nbsp;</span>Кодирование категориальных признаков</a></span></li><li><span><a href=\"#Проверка-разных-моделей\" data-toc-modified-id=\"Проверка-разных-моделей-6.2\"><span class=\"toc-item-num\">6.2&nbsp;&nbsp;</span>Проверка разных моделей</a></span></li></ul></li></ul></div>"
   ]
  },
  {
   "cell_type": "markdown",
   "id": "967fd7cd",
   "metadata": {},
   "source": [
    "Перед нами стоит задача понять какие факторы оказывают влияние на цены поддержанных автомобилей. Для этого мы воспользуемся готовыми датасетами с ресурса kaggle и открытые данные об автомобилях с сайта auto.ru. Ссылки на датасеты представлены ниже:\n",
    "\n",
    "<!-- cars_1 https://www.kaggle.com/datasets/avikasliwal/used-cars-price-prediction?resource=download -->\n",
    "\n",
    "cars https://www.kaggle.com/datasets/slavapasedko/belarus-used-cars-prices\n",
    "\n",
    "<!-- cars_3 https://www.kaggle.com/datasets/vijayaadithyanvg/car-price-predictionused-cars?resource=download -->\n",
    "\n"
   ]
  },
  {
   "cell_type": "markdown",
   "id": "a089e802",
   "metadata": {},
   "source": [
    "## Произведем необходимые импорты"
   ]
  },
  {
   "cell_type": "code",
   "execution_count": 110,
   "id": "51337da5",
   "metadata": {},
   "outputs": [],
   "source": [
    "import pandas as pd\n",
    "import numpy as np\n",
    "import seaborn as sns\n",
    "import matplotlib.pyplot as plt\n",
    "\n",
    "RANDOM_SEED = 123452024\n",
    "import warnings\n",
    "warnings.filterwarnings(\"ignore\")"
   ]
  },
  {
   "cell_type": "markdown",
   "id": "fd6b1ae9",
   "metadata": {},
   "source": [
    "## Загрузим датасет"
   ]
  },
  {
   "cell_type": "markdown",
   "id": "c88ca829",
   "metadata": {},
   "source": [
    "**cars_1**"
   ]
  },
  {
   "cell_type": "code",
   "execution_count": 111,
   "id": "37ba5d5a",
   "metadata": {},
   "outputs": [],
   "source": [
    "# # cars_1= pd.read_csv('cars_1.csv',index_col='Unnamed: 0')\n",
    "# cars_1.sample(2)"
   ]
  },
  {
   "cell_type": "code",
   "execution_count": 112,
   "id": "28dfbfef",
   "metadata": {},
   "outputs": [],
   "source": [
    "# cars_1.head(20)"
   ]
  },
  {
   "cell_type": "markdown",
   "id": "101486fd",
   "metadata": {},
   "source": [
    "**cars_2**"
   ]
  },
  {
   "cell_type": "code",
   "execution_count": 60,
   "id": "3d8519d3",
   "metadata": {},
   "outputs": [
    {
     "data": {
      "text/html": [
       "<div>\n",
       "<style scoped>\n",
       "    .dataframe tbody tr th:only-of-type {\n",
       "        vertical-align: middle;\n",
       "    }\n",
       "\n",
       "    .dataframe tbody tr th {\n",
       "        vertical-align: top;\n",
       "    }\n",
       "\n",
       "    .dataframe thead th {\n",
       "        text-align: right;\n",
       "    }\n",
       "</style>\n",
       "<table border=\"1\" class=\"dataframe\">\n",
       "  <thead>\n",
       "    <tr style=\"text-align: right;\">\n",
       "      <th></th>\n",
       "      <th>make</th>\n",
       "      <th>model</th>\n",
       "      <th>priceUSD</th>\n",
       "      <th>year</th>\n",
       "      <th>condition</th>\n",
       "      <th>mileage(kilometers)</th>\n",
       "      <th>fuel_type</th>\n",
       "      <th>volume(cm3)</th>\n",
       "      <th>color</th>\n",
       "      <th>transmission</th>\n",
       "      <th>drive_unit</th>\n",
       "      <th>segment</th>\n",
       "    </tr>\n",
       "  </thead>\n",
       "  <tbody>\n",
       "    <tr>\n",
       "      <th>19464</th>\n",
       "      <td>porsche</td>\n",
       "      <td>cayenne</td>\n",
       "      <td>14499</td>\n",
       "      <td>2008</td>\n",
       "      <td>with mileage</td>\n",
       "      <td>237000.0</td>\n",
       "      <td>petrol</td>\n",
       "      <td>3600.0</td>\n",
       "      <td>black</td>\n",
       "      <td>auto</td>\n",
       "      <td>all-wheel drive</td>\n",
       "      <td>J</td>\n",
       "    </tr>\n",
       "    <tr>\n",
       "      <th>42138</th>\n",
       "      <td>nissan</td>\n",
       "      <td>qashqai</td>\n",
       "      <td>8900</td>\n",
       "      <td>2007</td>\n",
       "      <td>with mileage</td>\n",
       "      <td>228100.0</td>\n",
       "      <td>petrol</td>\n",
       "      <td>2000.0</td>\n",
       "      <td>black</td>\n",
       "      <td>auto</td>\n",
       "      <td>front-wheel drive</td>\n",
       "      <td>J</td>\n",
       "    </tr>\n",
       "  </tbody>\n",
       "</table>\n",
       "</div>"
      ],
      "text/plain": [
       "          make    model  priceUSD  year     condition  mileage(kilometers)  \\\n",
       "19464  porsche  cayenne     14499  2008  with mileage             237000.0   \n",
       "42138   nissan  qashqai      8900  2007  with mileage             228100.0   \n",
       "\n",
       "      fuel_type  volume(cm3)  color transmission         drive_unit segment  \n",
       "19464    petrol       3600.0  black         auto    all-wheel drive       J  \n",
       "42138    petrol       2000.0  black         auto  front-wheel drive       J  "
      ]
     },
     "execution_count": 60,
     "metadata": {},
     "output_type": "execute_result"
    }
   ],
   "source": [
    "cars = pd.read_csv('cars_2.csv')\n",
    "cars.sample(2)"
   ]
  },
  {
   "cell_type": "markdown",
   "id": "22521c3e",
   "metadata": {},
   "source": [
    "**cars_3**"
   ]
  },
  {
   "cell_type": "code",
   "execution_count": 61,
   "id": "4f50824a",
   "metadata": {},
   "outputs": [],
   "source": [
    "# cars_3 = pd.read_csv('cars_3.csv')\n",
    "# cars_3.sample(10)"
   ]
  },
  {
   "cell_type": "code",
   "execution_count": 62,
   "id": "51c0a914",
   "metadata": {},
   "outputs": [],
   "source": [
    "# cars_2.loc[cars_2['make']=='Land Rover']"
   ]
  },
  {
   "cell_type": "code",
   "execution_count": 63,
   "id": "8d46fc26",
   "metadata": {},
   "outputs": [],
   "source": [
    "# cars_2['make'].unique()"
   ]
  },
  {
   "cell_type": "code",
   "execution_count": 64,
   "id": "45fda0d7",
   "metadata": {},
   "outputs": [],
   "source": [
    "# cars_1['make'] = cars_1['Name'].apply(lambda x: x.split()[0])"
   ]
  },
  {
   "cell_type": "code",
   "execution_count": 65,
   "id": "93afcf08",
   "metadata": {},
   "outputs": [],
   "source": [
    "# cars_1"
   ]
  },
  {
   "cell_type": "code",
   "execution_count": 66,
   "id": "3f1b58e2",
   "metadata": {},
   "outputs": [],
   "source": [
    "# cars_2.info()"
   ]
  },
  {
   "cell_type": "markdown",
   "id": "bf93e455",
   "metadata": {},
   "source": [
    "## EDA"
   ]
  },
  {
   "cell_type": "markdown",
   "id": "9908aae7",
   "metadata": {},
   "source": [
    "Изучим датасет, чтобы было понятно в какую сторону нужно двигаться."
   ]
  },
  {
   "cell_type": "code",
   "execution_count": 67,
   "id": "e0968eee",
   "metadata": {},
   "outputs": [
    {
     "name": "stdout",
     "output_type": "stream",
     "text": [
      "<class 'pandas.core.frame.DataFrame'>\n",
      "RangeIndex: 56244 entries, 0 to 56243\n",
      "Data columns (total 12 columns):\n",
      " #   Column               Non-Null Count  Dtype  \n",
      "---  ------               --------------  -----  \n",
      " 0   make                 56244 non-null  object \n",
      " 1   model                56244 non-null  object \n",
      " 2   priceUSD             56244 non-null  int64  \n",
      " 3   year                 56244 non-null  int64  \n",
      " 4   condition            56244 non-null  object \n",
      " 5   mileage(kilometers)  56244 non-null  float64\n",
      " 6   fuel_type            56244 non-null  object \n",
      " 7   volume(cm3)          56197 non-null  float64\n",
      " 8   color                56244 non-null  object \n",
      " 9   transmission         56244 non-null  object \n",
      " 10  drive_unit           54339 non-null  object \n",
      " 11  segment              50953 non-null  object \n",
      "dtypes: float64(2), int64(2), object(8)\n",
      "memory usage: 5.1+ MB\n"
     ]
    }
   ],
   "source": [
    "cars.info()"
   ]
  },
  {
   "cell_type": "markdown",
   "id": "803e6e25",
   "metadata": {},
   "source": [
    "Из информации о датасете становится понятно, что имеется 8 текстовых признаков, 2 целочисленных и 2 дробных признака. Датасет имеет 56243 записи, что отлично подходит для его изучения."
   ]
  },
  {
   "cell_type": "markdown",
   "id": "cf60553f",
   "metadata": {},
   "source": [
    "### Пропуски в данных"
   ]
  },
  {
   "cell_type": "markdown",
   "id": "17813643",
   "metadata": {},
   "source": [
    "Изучим количество пропусков в датасете"
   ]
  },
  {
   "cell_type": "code",
   "execution_count": 68,
   "id": "b86170c1",
   "metadata": {},
   "outputs": [
    {
     "data": {
      "text/plain": [
       "make                      0\n",
       "model                     0\n",
       "priceUSD                  0\n",
       "year                      0\n",
       "condition                 0\n",
       "mileage(kilometers)       0\n",
       "fuel_type                 0\n",
       "volume(cm3)              47\n",
       "color                     0\n",
       "transmission              0\n",
       "drive_unit             1905\n",
       "segment                5291\n",
       "dtype: int64"
      ]
     },
     "execution_count": 68,
     "metadata": {},
     "output_type": "execute_result"
    }
   ],
   "source": [
    "cars.isna().sum()"
   ]
  },
  {
   "cell_type": "markdown",
   "id": "2506f6b7",
   "metadata": {},
   "source": [
    "Пропусков совсем небольшое количетсво. Нужно чуть подробнее изучить в каких случаях они повявляются, чтобы решить, что с ними можно сделать"
   ]
  },
  {
   "cell_type": "code",
   "execution_count": 69,
   "id": "fffb36b4",
   "metadata": {},
   "outputs": [
    {
     "data": {
      "text/html": [
       "<div>\n",
       "<style scoped>\n",
       "    .dataframe tbody tr th:only-of-type {\n",
       "        vertical-align: middle;\n",
       "    }\n",
       "\n",
       "    .dataframe tbody tr th {\n",
       "        vertical-align: top;\n",
       "    }\n",
       "\n",
       "    .dataframe thead th {\n",
       "        text-align: right;\n",
       "    }\n",
       "</style>\n",
       "<table border=\"1\" class=\"dataframe\">\n",
       "  <thead>\n",
       "    <tr style=\"text-align: right;\">\n",
       "      <th></th>\n",
       "      <th>make</th>\n",
       "      <th>model</th>\n",
       "      <th>priceUSD</th>\n",
       "      <th>year</th>\n",
       "      <th>condition</th>\n",
       "      <th>mileage(kilometers)</th>\n",
       "      <th>fuel_type</th>\n",
       "      <th>volume(cm3)</th>\n",
       "      <th>color</th>\n",
       "      <th>transmission</th>\n",
       "      <th>drive_unit</th>\n",
       "      <th>segment</th>\n",
       "    </tr>\n",
       "  </thead>\n",
       "  <tbody>\n",
       "    <tr>\n",
       "      <th>2268</th>\n",
       "      <td>alfa-romeo</td>\n",
       "      <td>147</td>\n",
       "      <td>8097</td>\n",
       "      <td>2007</td>\n",
       "      <td>with mileage</td>\n",
       "      <td>700.0</td>\n",
       "      <td>electrocar</td>\n",
       "      <td>NaN</td>\n",
       "      <td>burgundy</td>\n",
       "      <td>mechanics</td>\n",
       "      <td>NaN</td>\n",
       "      <td>C</td>\n",
       "    </tr>\n",
       "    <tr>\n",
       "      <th>4377</th>\n",
       "      <td>peugeot</td>\n",
       "      <td>406</td>\n",
       "      <td>5780</td>\n",
       "      <td>1995</td>\n",
       "      <td>with mileage</td>\n",
       "      <td>333333.0</td>\n",
       "      <td>electrocar</td>\n",
       "      <td>NaN</td>\n",
       "      <td>silver</td>\n",
       "      <td>auto</td>\n",
       "      <td>front-wheel drive</td>\n",
       "      <td>D</td>\n",
       "    </tr>\n",
       "    <tr>\n",
       "      <th>4865</th>\n",
       "      <td>fiat</td>\n",
       "      <td>500</td>\n",
       "      <td>14500</td>\n",
       "      <td>2014</td>\n",
       "      <td>with mileage</td>\n",
       "      <td>49000.0</td>\n",
       "      <td>electrocar</td>\n",
       "      <td>NaN</td>\n",
       "      <td>orange</td>\n",
       "      <td>auto</td>\n",
       "      <td>front-wheel drive</td>\n",
       "      <td>M</td>\n",
       "    </tr>\n",
       "    <tr>\n",
       "      <th>4867</th>\n",
       "      <td>fiat</td>\n",
       "      <td>500</td>\n",
       "      <td>13200</td>\n",
       "      <td>2013</td>\n",
       "      <td>with mileage</td>\n",
       "      <td>59900.0</td>\n",
       "      <td>electrocar</td>\n",
       "      <td>NaN</td>\n",
       "      <td>gray</td>\n",
       "      <td>auto</td>\n",
       "      <td>front-wheel drive</td>\n",
       "      <td>M</td>\n",
       "    </tr>\n",
       "    <tr>\n",
       "      <th>4868</th>\n",
       "      <td>fiat</td>\n",
       "      <td>500</td>\n",
       "      <td>14500</td>\n",
       "      <td>2015</td>\n",
       "      <td>with mileage</td>\n",
       "      <td>30000.0</td>\n",
       "      <td>electrocar</td>\n",
       "      <td>NaN</td>\n",
       "      <td>gray</td>\n",
       "      <td>auto</td>\n",
       "      <td>front-wheel drive</td>\n",
       "      <td>M</td>\n",
       "    </tr>\n",
       "    <tr>\n",
       "      <th>23577</th>\n",
       "      <td>cadillac</td>\n",
       "      <td>elr</td>\n",
       "      <td>25900</td>\n",
       "      <td>2014</td>\n",
       "      <td>with mileage</td>\n",
       "      <td>70000.0</td>\n",
       "      <td>electrocar</td>\n",
       "      <td>NaN</td>\n",
       "      <td>silver</td>\n",
       "      <td>auto</td>\n",
       "      <td>front-wheel drive</td>\n",
       "      <td>NaN</td>\n",
       "    </tr>\n",
       "    <tr>\n",
       "      <th>29346</th>\n",
       "      <td>bmw</td>\n",
       "      <td>i3</td>\n",
       "      <td>38000</td>\n",
       "      <td>2018</td>\n",
       "      <td>with mileage</td>\n",
       "      <td>67000.0</td>\n",
       "      <td>electrocar</td>\n",
       "      <td>NaN</td>\n",
       "      <td>other</td>\n",
       "      <td>auto</td>\n",
       "      <td>rear drive</td>\n",
       "      <td>NaN</td>\n",
       "    </tr>\n",
       "    <tr>\n",
       "      <th>29347</th>\n",
       "      <td>bmw</td>\n",
       "      <td>i3</td>\n",
       "      <td>57383</td>\n",
       "      <td>2017</td>\n",
       "      <td>with mileage</td>\n",
       "      <td>2822.0</td>\n",
       "      <td>electrocar</td>\n",
       "      <td>NaN</td>\n",
       "      <td>blue</td>\n",
       "      <td>auto</td>\n",
       "      <td>rear drive</td>\n",
       "      <td>NaN</td>\n",
       "    </tr>\n",
       "    <tr>\n",
       "      <th>29350</th>\n",
       "      <td>bmw</td>\n",
       "      <td>i3</td>\n",
       "      <td>22900</td>\n",
       "      <td>2014</td>\n",
       "      <td>with mileage</td>\n",
       "      <td>71500.0</td>\n",
       "      <td>electrocar</td>\n",
       "      <td>NaN</td>\n",
       "      <td>silver</td>\n",
       "      <td>auto</td>\n",
       "      <td>rear drive</td>\n",
       "      <td>NaN</td>\n",
       "    </tr>\n",
       "    <tr>\n",
       "      <th>29351</th>\n",
       "      <td>bmw</td>\n",
       "      <td>i3</td>\n",
       "      <td>22900</td>\n",
       "      <td>2015</td>\n",
       "      <td>with mileage</td>\n",
       "      <td>50000.0</td>\n",
       "      <td>electrocar</td>\n",
       "      <td>NaN</td>\n",
       "      <td>black</td>\n",
       "      <td>auto</td>\n",
       "      <td>rear drive</td>\n",
       "      <td>NaN</td>\n",
       "    </tr>\n",
       "  </tbody>\n",
       "</table>\n",
       "</div>"
      ],
      "text/plain": [
       "             make model  priceUSD  year     condition  mileage(kilometers)  \\\n",
       "2268   alfa-romeo   147      8097  2007  with mileage                700.0   \n",
       "4377      peugeot   406      5780  1995  with mileage             333333.0   \n",
       "4865         fiat   500     14500  2014  with mileage              49000.0   \n",
       "4867         fiat   500     13200  2013  with mileage              59900.0   \n",
       "4868         fiat   500     14500  2015  with mileage              30000.0   \n",
       "23577    cadillac   elr     25900  2014  with mileage              70000.0   \n",
       "29346         bmw    i3     38000  2018  with mileage              67000.0   \n",
       "29347         bmw    i3     57383  2017  with mileage               2822.0   \n",
       "29350         bmw    i3     22900  2014  with mileage              71500.0   \n",
       "29351         bmw    i3     22900  2015  with mileage              50000.0   \n",
       "\n",
       "        fuel_type  volume(cm3)     color transmission         drive_unit  \\\n",
       "2268   electrocar          NaN  burgundy    mechanics                NaN   \n",
       "4377   electrocar          NaN    silver         auto  front-wheel drive   \n",
       "4865   electrocar          NaN    orange         auto  front-wheel drive   \n",
       "4867   electrocar          NaN      gray         auto  front-wheel drive   \n",
       "4868   electrocar          NaN      gray         auto  front-wheel drive   \n",
       "23577  electrocar          NaN    silver         auto  front-wheel drive   \n",
       "29346  electrocar          NaN     other         auto         rear drive   \n",
       "29347  electrocar          NaN      blue         auto         rear drive   \n",
       "29350  electrocar          NaN    silver         auto         rear drive   \n",
       "29351  electrocar          NaN     black         auto         rear drive   \n",
       "\n",
       "      segment  \n",
       "2268        C  \n",
       "4377        D  \n",
       "4865        M  \n",
       "4867        M  \n",
       "4868        M  \n",
       "23577     NaN  \n",
       "29346     NaN  \n",
       "29347     NaN  \n",
       "29350     NaN  \n",
       "29351     NaN  "
      ]
     },
     "execution_count": 69,
     "metadata": {},
     "output_type": "execute_result"
    }
   ],
   "source": [
    "cars.loc[cars['volume(cm3)'].isna()].head(10)"
   ]
  },
  {
   "cell_type": "markdown",
   "id": "094b2eec",
   "metadata": {},
   "source": [
    "Можем увидеть, что пропуски в объеме двигателя связаны с тем, что в датасете есть электрокары. Постараемся избавиться от этих пропусков заменой на значение 0, потому что этот признак означает налиичие двигателя внутреннего сгорания. У электрокаров такой двигатель отсутствует, значит мы можем указать, что его объем равен 0.\n",
    "\n",
    "В двух других признаках нет каких-то явных причин появления пропусков, поэтому постараемся их заполнить после того, как изучим распределения этих переменных."
   ]
  },
  {
   "cell_type": "code",
   "execution_count": 70,
   "id": "1afb94fe",
   "metadata": {},
   "outputs": [],
   "source": [
    "cars['volume(cm3)'] = cars['volume(cm3)'].fillna(0)"
   ]
  },
  {
   "cell_type": "code",
   "execution_count": 71,
   "id": "1d25da6b",
   "metadata": {},
   "outputs": [
    {
     "data": {
      "text/plain": [
       "make                      0\n",
       "model                     0\n",
       "priceUSD                  0\n",
       "year                      0\n",
       "condition                 0\n",
       "mileage(kilometers)       0\n",
       "fuel_type                 0\n",
       "volume(cm3)               0\n",
       "color                     0\n",
       "transmission              0\n",
       "drive_unit             1905\n",
       "segment                5291\n",
       "dtype: int64"
      ]
     },
     "execution_count": 71,
     "metadata": {},
     "output_type": "execute_result"
    }
   ],
   "source": [
    "cars.isna().sum()"
   ]
  },
  {
   "cell_type": "markdown",
   "id": "6ca91dbb",
   "metadata": {},
   "source": [
    "В признаках drive_unit и segment заменим пропуски на новую категорию \"unknown\""
   ]
  },
  {
   "cell_type": "code",
   "execution_count": 113,
   "id": "4a5890fb",
   "metadata": {},
   "outputs": [
    {
     "data": {
      "text/plain": [
       "make                   0\n",
       "model                  0\n",
       "priceUSD               0\n",
       "year                   0\n",
       "condition              0\n",
       "mileage(kilometers)    0\n",
       "fuel_type              0\n",
       "volume(cm3)            0\n",
       "color                  0\n",
       "transmission           0\n",
       "drive_unit             0\n",
       "segment                0\n",
       "dtype: int64"
      ]
     },
     "execution_count": 113,
     "metadata": {},
     "output_type": "execute_result"
    }
   ],
   "source": [
    "cars['drive_unit'] = cars['drive_unit'].fillna('unknown')\n",
    "cars['segment'] = cars['segment'].fillna('unknown')\n",
    "cars.isna().sum()"
   ]
  },
  {
   "cell_type": "markdown",
   "id": "a482fa4d",
   "metadata": {},
   "source": [
    "### Явные дубликаты "
   ]
  },
  {
   "cell_type": "markdown",
   "id": "94da04da",
   "metadata": {},
   "source": [
    "Стоит избавиться от всех явных дубликатов, то есть таких строк, которые повторяются."
   ]
  },
  {
   "cell_type": "code",
   "execution_count": 114,
   "id": "9cb32288",
   "metadata": {
    "scrolled": true
   },
   "outputs": [
    {
     "data": {
      "text/plain": [
       "87"
      ]
     },
     "execution_count": 114,
     "metadata": {},
     "output_type": "execute_result"
    }
   ],
   "source": [
    "cars.duplicated().sum()"
   ]
  },
  {
   "cell_type": "markdown",
   "id": "579973ea",
   "metadata": {},
   "source": [
    "Видим, что встроенный метод в pandas обнаружил 87 явных дубликата. Дубликаты никакой ценности для нас не несут, но реальность такова, что в таких данных(без какого-то более менее уникального признака) трудно сказать является ли запись дубликатом, постараемся это понять."
   ]
  },
  {
   "cell_type": "code",
   "execution_count": 115,
   "id": "589e5b14",
   "metadata": {
    "scrolled": true
   },
   "outputs": [
    {
     "data": {
      "text/html": [
       "<div>\n",
       "<style scoped>\n",
       "    .dataframe tbody tr th:only-of-type {\n",
       "        vertical-align: middle;\n",
       "    }\n",
       "\n",
       "    .dataframe tbody tr th {\n",
       "        vertical-align: top;\n",
       "    }\n",
       "\n",
       "    .dataframe thead th {\n",
       "        text-align: right;\n",
       "    }\n",
       "</style>\n",
       "<table border=\"1\" class=\"dataframe\">\n",
       "  <thead>\n",
       "    <tr style=\"text-align: right;\">\n",
       "      <th></th>\n",
       "      <th>make</th>\n",
       "      <th>model</th>\n",
       "      <th>priceUSD</th>\n",
       "      <th>year</th>\n",
       "      <th>condition</th>\n",
       "      <th>mileage(kilometers)</th>\n",
       "      <th>fuel_type</th>\n",
       "      <th>volume(cm3)</th>\n",
       "      <th>color</th>\n",
       "      <th>transmission</th>\n",
       "      <th>drive_unit</th>\n",
       "      <th>segment</th>\n",
       "    </tr>\n",
       "  </thead>\n",
       "  <tbody>\n",
       "    <tr>\n",
       "      <th>1930</th>\n",
       "      <td>audi</td>\n",
       "      <td>100</td>\n",
       "      <td>1280</td>\n",
       "      <td>1991</td>\n",
       "      <td>with mileage</td>\n",
       "      <td>305000.0</td>\n",
       "      <td>petrol</td>\n",
       "      <td>2300.0</td>\n",
       "      <td>red</td>\n",
       "      <td>mechanics</td>\n",
       "      <td>front-wheel drive</td>\n",
       "      <td>E</td>\n",
       "    </tr>\n",
       "    <tr>\n",
       "      <th>2054</th>\n",
       "      <td>audi</td>\n",
       "      <td>100</td>\n",
       "      <td>2000</td>\n",
       "      <td>1988</td>\n",
       "      <td>with mileage</td>\n",
       "      <td>350000.0</td>\n",
       "      <td>petrol</td>\n",
       "      <td>2300.0</td>\n",
       "      <td>blue</td>\n",
       "      <td>mechanics</td>\n",
       "      <td>front-wheel drive</td>\n",
       "      <td>E</td>\n",
       "    </tr>\n",
       "    <tr>\n",
       "      <th>2140</th>\n",
       "      <td>audi</td>\n",
       "      <td>100</td>\n",
       "      <td>1100</td>\n",
       "      <td>1989</td>\n",
       "      <td>with mileage</td>\n",
       "      <td>350000.0</td>\n",
       "      <td>petrol</td>\n",
       "      <td>2300.0</td>\n",
       "      <td>burgundy</td>\n",
       "      <td>mechanics</td>\n",
       "      <td>front-wheel drive</td>\n",
       "      <td>E</td>\n",
       "    </tr>\n",
       "    <tr>\n",
       "      <th>2179</th>\n",
       "      <td>peugeot</td>\n",
       "      <td>106</td>\n",
       "      <td>700</td>\n",
       "      <td>2000</td>\n",
       "      <td>with mileage</td>\n",
       "      <td>27000.0</td>\n",
       "      <td>diesel</td>\n",
       "      <td>1500.0</td>\n",
       "      <td>blue</td>\n",
       "      <td>mechanics</td>\n",
       "      <td>front-wheel drive</td>\n",
       "      <td>B</td>\n",
       "    </tr>\n",
       "    <tr>\n",
       "      <th>4334</th>\n",
       "      <td>peugeot</td>\n",
       "      <td>406</td>\n",
       "      <td>2200</td>\n",
       "      <td>1995</td>\n",
       "      <td>with mileage</td>\n",
       "      <td>330000.0</td>\n",
       "      <td>petrol</td>\n",
       "      <td>1800.0</td>\n",
       "      <td>gray</td>\n",
       "      <td>mechanics</td>\n",
       "      <td>front-wheel drive</td>\n",
       "      <td>D</td>\n",
       "    </tr>\n",
       "    <tr>\n",
       "      <th>...</th>\n",
       "      <td>...</td>\n",
       "      <td>...</td>\n",
       "      <td>...</td>\n",
       "      <td>...</td>\n",
       "      <td>...</td>\n",
       "      <td>...</td>\n",
       "      <td>...</td>\n",
       "      <td>...</td>\n",
       "      <td>...</td>\n",
       "      <td>...</td>\n",
       "      <td>...</td>\n",
       "      <td>...</td>\n",
       "    </tr>\n",
       "    <tr>\n",
       "      <th>53694</th>\n",
       "      <td>bmw</td>\n",
       "      <td>x5</td>\n",
       "      <td>16500</td>\n",
       "      <td>2007</td>\n",
       "      <td>with mileage</td>\n",
       "      <td>265000.0</td>\n",
       "      <td>diesel</td>\n",
       "      <td>3000.0</td>\n",
       "      <td>white</td>\n",
       "      <td>auto</td>\n",
       "      <td>all-wheel drive</td>\n",
       "      <td>J</td>\n",
       "    </tr>\n",
       "    <tr>\n",
       "      <th>53828</th>\n",
       "      <td>bmw</td>\n",
       "      <td>x5</td>\n",
       "      <td>10000</td>\n",
       "      <td>2005</td>\n",
       "      <td>with mileage</td>\n",
       "      <td>231000.0</td>\n",
       "      <td>petrol</td>\n",
       "      <td>3000.0</td>\n",
       "      <td>black</td>\n",
       "      <td>auto</td>\n",
       "      <td>all-wheel drive</td>\n",
       "      <td>J</td>\n",
       "    </tr>\n",
       "    <tr>\n",
       "      <th>54264</th>\n",
       "      <td>citroen</td>\n",
       "      <td>xantia</td>\n",
       "      <td>1800</td>\n",
       "      <td>1999</td>\n",
       "      <td>with mileage</td>\n",
       "      <td>300000.0</td>\n",
       "      <td>petrol</td>\n",
       "      <td>1800.0</td>\n",
       "      <td>black</td>\n",
       "      <td>mechanics</td>\n",
       "      <td>front-wheel drive</td>\n",
       "      <td>D</td>\n",
       "    </tr>\n",
       "    <tr>\n",
       "      <th>55763</th>\n",
       "      <td>opel</td>\n",
       "      <td>zafira</td>\n",
       "      <td>4700</td>\n",
       "      <td>2002</td>\n",
       "      <td>with mileage</td>\n",
       "      <td>320000.0</td>\n",
       "      <td>diesel</td>\n",
       "      <td>2000.0</td>\n",
       "      <td>silver</td>\n",
       "      <td>mechanics</td>\n",
       "      <td>front-wheel drive</td>\n",
       "      <td>M</td>\n",
       "    </tr>\n",
       "    <tr>\n",
       "      <th>56173</th>\n",
       "      <td>opel</td>\n",
       "      <td>zafira</td>\n",
       "      <td>6700</td>\n",
       "      <td>2006</td>\n",
       "      <td>with mileage</td>\n",
       "      <td>293628.0</td>\n",
       "      <td>diesel</td>\n",
       "      <td>1900.0</td>\n",
       "      <td>black</td>\n",
       "      <td>mechanics</td>\n",
       "      <td>front-wheel drive</td>\n",
       "      <td>M</td>\n",
       "    </tr>\n",
       "  </tbody>\n",
       "</table>\n",
       "<p>87 rows × 12 columns</p>\n",
       "</div>"
      ],
      "text/plain": [
       "          make   model  priceUSD  year     condition  mileage(kilometers)  \\\n",
       "1930      audi     100      1280  1991  with mileage             305000.0   \n",
       "2054      audi     100      2000  1988  with mileage             350000.0   \n",
       "2140      audi     100      1100  1989  with mileage             350000.0   \n",
       "2179   peugeot     106       700  2000  with mileage              27000.0   \n",
       "4334   peugeot     406      2200  1995  with mileage             330000.0   \n",
       "...        ...     ...       ...   ...           ...                  ...   \n",
       "53694      bmw      x5     16500  2007  with mileage             265000.0   \n",
       "53828      bmw      x5     10000  2005  with mileage             231000.0   \n",
       "54264  citroen  xantia      1800  1999  with mileage             300000.0   \n",
       "55763     opel  zafira      4700  2002  with mileage             320000.0   \n",
       "56173     opel  zafira      6700  2006  with mileage             293628.0   \n",
       "\n",
       "      fuel_type  volume(cm3)     color transmission         drive_unit segment  \n",
       "1930     petrol       2300.0       red    mechanics  front-wheel drive       E  \n",
       "2054     petrol       2300.0      blue    mechanics  front-wheel drive       E  \n",
       "2140     petrol       2300.0  burgundy    mechanics  front-wheel drive       E  \n",
       "2179     diesel       1500.0      blue    mechanics  front-wheel drive       B  \n",
       "4334     petrol       1800.0      gray    mechanics  front-wheel drive       D  \n",
       "...         ...          ...       ...          ...                ...     ...  \n",
       "53694    diesel       3000.0     white         auto    all-wheel drive       J  \n",
       "53828    petrol       3000.0     black         auto    all-wheel drive       J  \n",
       "54264    petrol       1800.0     black    mechanics  front-wheel drive       D  \n",
       "55763    diesel       2000.0    silver    mechanics  front-wheel drive       M  \n",
       "56173    diesel       1900.0     black    mechanics  front-wheel drive       M  \n",
       "\n",
       "[87 rows x 12 columns]"
      ]
     },
     "execution_count": 115,
     "metadata": {},
     "output_type": "execute_result"
    }
   ],
   "source": [
    "cars[cars.duplicated()]"
   ]
  },
  {
   "cell_type": "code",
   "execution_count": 116,
   "id": "7c1497de",
   "metadata": {},
   "outputs": [],
   "source": [
    "# cars = cars.drop_duplicates()\n",
    "# cars.duplicated().sum()"
   ]
  },
  {
   "cell_type": "markdown",
   "id": "a209fe49",
   "metadata": {},
   "source": [
    "В целом данные не выглядят так, будто в них есть дубликаты, скорее всего это просто совпадение.\n",
    "\n",
    "Поэтому дубликаты удалять не будем"
   ]
  },
  {
   "cell_type": "markdown",
   "id": "23f4f894",
   "metadata": {},
   "source": [
    "### Визуализация и поиск выбросов"
   ]
  },
  {
   "cell_type": "code",
   "execution_count": 117,
   "id": "2c7c0dcc",
   "metadata": {},
   "outputs": [
    {
     "data": {
      "image/png": "[encoded data removed]",
      "text/plain": [
       "<Figure size 640x480 with 1 Axes>"
      ]
     },
     "metadata": {},
     "output_type": "display_data"
    }
   ],
   "source": [
    "sns.boxplot(data=cars);"
   ]
  },
  {
   "cell_type": "markdown",
   "id": "cecb634e",
   "metadata": {},
   "source": [
    "**PriceUSD**"
   ]
  },
  {
   "cell_type": "code",
   "execution_count": 118,
   "id": "639b790a",
   "metadata": {
    "scrolled": false
   },
   "outputs": [
    {
     "data": {
      "image/png": "[encoded data removed]",
      "text/plain": [
       "<Figure size 640x480 with 1 Axes>"
      ]
     },
     "metadata": {},
     "output_type": "display_data"
    }
   ],
   "source": [
    "sns.boxplot(data=cars['priceUSD']);\n",
    "plt.xlabel('Признак \"Цена автомобиля\"');\n",
    "plt.ylabel('Цена в USD');\n",
    "plt.title('График \"ящик с усами\" для признака \"Цена автомобиля\"');"
   ]
  },
  {
   "cell_type": "markdown",
   "id": "14971c82",
   "metadata": {},
   "source": [
    "В целом, данный график нам говорит о том, что много значений выбросов, но проблема в том, что скорее всего эти выбросы могут быть просто очень дорогими машинами, которые действительно стоят этих денег. \n",
    "\n",
    "Поэтому для этого признака нет необходимости делать что-то с выбросами.\n"
   ]
  },
  {
   "cell_type": "markdown",
   "id": "ec895f3b",
   "metadata": {},
   "source": [
    "**year**"
   ]
  },
  {
   "cell_type": "code",
   "execution_count": 119,
   "id": "0339e98b",
   "metadata": {},
   "outputs": [
    {
     "data": {
      "image/png": "[encoded data removed]",
      "text/plain": [
       "<Figure size 640x480 with 1 Axes>"
      ]
     },
     "metadata": {},
     "output_type": "display_data"
    }
   ],
   "source": [
    "sns.boxplot(data=cars['year']);\n",
    "plt.xlabel('Признак \"Год выпуска автомобиля\"');\n",
    "plt.ylabel('Год выпуска');\n",
    "plt.title('График \"ящик с усами\" для признака \"Год выпуска\"');"
   ]
  },
  {
   "cell_type": "markdown",
   "id": "8e23a972",
   "metadata": {},
   "source": [
    "Тут нужно уделить внимание машинам до 1980 года, попробуем определить не попали ли туда современные машины. В целом даты выпуска примерно похожи на правду и такие автомобили правда могут быть выложены на продажу."
   ]
  },
  {
   "cell_type": "code",
   "execution_count": 120,
   "id": "a742606d",
   "metadata": {},
   "outputs": [
    {
     "data": {
      "text/html": [
       "<div>\n",
       "<style scoped>\n",
       "    .dataframe tbody tr th:only-of-type {\n",
       "        vertical-align: middle;\n",
       "    }\n",
       "\n",
       "    .dataframe tbody tr th {\n",
       "        vertical-align: top;\n",
       "    }\n",
       "\n",
       "    .dataframe thead th {\n",
       "        text-align: right;\n",
       "    }\n",
       "</style>\n",
       "<table border=\"1\" class=\"dataframe\">\n",
       "  <thead>\n",
       "    <tr style=\"text-align: right;\">\n",
       "      <th></th>\n",
       "      <th>make</th>\n",
       "      <th>model</th>\n",
       "      <th>priceUSD</th>\n",
       "      <th>year</th>\n",
       "      <th>condition</th>\n",
       "      <th>mileage(kilometers)</th>\n",
       "      <th>fuel_type</th>\n",
       "      <th>volume(cm3)</th>\n",
       "      <th>color</th>\n",
       "      <th>transmission</th>\n",
       "      <th>drive_unit</th>\n",
       "      <th>segment</th>\n",
       "    </tr>\n",
       "  </thead>\n",
       "  <tbody>\n",
       "    <tr>\n",
       "      <th>33002</th>\n",
       "      <td>gaz</td>\n",
       "      <td>m-20-pobeda</td>\n",
       "      <td>3500</td>\n",
       "      <td>1954</td>\n",
       "      <td>with mileage</td>\n",
       "      <td>100.0</td>\n",
       "      <td>petrol</td>\n",
       "      <td>2500.0</td>\n",
       "      <td>brown</td>\n",
       "      <td>mechanics</td>\n",
       "      <td>front-wheel drive</td>\n",
       "      <td>unknown</td>\n",
       "    </tr>\n",
       "    <tr>\n",
       "      <th>878</th>\n",
       "      <td>gaz</td>\n",
       "      <td>21</td>\n",
       "      <td>4000</td>\n",
       "      <td>1959</td>\n",
       "      <td>with mileage</td>\n",
       "      <td>50000.0</td>\n",
       "      <td>petrol</td>\n",
       "      <td>2400.0</td>\n",
       "      <td>white</td>\n",
       "      <td>mechanics</td>\n",
       "      <td>unknown</td>\n",
       "      <td>E</td>\n",
       "    </tr>\n",
       "    <tr>\n",
       "      <th>879</th>\n",
       "      <td>gaz</td>\n",
       "      <td>21</td>\n",
       "      <td>8500</td>\n",
       "      <td>1968</td>\n",
       "      <td>with mileage</td>\n",
       "      <td>80000.0</td>\n",
       "      <td>petrol</td>\n",
       "      <td>2400.0</td>\n",
       "      <td>gray</td>\n",
       "      <td>mechanics</td>\n",
       "      <td>rear drive</td>\n",
       "      <td>E</td>\n",
       "    </tr>\n",
       "    <tr>\n",
       "      <th>863</th>\n",
       "      <td>gaz</td>\n",
       "      <td>21</td>\n",
       "      <td>999</td>\n",
       "      <td>1961</td>\n",
       "      <td>with mileage</td>\n",
       "      <td>0.0</td>\n",
       "      <td>petrol</td>\n",
       "      <td>2400.0</td>\n",
       "      <td>gray</td>\n",
       "      <td>mechanics</td>\n",
       "      <td>front-wheel drive</td>\n",
       "      <td>E</td>\n",
       "    </tr>\n",
       "    <tr>\n",
       "      <th>1076</th>\n",
       "      <td>gaz</td>\n",
       "      <td>69</td>\n",
       "      <td>2000</td>\n",
       "      <td>1954</td>\n",
       "      <td>with mileage</td>\n",
       "      <td>150000.0</td>\n",
       "      <td>petrol</td>\n",
       "      <td>2500.0</td>\n",
       "      <td>green</td>\n",
       "      <td>mechanics</td>\n",
       "      <td>all-wheel drive</td>\n",
       "      <td>unknown</td>\n",
       "    </tr>\n",
       "    <tr>\n",
       "      <th>4483</th>\n",
       "      <td>moskvich</td>\n",
       "      <td>407</td>\n",
       "      <td>10000</td>\n",
       "      <td>1959</td>\n",
       "      <td>with mileage</td>\n",
       "      <td>58000.0</td>\n",
       "      <td>petrol</td>\n",
       "      <td>1358.0</td>\n",
       "      <td>other</td>\n",
       "      <td>mechanics</td>\n",
       "      <td>rear drive</td>\n",
       "      <td>unknown</td>\n",
       "    </tr>\n",
       "    <tr>\n",
       "      <th>4726</th>\n",
       "      <td>moskvich</td>\n",
       "      <td>410</td>\n",
       "      <td>1379</td>\n",
       "      <td>1958</td>\n",
       "      <td>with mileage</td>\n",
       "      <td>50000.0</td>\n",
       "      <td>petrol</td>\n",
       "      <td>1400.0</td>\n",
       "      <td>red</td>\n",
       "      <td>mechanics</td>\n",
       "      <td>part-time four-wheel drive</td>\n",
       "      <td>unknown</td>\n",
       "    </tr>\n",
       "    <tr>\n",
       "      <th>43024</th>\n",
       "      <td>eksklyuziv</td>\n",
       "      <td>retro</td>\n",
       "      <td>50000</td>\n",
       "      <td>1933</td>\n",
       "      <td>with mileage</td>\n",
       "      <td>1.0</td>\n",
       "      <td>petrol</td>\n",
       "      <td>2400.0</td>\n",
       "      <td>black</td>\n",
       "      <td>mechanics</td>\n",
       "      <td>unknown</td>\n",
       "      <td>unknown</td>\n",
       "    </tr>\n",
       "    <tr>\n",
       "      <th>1048</th>\n",
       "      <td>gaz</td>\n",
       "      <td>67</td>\n",
       "      <td>9200</td>\n",
       "      <td>1948</td>\n",
       "      <td>with mileage</td>\n",
       "      <td>100000.0</td>\n",
       "      <td>petrol</td>\n",
       "      <td>3200.0</td>\n",
       "      <td>green</td>\n",
       "      <td>mechanics</td>\n",
       "      <td>part-time four-wheel drive</td>\n",
       "      <td>unknown</td>\n",
       "    </tr>\n",
       "    <tr>\n",
       "      <th>4487</th>\n",
       "      <td>moskvich</td>\n",
       "      <td>407</td>\n",
       "      <td>8300</td>\n",
       "      <td>1960</td>\n",
       "      <td>with mileage</td>\n",
       "      <td>300.0</td>\n",
       "      <td>petrol</td>\n",
       "      <td>1300.0</td>\n",
       "      <td>green</td>\n",
       "      <td>mechanics</td>\n",
       "      <td>rear drive</td>\n",
       "      <td>unknown</td>\n",
       "    </tr>\n",
       "  </tbody>\n",
       "</table>\n",
       "</div>"
      ],
      "text/plain": [
       "             make        model  priceUSD  year     condition  \\\n",
       "33002         gaz  m-20-pobeda      3500  1954  with mileage   \n",
       "878           gaz           21      4000  1959  with mileage   \n",
       "879           gaz           21      8500  1968  with mileage   \n",
       "863           gaz           21       999  1961  with mileage   \n",
       "1076          gaz           69      2000  1954  with mileage   \n",
       "4483     moskvich          407     10000  1959  with mileage   \n",
       "4726     moskvich          410      1379  1958  with mileage   \n",
       "43024  eksklyuziv        retro     50000  1933  with mileage   \n",
       "1048          gaz           67      9200  1948  with mileage   \n",
       "4487     moskvich          407      8300  1960  with mileage   \n",
       "\n",
       "       mileage(kilometers) fuel_type  volume(cm3)  color transmission  \\\n",
       "33002                100.0    petrol       2500.0  brown    mechanics   \n",
       "878                50000.0    petrol       2400.0  white    mechanics   \n",
       "879                80000.0    petrol       2400.0   gray    mechanics   \n",
       "863                    0.0    petrol       2400.0   gray    mechanics   \n",
       "1076              150000.0    petrol       2500.0  green    mechanics   \n",
       "4483               58000.0    petrol       1358.0  other    mechanics   \n",
       "4726               50000.0    petrol       1400.0    red    mechanics   \n",
       "43024                  1.0    petrol       2400.0  black    mechanics   \n",
       "1048              100000.0    petrol       3200.0  green    mechanics   \n",
       "4487                 300.0    petrol       1300.0  green    mechanics   \n",
       "\n",
       "                       drive_unit  segment  \n",
       "33002           front-wheel drive  unknown  \n",
       "878                       unknown        E  \n",
       "879                    rear drive        E  \n",
       "863             front-wheel drive        E  \n",
       "1076              all-wheel drive  unknown  \n",
       "4483                   rear drive  unknown  \n",
       "4726   part-time four-wheel drive  unknown  \n",
       "43024                     unknown  unknown  \n",
       "1048   part-time four-wheel drive  unknown  \n",
       "4487                   rear drive  unknown  "
      ]
     },
     "execution_count": 120,
     "metadata": {},
     "output_type": "execute_result"
    }
   ],
   "source": [
    "cars.loc[(cars['year']<1970)].sample(10)"
   ]
  },
  {
   "cell_type": "code",
   "execution_count": 121,
   "id": "9a67f823",
   "metadata": {},
   "outputs": [
    {
     "data": {
      "text/html": [
       "<div>\n",
       "<style scoped>\n",
       "    .dataframe tbody tr th:only-of-type {\n",
       "        vertical-align: middle;\n",
       "    }\n",
       "\n",
       "    .dataframe tbody tr th {\n",
       "        vertical-align: top;\n",
       "    }\n",
       "\n",
       "    .dataframe thead th {\n",
       "        text-align: right;\n",
       "    }\n",
       "</style>\n",
       "<table border=\"1\" class=\"dataframe\">\n",
       "  <thead>\n",
       "    <tr style=\"text-align: right;\">\n",
       "      <th></th>\n",
       "      <th>make</th>\n",
       "      <th>model</th>\n",
       "      <th>priceUSD</th>\n",
       "      <th>year</th>\n",
       "      <th>condition</th>\n",
       "      <th>mileage(kilometers)</th>\n",
       "      <th>fuel_type</th>\n",
       "      <th>volume(cm3)</th>\n",
       "      <th>color</th>\n",
       "      <th>transmission</th>\n",
       "      <th>drive_unit</th>\n",
       "      <th>segment</th>\n",
       "    </tr>\n",
       "  </thead>\n",
       "  <tbody>\n",
       "  </tbody>\n",
       "</table>\n",
       "</div>"
      ],
      "text/plain": [
       "Empty DataFrame\n",
       "Columns: [make, model, priceUSD, year, condition, mileage(kilometers), fuel_type, volume(cm3), color, transmission, drive_unit, segment]\n",
       "Index: []"
      ]
     },
     "execution_count": 121,
     "metadata": {},
     "output_type": "execute_result"
    }
   ],
   "source": [
    "cars.loc[(cars['year']<1930)].head(10)"
   ]
  },
  {
   "cell_type": "markdown",
   "id": "ce3ebac3",
   "metadata": {},
   "source": [
    "В целом можем увидеть, что каких-то выбивающихся аномалий нет в данных. Поэтому оставим их как они есть, кроме одной записи, которая включает в себя ЗАЗ-968, этот автмобиль выпускался с 1970 по 1979. Эту запись мы удалим."
   ]
  },
  {
   "cell_type": "code",
   "execution_count": 122,
   "id": "c0786eb8",
   "metadata": {},
   "outputs": [],
   "source": [
    "cars = cars.loc[(cars['year']>=1930)]"
   ]
  },
  {
   "cell_type": "markdown",
   "id": "41b61a66",
   "metadata": {},
   "source": [
    "**mileage(kilometers)**"
   ]
  },
  {
   "cell_type": "code",
   "execution_count": 123,
   "id": "c2c18fba",
   "metadata": {},
   "outputs": [
    {
     "data": {
      "image/png": "[encoded data removed]",
      "text/plain": [
       "<Figure size 640x480 with 1 Axes>"
      ]
     },
     "metadata": {},
     "output_type": "display_data"
    }
   ],
   "source": [
    "sns.boxplot(data=cars['mileage(kilometers)']);\n",
    "plt.xlabel('Признак \"Пробег автомобиля\"');\n",
    "plt.ylabel('Пробег автомобиля в млн. км');\n",
    "plt.title('График \"ящик с усами\" для признака \"Пробег автомобиля\"');"
   ]
  },
  {
   "cell_type": "markdown",
   "id": "0140a58f",
   "metadata": {},
   "source": [
    "Основное скопление автомобилей находится до 200тысяч км, но и автомобили с пробегом до 1 млн км это нормально, потому что есть информация о таких экземплярах. Что-то делать с этими выбросами опасно, можем потерять ценные данные. \n",
    "\n",
    "Чтобы проверить насколько правдивы данные о пробеге, нужно смотреть на данные, которые отображает сам автомобиль и сверять их вручную."
   ]
  },
  {
   "cell_type": "markdown",
   "id": "4fd04429",
   "metadata": {},
   "source": [
    "**volume(cm3)**"
   ]
  },
  {
   "cell_type": "code",
   "execution_count": 124,
   "id": "30187061",
   "metadata": {},
   "outputs": [
    {
     "data": {
      "image/png": "[encoded data removed]",
      "text/plain": [
       "<Figure size 640x480 with 1 Axes>"
      ]
     },
     "metadata": {},
     "output_type": "display_data"
    }
   ],
   "source": [
    "sns.boxplot(data=cars['volume(cm3)']);\n",
    "plt.xlabel('Признак \"Объем двигателя\"');\n",
    "plt.ylabel('Объем двигателя в см кубических');\n",
    "plt.title('График \"ящик с усами\" для признака \"Объем двигателя\"');"
   ]
  },
  {
   "cell_type": "markdown",
   "id": "51ed464f",
   "metadata": {},
   "source": [
    "Очень много данных с огромными объемами двигателя, нужно изучить подробнее"
   ]
  },
  {
   "cell_type": "code",
   "execution_count": 125,
   "id": "14be635a",
   "metadata": {},
   "outputs": [
    {
     "data": {
      "text/html": [
       "<div>\n",
       "<style scoped>\n",
       "    .dataframe tbody tr th:only-of-type {\n",
       "        vertical-align: middle;\n",
       "    }\n",
       "\n",
       "    .dataframe tbody tr th {\n",
       "        vertical-align: top;\n",
       "    }\n",
       "\n",
       "    .dataframe thead th {\n",
       "        text-align: right;\n",
       "    }\n",
       "</style>\n",
       "<table border=\"1\" class=\"dataframe\">\n",
       "  <thead>\n",
       "    <tr style=\"text-align: right;\">\n",
       "      <th></th>\n",
       "      <th>make</th>\n",
       "      <th>model</th>\n",
       "      <th>priceUSD</th>\n",
       "      <th>year</th>\n",
       "      <th>condition</th>\n",
       "      <th>mileage(kilometers)</th>\n",
       "      <th>fuel_type</th>\n",
       "      <th>volume(cm3)</th>\n",
       "      <th>color</th>\n",
       "      <th>transmission</th>\n",
       "      <th>drive_unit</th>\n",
       "      <th>segment</th>\n",
       "    </tr>\n",
       "  </thead>\n",
       "  <tbody>\n",
       "  </tbody>\n",
       "</table>\n",
       "</div>"
      ],
      "text/plain": [
       "Empty DataFrame\n",
       "Columns: [make, model, priceUSD, year, condition, mileage(kilometers), fuel_type, volume(cm3), color, transmission, drive_unit, segment]\n",
       "Index: []"
      ]
     },
     "execution_count": 125,
     "metadata": {},
     "output_type": "execute_result"
    }
   ],
   "source": [
    "cars.loc[cars['volume(cm3)']>7500].head(5)"
   ]
  },
  {
   "cell_type": "markdown",
   "id": "a0244fa4",
   "metadata": {},
   "source": [
    "После изучения этой темы в интернете, можно точно сказать, что лучше убрать машины с объемом двигателя более 7500 см3."
   ]
  },
  {
   "cell_type": "code",
   "execution_count": 126,
   "id": "dde8677c",
   "metadata": {},
   "outputs": [],
   "source": [
    "cars = cars.loc[cars['volume(cm3)']<=7500]"
   ]
  },
  {
   "cell_type": "markdown",
   "id": "c0a88c0a",
   "metadata": {},
   "source": [
    "### Изучение остальных признаков, с помощью визуализации"
   ]
  },
  {
   "cell_type": "markdown",
   "id": "f1772382",
   "metadata": {},
   "source": [
    "Визуализация в этой части еще будет производиться, графики без оформления нужны для бысрого ознакомления"
   ]
  },
  {
   "cell_type": "code",
   "execution_count": 127,
   "id": "1c29a68f",
   "metadata": {},
   "outputs": [
    {
     "data": {
      "text/plain": [
       "<Axes: xlabel='segment'>"
      ]
     },
     "execution_count": 127,
     "metadata": {},
     "output_type": "execute_result"
    },
    {
     "data": {
      "image/png": "[encoded data removed]",
      "text/plain": [
       "<Figure size 640x480 with 1 Axes>"
      ]
     },
     "metadata": {},
     "output_type": "display_data"
    }
   ],
   "source": [
    "cars['segment'].value_counts().plot(kind='bar')"
   ]
  },
  {
   "cell_type": "markdown",
   "id": "eaafc738",
   "metadata": {},
   "source": [
    "Здесь в принципе все впорядке с данными"
   ]
  },
  {
   "cell_type": "code",
   "execution_count": 128,
   "id": "39691476",
   "metadata": {
    "scrolled": false
   },
   "outputs": [
    {
     "data": {
      "text/plain": [
       "<Axes: xlabel='drive_unit'>"
      ]
     },
     "execution_count": 128,
     "metadata": {},
     "output_type": "execute_result"
    },
    {
     "data": {
      "image/png": "[encoded data removed]",
      "text/plain": [
       "<Figure size 640x480 with 1 Axes>"
      ]
     },
     "metadata": {},
     "output_type": "display_data"
    }
   ],
   "source": [
    "cars['drive_unit'].value_counts().plot(kind='bar')"
   ]
  },
  {
   "cell_type": "markdown",
   "id": "8df859ba",
   "metadata": {},
   "source": [
    "Преобладает перелний привод, но и остальных достаточное для изучения количество."
   ]
  },
  {
   "cell_type": "code",
   "execution_count": 129,
   "id": "e7c90ec6",
   "metadata": {},
   "outputs": [
    {
     "data": {
      "text/plain": [
       "<Axes: xlabel='fuel_type'>"
      ]
     },
     "execution_count": 129,
     "metadata": {},
     "output_type": "execute_result"
    },
    {
     "data": {
      "image/png": "[encoded data removed]",
      "text/plain": [
       "<Figure size 640x480 with 1 Axes>"
      ]
     },
     "metadata": {},
     "output_type": "display_data"
    }
   ],
   "source": [
    "cars['fuel_type'].value_counts().plot(kind='bar')"
   ]
  },
  {
   "cell_type": "code",
   "execution_count": 130,
   "id": "3a276126",
   "metadata": {
    "scrolled": true
   },
   "outputs": [
    {
     "data": {
      "text/plain": [
       "<Axes: xlabel='transmission'>"
      ]
     },
     "execution_count": 130,
     "metadata": {},
     "output_type": "execute_result"
    },
    {
     "data": {
      "image/png": "[encoded data removed]",
      "text/plain": [
       "<Figure size 640x480 with 1 Axes>"
      ]
     },
     "metadata": {},
     "output_type": "display_data"
    }
   ],
   "source": [
    "cars['transmission'].value_counts().plot(kind='bar')"
   ]
  },
  {
   "cell_type": "markdown",
   "id": "fb5edf1d",
   "metadata": {},
   "source": [
    "Далее будут изучены остальные категориальные признаки."
   ]
  },
  {
   "cell_type": "code",
   "execution_count": null,
   "id": "21cecf37",
   "metadata": {},
   "outputs": [],
   "source": []
  },
  {
   "cell_type": "markdown",
   "id": "d6a4076b",
   "metadata": {},
   "source": [
    "## Создание новых признаков"
   ]
  },
  {
   "cell_type": "markdown",
   "id": "cb8d8565",
   "metadata": {},
   "source": [
    "Есть несколько идей новых признаков, в том числе они будут внедрены после добавления парсинга и вытягивания дополнительной информации с сайта auto.ru"
   ]
  },
  {
   "cell_type": "markdown",
   "id": "1fe8f0b4",
   "metadata": {},
   "source": [
    "Одним из примеров может быть страна производитель, или страна, которая выпустила автомобиль(то есть та страна, где он был собран). Это может быть трудно реализуемо, потому на данный момент этот этап пропускается.\n",
    "\n",
    "Также можно добавить например кол-во мест или кол-во дверей в автомобиле."
   ]
  },
  {
   "cell_type": "code",
   "execution_count": null,
   "id": "c6dc8009",
   "metadata": {},
   "outputs": [],
   "source": []
  },
  {
   "cell_type": "code",
   "execution_count": null,
   "id": "270a7493",
   "metadata": {},
   "outputs": [],
   "source": []
  },
  {
   "cell_type": "markdown",
   "id": "738a4839",
   "metadata": {},
   "source": [
    "## Гипотезы"
   ]
  },
  {
   "cell_type": "markdown",
   "id": "74d01b2b",
   "metadata": {},
   "source": [
    "### Гипотеза 1"
   ]
  },
  {
   "cell_type": "markdown",
   "id": "0d109b15",
   "metadata": {},
   "source": [
    "Нулевая гипотеза: Цена автомобилей с автоматической коробкой передач выше цен на автомобили с механической.\n",
    "\n",
    "Альтернативная: ...\n",
    "\n",
    "\n",
    "Необходимость проверки этой гипотезы: Многие раритетные автомобили, которые стоят больших денег, имеют механику, но автомобили с автоматом стоят обычно дороже, поэтому необходимо узнать как этот параметр влияет на цену\n"
   ]
  },
  {
   "cell_type": "markdown",
   "id": "b289dcab",
   "metadata": {},
   "source": [
    "### Гипотеза 2"
   ]
  },
  {
   "cell_type": "markdown",
   "id": "29b96506",
   "metadata": {},
   "source": [
    "Нулевая гипотеза: Автомобили на бензине имеют такую же стоимость как и автомобили на дизеле.\n",
    "\n",
    "Альтернативная: ...\n",
    "\n",
    "\n",
    "Необходимость проверки этой гипотезы: Важно проверить как влияет этот фактор"
   ]
  },
  {
   "cell_type": "code",
   "execution_count": null,
   "id": "e8582a8d",
   "metadata": {},
   "outputs": [],
   "source": []
  },
  {
   "cell_type": "markdown",
   "id": "d5788488",
   "metadata": {},
   "source": [
    "##  Машинное обучение"
   ]
  },
  {
   "cell_type": "markdown",
   "id": "4d102aba",
   "metadata": {},
   "source": [
    "### Кодирование категориальных признаков"
   ]
  },
  {
   "cell_type": "code",
   "execution_count": null,
   "id": "75b185df",
   "metadata": {},
   "outputs": [],
   "source": []
  },
  {
   "cell_type": "markdown",
   "id": "5e79e42b",
   "metadata": {},
   "source": [
    "### Проверка разных моделей"
   ]
  },
  {
   "cell_type": "markdown",
   "id": "d9a9ea4d",
   "metadata": {},
   "source": [
    "План заключается в использовании нескольких разных видов моделей: Линейная регрессия, Случайный лес, Catboost\n",
    "\n",
    "Модели могут по-разному себя показать, поэтому протестируем несколько вариантов."
   ]
  },
  {
   "cell_type": "code",
   "execution_count": null,
   "id": "bfa9a492",
   "metadata": {},
   "outputs": [],
   "source": []
  }
 ],
 "metadata": {
  "kernelspec": {
   "display_name": "Python 3 (ipykernel)",
   "language": "python",
   "name": "python3"
  },
  "language_info": {
   "codemirror_mode": {
    "name": "ipython",
    "version": 3
   },
   "file_extension": ".py",
   "mimetype": "text/x-python",
   "name": "python",
   "nbconvert_exporter": "python",
   "pygments_lexer": "ipython3",
   "version": "3.10.8"
  },
  "toc": {
   "base_numbering": 1,
   "nav_menu": {},
   "number_sections": true,
   "sideBar": true,
   "skip_h1_title": true,
   "title_cell": "Table of Contents",
   "title_sidebar": "Contents",
   "toc_cell": true,
   "toc_position": {
    "height": "calc(100% - 180px)",
    "left": "10px",
    "top": "150px",
    "width": "297.6px"
   },
   "toc_section_display": true,
   "toc_window_display": false
  }
 },
 "nbformat": 4,
 "nbformat_minor": 5
}
