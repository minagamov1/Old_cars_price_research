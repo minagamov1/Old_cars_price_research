{
 "cells": [
  {
   "cell_type": "markdown",
   "id": "2f577c30",
   "metadata": {
    "toc": true
   },
   "source": [
    "<h1>Содержание<span class=\"tocSkip\"></span></h1>\n",
    "<div class=\"toc\"><ul class=\"toc-item\"><li><span><a href=\"#Произведем-необходимые-импорты\" data-toc-modified-id=\"Произведем-необходимые-импорты-1\"><span class=\"toc-item-num\">1&nbsp;&nbsp;</span>Произведем необходимые импорты</a></span></li><li><span><a href=\"#Загрузим-датасет\" data-toc-modified-id=\"Загрузим-датасет-2\"><span class=\"toc-item-num\">2&nbsp;&nbsp;</span>Загрузим датасет</a></span></li><li><span><a href=\"#Найдем-еще-данных-с-помощью-парсинга\" data-toc-modified-id=\"Найдем-еще-данных-с-помощью-парсинга-3\"><span class=\"toc-item-num\">3&nbsp;&nbsp;</span>Найдем еще данных с помощью парсинга</a></span><ul class=\"toc-item\"><li><span><a href=\"#Проверка-доступности-сайта\" data-toc-modified-id=\"Проверка-доступности-сайта-3.1\"><span class=\"toc-item-num\">3.1&nbsp;&nbsp;</span>Проверка доступности сайта</a></span></li><li><span><a href=\"#Разбираемся-с-парсингом-html-кода-страниц\" data-toc-modified-id=\"Разбираемся-с-парсингом-html-кода-страниц-3.2\"><span class=\"toc-item-num\">3.2&nbsp;&nbsp;</span>Разбираемся с парсингом html кода страниц</a></span></li><li><span><a href=\"#Парсинг\" data-toc-modified-id=\"Парсинг-3.3\"><span class=\"toc-item-num\">3.3&nbsp;&nbsp;</span>Парсинг</a></span></li></ul></li><li><span><a href=\"#EDA\" data-toc-modified-id=\"EDA-4\"><span class=\"toc-item-num\">4&nbsp;&nbsp;</span>EDA</a></span><ul class=\"toc-item\"><li><span><a href=\"#Пропуски-в-данных\" data-toc-modified-id=\"Пропуски-в-данных-4.1\"><span class=\"toc-item-num\">4.1&nbsp;&nbsp;</span>Пропуски в данных</a></span></li><li><span><a href=\"#Явные-дубликаты\" data-toc-modified-id=\"Явные-дубликаты-4.2\"><span class=\"toc-item-num\">4.2&nbsp;&nbsp;</span>Явные дубликаты</a></span></li><li><span><a href=\"#Визуализация-и-поиск-выбросов\" data-toc-modified-id=\"Визуализация-и-поиск-выбросов-4.3\"><span class=\"toc-item-num\">4.3&nbsp;&nbsp;</span>Визуализация и поиск выбросов</a></span></li><li><span><a href=\"#Распределения-переменных\" data-toc-modified-id=\"Распределения-переменных-4.4\"><span class=\"toc-item-num\">4.4&nbsp;&nbsp;</span>Распределения переменных</a></span></li><li><span><a href=\"#Тепловая-карта-корреляций\" data-toc-modified-id=\"Тепловая-карта-корреляций-4.5\"><span class=\"toc-item-num\">4.5&nbsp;&nbsp;</span>Тепловая карта корреляций</a></span></li><li><span><a href=\"#Изучим-отдельно-каждый-признак-на-аномалии\" data-toc-modified-id=\"Изучим-отдельно-каждый-признак-на-аномалии-4.6\"><span class=\"toc-item-num\">4.6&nbsp;&nbsp;</span>Изучим отдельно каждый признак на аномалии</a></span></li><li><span><a href=\"#Изучение-остальных-признаков,-с-помощью-визуализации\" data-toc-modified-id=\"Изучение-остальных-признаков,-с-помощью-визуализации-4.7\"><span class=\"toc-item-num\">4.7&nbsp;&nbsp;</span>Изучение остальных признаков, с помощью визуализации</a></span></li></ul></li><li><span><a href=\"#Создание-новых-признаков\" data-toc-modified-id=\"Создание-новых-признаков-5\"><span class=\"toc-item-num\">5&nbsp;&nbsp;</span>Создание новых признаков</a></span></li><li><span><a href=\"#Гипотезы\" data-toc-modified-id=\"Гипотезы-6\"><span class=\"toc-item-num\">6&nbsp;&nbsp;</span>Гипотезы</a></span><ul class=\"toc-item\"><li><span><a href=\"#Гипотеза-1\" data-toc-modified-id=\"Гипотеза-1-6.1\"><span class=\"toc-item-num\">6.1&nbsp;&nbsp;</span>Гипотеза 1</a></span></li><li><span><a href=\"#Гипотеза-2\" data-toc-modified-id=\"Гипотеза-2-6.2\"><span class=\"toc-item-num\">6.2&nbsp;&nbsp;</span>Гипотеза 2</a></span></li><li><span><a href=\"#Гипотеза-3\" data-toc-modified-id=\"Гипотеза-3-6.3\"><span class=\"toc-item-num\">6.3&nbsp;&nbsp;</span>Гипотеза 3</a></span></li><li><span><a href=\"#Гипотеза-4\" data-toc-modified-id=\"Гипотеза-4-6.4\"><span class=\"toc-item-num\">6.4&nbsp;&nbsp;</span>Гипотеза 4</a></span></li></ul></li><li><span><a href=\"#Машинное-обучение\" data-toc-modified-id=\"Машинное-обучение-7\"><span class=\"toc-item-num\">7&nbsp;&nbsp;</span>Машинное обучение</a></span><ul class=\"toc-item\"><li><span><a href=\"#Разделим-данные-на-выборки\" data-toc-modified-id=\"Разделим-данные-на-выборки-7.1\"><span class=\"toc-item-num\">7.1&nbsp;&nbsp;</span>Разделим данные на выборки</a></span></li><li><span><a href=\"#Кодирование-категориальных-признаков\" data-toc-modified-id=\"Кодирование-категориальных-признаков-7.2\"><span class=\"toc-item-num\">7.2&nbsp;&nbsp;</span>Кодирование категориальных признаков</a></span><ul class=\"toc-item\"><li><span><a href=\"#OHE\" data-toc-modified-id=\"OHE-7.2.1\"><span class=\"toc-item-num\">7.2.1&nbsp;&nbsp;</span>OHE</a></span></li><li><span><a href=\"#BE\" data-toc-modified-id=\"BE-7.2.2\"><span class=\"toc-item-num\">7.2.2&nbsp;&nbsp;</span>BE</a></span></li></ul></li><li><span><a href=\"#Проверка-разных-моделей\" data-toc-modified-id=\"Проверка-разных-моделей-7.3\"><span class=\"toc-item-num\">7.3&nbsp;&nbsp;</span>Проверка разных моделей</a></span><ul class=\"toc-item\"><li><span><a href=\"#Линейная-регрессия\" data-toc-modified-id=\"Линейная-регрессия-7.3.1\"><span class=\"toc-item-num\">7.3.1&nbsp;&nbsp;</span>Линейная регрессия</a></span><ul class=\"toc-item\"><li><span><a href=\"#Масштабируем-данные-для-линейной-регрессии\" data-toc-modified-id=\"Масштабируем-данные-для-линейной-регрессии-7.3.1.1\"><span class=\"toc-item-num\">7.3.1.1&nbsp;&nbsp;</span>Масштабируем данные для линейной регрессии</a></span></li><li><span><a href=\"#Приступим-к-обучению-регрессии\" data-toc-modified-id=\"Приступим-к-обучению-регрессии-7.3.1.2\"><span class=\"toc-item-num\">7.3.1.2&nbsp;&nbsp;</span>Приступим к обучению регрессии</a></span></li></ul></li><li><span><a href=\"#Случайный-лес\" data-toc-modified-id=\"Случайный-лес-7.3.2\"><span class=\"toc-item-num\">7.3.2&nbsp;&nbsp;</span>Случайный лес</a></span></li><li><span><a href=\"#CatBoost\" data-toc-modified-id=\"CatBoost-7.3.3\"><span class=\"toc-item-num\">7.3.3&nbsp;&nbsp;</span>CatBoost</a></span><ul class=\"toc-item\"><li><span><a href=\"#Catboost-с-кросс-валидацией\" data-toc-modified-id=\"Catboost-с-кросс-валидацией-7.3.3.1\"><span class=\"toc-item-num\">7.3.3.1&nbsp;&nbsp;</span>Catboost с кросс-валидацией</a></span></li><li><span><a href=\"#CatBoost-без-кросс-валидации\" data-toc-modified-id=\"CatBoost-без-кросс-валидации-7.3.3.2\"><span class=\"toc-item-num\">7.3.3.2&nbsp;&nbsp;</span>CatBoost без кросс-валидации</a></span></li></ul></li></ul></li><li><span><a href=\"#Результаты-моделей\" data-toc-modified-id=\"Результаты-моделей-7.4\"><span class=\"toc-item-num\">7.4&nbsp;&nbsp;</span>Результаты моделей</a></span></li><li><span><a href=\"#Лучшая-модель-на-валидационной-выборке\" data-toc-modified-id=\"Лучшая-модель-на-валидационной-выборке-7.5\"><span class=\"toc-item-num\">7.5&nbsp;&nbsp;</span>Лучшая модель на валидационной выборке</a></span></li></ul></li><li><span><a href=\"#Итоги\" data-toc-modified-id=\"Итоги-8\"><span class=\"toc-item-num\">8&nbsp;&nbsp;</span>Итоги</a></span></li></ul></div>"
   ]
  },
  {
   "cell_type": "markdown",
   "id": "967fd7cd",
   "metadata": {},
   "source": [
    "Перед нами стоит задача понять какие факторы оказывают влияние на цены поддержанных автомобилей. Для этого мы воспользуемся готовыми датасетами с ресурса kaggle и открытые данные об автомобилях с сайта auto.ru. Ссылки на датасеты представлены ниже:\n",
    "\n",
    "<!-- cars_1 https://www.kaggle.com/datasets/avikasliwal/used-cars-price-prediction?resource=download -->\n",
    "\n",
    "cars https://www.kaggle.com/datasets/slavapasedko/belarus-used-cars-prices\n",
    "\n",
    "<!-- cars_3 https://www.kaggle.com/datasets/vijayaadithyanvg/car-price-predictionused-cars?resource=download -->\n",
    "\n",
    "Данный проект несет в себе цель не только предсказывать за сколько выставлена конкретная машина, но в целом оценивть сколько данный автомобиль может стоить, что потенциально может быть полезно для тех, кто занимается перепродажей автомобилей. То есть мы сможем с помощью моделей машинного обучения пытаться предсказать какая рыночная стоимость конкретного автомобиля и стоит ли его брать по той цене, которая указана в объявлении."
   ]
  },
  {
   "cell_type": "markdown",
   "id": "f5657d84",
   "metadata": {},
   "source": [
    "- `make` - Марка автомобиля.\n",
    "- `model` - Модель автомобиля.\n",
    "- `priceUSD` - Цена автомобиля в долларах США.\n",
    "- `year` - Год выпуска автомобиля.\n",
    "- `condition` - Состояние автомобиля.\n",
    "- `mileage(kilometers)` - Пробег автомобиля в километрах.\n",
    "- `fuel_type` - Тип топлива, используемого автомобилем.\n",
    "- `volume(cm3)` - Объем двигателя в кубических сантиметрах.\n",
    "- `color` - Цвет автомобиля.\n",
    "- `transmission` - Тип трансмиссии автомобиля.\n",
    "- `drive_unit` - Тип привода автомобиля.\n",
    "- `segment` - Сегмент автомобиля (классификация по классу автомобиля).\n"
   ]
  },
  {
   "cell_type": "markdown",
   "id": "a089e802",
   "metadata": {},
   "source": [
    "## Произведем необходимые импорты"
   ]
  },
  {
   "cell_type": "code",
   "execution_count": 1,
   "id": "51337da5",
   "metadata": {},
   "outputs": [],
   "source": [
    "import pandas as pd\n",
    "import numpy as np\n",
    "import seaborn as sns\n",
    "import matplotlib.pyplot as plt\n",
    "from scipy.stats import ttest_ind, f_oneway\n",
    "\n",
    "from tqdm import tqdm, tqdm_notebook\n",
    "from tqdm.notebook import tqdm, trange\n",
    "\n",
    "import requests\n",
    "import time \n",
    "from fake_useragent import UserAgent\n",
    "from bs4 import BeautifulSoup\n",
    "from selenium import webdriver\n",
    "from selenium.webdriver.common.by import By\n",
    "\n",
    "import time\n",
    "\n",
    "import statsmodels.api as sm\n",
    "\n",
    "from sklearn.model_selection import train_test_split, cross_val_predict\n",
    "from sklearn.preprocessing import StandardScaler, OneHotEncoder\n",
    "\n",
    "\n",
    "from sklearn.metrics import mean_squared_error\n",
    "\n",
    "from sklearn.linear_model import LinearRegression\n",
    "from sklearn.ensemble import RandomForestRegressor\n",
    "from catboost import CatBoostRegressor, cv, Pool\n",
    "\n",
    "import category_encoders as ce\n",
    "\n",
    "\n",
    "\n",
    "RANDOM_SEED = 123452024\n",
    "import warnings\n",
    "warnings.filterwarnings(\"ignore\")"
   ]
  },
  {
   "cell_type": "markdown",
   "id": "fd6b1ae9",
   "metadata": {},
   "source": [
    "## Загрузим датасет"
   ]
  },
  {
   "cell_type": "markdown",
   "id": "0947f035",
   "metadata": {},
   "source": [
    "Датасет взят с ресурса kaggle.com https://www.kaggle.com/datasets/slavapasedko/belarus-used-cars-prices. Данный датасет содержит в себе информацию о поддержаных автомобилях."
   ]
  },
  {
   "cell_type": "markdown",
   "id": "101486fd",
   "metadata": {},
   "source": [
    "**cars**"
   ]
  },
  {
   "cell_type": "code",
   "execution_count": 2,
   "id": "3d8519d3",
   "metadata": {
    "scrolled": true
   },
   "outputs": [
    {
     "data": {
      "text/html": [
       "<div>\n",
       "<style scoped>\n",
       "    .dataframe tbody tr th:only-of-type {\n",
       "        vertical-align: middle;\n",
       "    }\n",
       "\n",
       "    .dataframe tbody tr th {\n",
       "        vertical-align: top;\n",
       "    }\n",
       "\n",
       "    .dataframe thead th {\n",
       "        text-align: right;\n",
       "    }\n",
       "</style>\n",
       "<table border=\"1\" class=\"dataframe\">\n",
       "  <thead>\n",
       "    <tr style=\"text-align: right;\">\n",
       "      <th></th>\n",
       "      <th>make</th>\n",
       "      <th>model</th>\n",
       "      <th>priceUSD</th>\n",
       "      <th>year</th>\n",
       "      <th>condition</th>\n",
       "      <th>mileage(kilometers)</th>\n",
       "      <th>fuel_type</th>\n",
       "      <th>volume(cm3)</th>\n",
       "      <th>color</th>\n",
       "      <th>transmission</th>\n",
       "      <th>drive_unit</th>\n",
       "      <th>segment</th>\n",
       "    </tr>\n",
       "  </thead>\n",
       "  <tbody>\n",
       "    <tr>\n",
       "      <th>16779</th>\n",
       "      <td>fiat</td>\n",
       "      <td>bravo</td>\n",
       "      <td>500</td>\n",
       "      <td>1997</td>\n",
       "      <td>with mileage</td>\n",
       "      <td>150000.0</td>\n",
       "      <td>petrol</td>\n",
       "      <td>1400.0</td>\n",
       "      <td>green</td>\n",
       "      <td>mechanics</td>\n",
       "      <td>front-wheel drive</td>\n",
       "      <td>C</td>\n",
       "    </tr>\n",
       "    <tr>\n",
       "      <th>25234</th>\n",
       "      <td>ford</td>\n",
       "      <td>focus</td>\n",
       "      <td>7500</td>\n",
       "      <td>2012</td>\n",
       "      <td>with mileage</td>\n",
       "      <td>110000.0</td>\n",
       "      <td>petrol</td>\n",
       "      <td>1600.0</td>\n",
       "      <td>silver</td>\n",
       "      <td>mechanics</td>\n",
       "      <td>front-wheel drive</td>\n",
       "      <td>C</td>\n",
       "    </tr>\n",
       "  </tbody>\n",
       "</table>\n",
       "</div>"
      ],
      "text/plain": [
       "       make  model  priceUSD  year     condition  mileage(kilometers)  \\\n",
       "16779  fiat  bravo       500  1997  with mileage             150000.0   \n",
       "25234  ford  focus      7500  2012  with mileage             110000.0   \n",
       "\n",
       "      fuel_type  volume(cm3)   color transmission         drive_unit segment  \n",
       "16779    petrol       1400.0   green    mechanics  front-wheel drive       C  \n",
       "25234    petrol       1600.0  silver    mechanics  front-wheel drive       C  "
      ]
     },
     "execution_count": 2,
     "metadata": {},
     "output_type": "execute_result"
    }
   ],
   "source": [
    "cars = pd.read_csv('./datasets/cars_2.csv')\n",
    "cars.sample(2)"
   ]
  },
  {
   "cell_type": "code",
   "execution_count": 3,
   "id": "4b0ed551",
   "metadata": {},
   "outputs": [],
   "source": [
    "cars_orig = cars.copy(deep=True)"
   ]
  },
  {
   "cell_type": "markdown",
   "id": "4f9bad36",
   "metadata": {},
   "source": [
    "Выведем размеры датасета"
   ]
  },
  {
   "cell_type": "code",
   "execution_count": 4,
   "id": "23ddef0e",
   "metadata": {},
   "outputs": [
    {
     "data": {
      "text/plain": [
       "(56244, 12)"
      ]
     },
     "execution_count": 4,
     "metadata": {},
     "output_type": "execute_result"
    }
   ],
   "source": [
    "cars.shape"
   ]
  },
  {
   "cell_type": "markdown",
   "id": "d37706d4",
   "metadata": {},
   "source": [
    "## Найдем еще данных с помощью парсинга"
   ]
  },
  {
   "cell_type": "markdown",
   "id": "513504d7",
   "metadata": {},
   "source": [
    "Данный этап нам нужен чтобы понять рыночные цены на автомобили в Москве и рядом. Мы будем брать марку автомобиля и его модель, и с помощью этих данных находить актуальные предложения в Москве и ближайших городах. По этим данным мы будем находить автомобили такого же или похожих годов, среднюю стоимость и средний пробег этих автомобилей(с некоторыми допущениями, может быть другой объем двигателя)"
   ]
  },
  {
   "cell_type": "markdown",
   "id": "115f4b33",
   "metadata": {},
   "source": [
    "### Проверка доступности сайта"
   ]
  },
  {
   "cell_type": "markdown",
   "id": "0ef3704a",
   "metadata": {},
   "source": [
    "Первым делом, проверим, что наши запросы доходят до ресурса."
   ]
  },
  {
   "cell_type": "code",
   "execution_count": 4,
   "id": "c47ce506",
   "metadata": {},
   "outputs": [
    {
     "data": {
      "text/plain": [
       "<Response [200]>"
      ]
     },
     "execution_count": 4,
     "metadata": {},
     "output_type": "execute_result"
    }
   ],
   "source": [
    "page_link = 'https://auto.ru/moskva/cars/'\n",
    "fiat = 'fiat/500/used'\n",
    "user_agent = UserAgent().chrome\n",
    "\n",
    "response = requests.get(\n",
    "    page_link + fiat,\n",
    "    headers={'User-Agent': user_agent}\n",
    ")\n",
    "\n",
    "response"
   ]
  },
  {
   "cell_type": "code",
   "execution_count": 5,
   "id": "9eee947c",
   "metadata": {},
   "outputs": [
    {
     "data": {
      "text/plain": [
       "b'<!doctype html><html prefix=\"og: http://ogp.me/ns#\" lang=\"ru\"><meta http-equiv=\"X-UA-Compatible\" content=\"IE=edge\"><meta charset=\"utf-8\"><meta name=\"viewport\" content=\"width=device-width,initial-scale=1\"><title data-react-helmet=\"true\">\\xd0\\x9e\\xd0\\xb9, \\xd0\\x9a\\xd0\\xb0\\xd0\\xbf\\xd1\\x87\\xd0\\xb0!</title><meta data-react-helmet=\"true\" property=\"og:title\" content=\"\\xd0\\xaf\\xd0\\xbd\\xd0\\xb4\\xd0\\xb5\\xd0\\xba\\xd1\\x81\"><meta data-react-helmet=\"true\" property=\"og:description\" content=\"\\xd0\\x9d\\xd0\\xb0\\xd0\\xb9\\xd0\\xb4\\xd1\\x91\\xd1\\x82\\xd1\\x81\\xd1\\x8f \\xd0\\xb2\\xd1\\x81\\xd1\\x91\"><meta data-react-helmet=\"true\" property=\"og:image\" content=\"https://yastatic.net/s3/home-static/_/37/37a02b5dc7a51abac55d8a5b6c865f0e.png\"><link rel=\"stylesheet\" href=\"/captcha_smart.73516a530938d63d8055.min.css?k=1712754100945\"><style>@media only screen and (min-width:651px){body{background-image:url(\\'https://captcha-backgrounds.s3.yandex.net/static/autoru-background2.jpg\\')}}.LogoLink{background-image:url(\\'data:image/svg+xml;base64,PHN2ZyB4bWxucz0iaHR0cDovL3d3dy53My5vcmcvMjAwMC9zdmciIHdpZHRoPSIxMDQiIGhlaWdodD0iMjAiPjxwYXRoIGQ9Ik03LjYxNCAzLjM5NmMyLjIwOCAwIDMuOTUyLjg0OSA0LjQ0NiAxLjk5di0xLjU4aDMuNTc1VjE4Ljg4SDEyLjA2VjE3LjNjLS40OTQgMS4xMTItMi4yMzggMS45OS00LjQ0NiAxLjk5QzMuNjA0IDE5LjI5IDAgMTYuMDcgMCAxMS4zNThjMC00LjcxMyAzLjYwMy03Ljk2MiA3LjYxNC03Ljk2MnpNOC4wNSAxNS4zNGMxLjgzIDAgMy40MjktLjg3OCAzLjg5NC0xLjk5VjkuMzM4Yy0uNDY1LTEuMTQyLTIuMDYzLTEuOTktMy44OTQtMS45OS0yLjU1OCAwLTQuMzMgMS42MzktNC4zMyA0LjAxIDAgMi4zNyAxLjc3MiAzLjk4MSA0LjMzIDMuOTgxek0xOS43OSAzLjgwNWgzLjY5djguMTM4YzAgMi4xNjcgMS4zNjcgMy4zOTYgMy4xNjkgMy4zOTYgMS41NjkgMCAzLjA1MS0uOTY2IDMuMzEyLTIuMjgzdi05LjI1aDMuNjkxV'"
      ]
     },
     "execution_count": 5,
     "metadata": {},
     "output_type": "execute_result"
    }
   ],
   "source": [
    "html = response.content\n",
    "html[:1500]"
   ]
  },
  {
   "cell_type": "markdown",
   "id": "5403432d",
   "metadata": {},
   "source": [
    "Отлично, нам удалось достучаться до сайта и получить от него html разметку(содержимое его страницы)"
   ]
  },
  {
   "cell_type": "markdown",
   "id": "43fc11f7",
   "metadata": {},
   "source": [
    "### Разбираемся с парсингом html кода страниц"
   ]
  },
  {
   "cell_type": "markdown",
   "id": "dcae530a",
   "metadata": {},
   "source": [
    "Вынесем функции в верх блока."
   ]
  },
  {
   "cell_type": "code",
   "execution_count": 7,
   "id": "c1404d38",
   "metadata": {},
   "outputs": [],
   "source": [
    "def find_price(caritems_price_blocks):\n",
    "    \"\"\"\n",
    "    Функция для нахождения цены в блоке цены автомобиля.\n",
    "    \n",
    "    Параметры:\n",
    "    caritems_price_blocks : элемент HTML с блоком цены\n",
    "    \n",
    "    Возвращает:\n",
    "    int : цена автомобиля\n",
    "    \"\"\"\n",
    "    try:\n",
    "        views = caritems_price_blocks.find('a', attrs={'class': 'Link ListingItemPriceNew__link-cYuLr'})\n",
    "        price = ''\n",
    "        if 'со скидками' in views.text:\n",
    "            views = views.text.split('со скидками')[0]\n",
    "            for ch in views:\n",
    "                if ch.isnumeric():\n",
    "                    price += ch\n",
    "        else:\n",
    "            for ch in views.text:\n",
    "                if ch.isnumeric():\n",
    "                    price += ch\n",
    "    except AttributeError:\n",
    "        views = caritems_price_blocks.text\n",
    "        price = ''\n",
    "        if 'со скидками' in views:\n",
    "            views = views.split('со скидками')[0]\n",
    "        for ch in views:\n",
    "            if ch.isnumeric():\n",
    "                price += ch\n",
    "    return int(price)\n",
    "\n",
    "\n",
    "def find_mileage(caritems_mileage_blocks):\n",
    "    \"\"\"\n",
    "    Функция для нахождения пробега в блоке пробега автомобиля.\n",
    "    \n",
    "    Параметры:\n",
    "    caritems_mileage_blocks : элемент HTML с блоком пробега\n",
    "    \n",
    "    Возвращает:\n",
    "    int : пробег автомобиля\n",
    "    \"\"\"\n",
    "    views = caritems_mileage_blocks.find('div', attrs={'class': 'ListingItem__kmAge'})\n",
    "    mileage = ''\n",
    "    for ch in views.text:\n",
    "        if ch.isnumeric():\n",
    "            mileage += ch\n",
    "    return int(mileage)\n",
    "\n",
    "\n",
    "def make_info_dict(dict_car, car, model, caritems_price_blocks, caritems_year_blocks, caritems_mileage_blocks, i):\n",
    "    \"\"\"\n",
    "    Функция для создания словаря с информацией об автомобиле.\n",
    "    \n",
    "    Параметры:\n",
    "    dict_car : dict : словарь для хранения информации об автомобилях\n",
    "    car : str : марка автомобиля\n",
    "    model : str : модель автомобиля\n",
    "    caritems_price_blocks : элемент HTML с блоком цены\n",
    "    caritems_year_blocks : элемент HTML с блоком года выпуска\n",
    "    caritems_mileage_blocks : элемент HTML с блоком пробега\n",
    "    i : int : индекс текущего элемента\n",
    "    \n",
    "    Возвращает:\n",
    "    None\n",
    "    \"\"\"\n",
    "    dict_car[f'{car}_{model}_{i}'] = {\n",
    "        'price': find_price(caritems_price_blocks[i]),\n",
    "        'year': int(caritems_year_blocks[i].text),\n",
    "        'mileage': find_mileage(caritems_mileage_blocks[i])\n",
    "    }\n",
    "\n",
    "\n",
    "def find_means(dict_car):\n",
    "    \"\"\"\n",
    "    Функция для нахождения средних значений цены и пробега автомобилей.\n",
    "    \n",
    "    Параметры:\n",
    "    dict_car : dict : словарь с информацией об автомобилях\n",
    "    \n",
    "    Возвращает:\n",
    "    tuple : средняя цена, средний пробег, количество автомобилей\n",
    "    \"\"\"\n",
    "    summa_price = 0\n",
    "    summa_mileage = 0\n",
    "    count = 0\n",
    "    for car, items in dict_car.items():\n",
    "        summa_price += items['price']\n",
    "        summa_mileage += items['mileage']\n",
    "        count += 1\n",
    "    \n",
    "    try:\n",
    "        avg_price = summa_price / count\n",
    "        avg_mileage = summa_mileage / count\n",
    "        print(avg_price, avg_mileage, count)\n",
    "        return avg_price, avg_mileage, count\n",
    "    except ZeroDivisionError:\n",
    "        print(0, 0, 0)\n",
    "        return float(np.nan), float(np.nan)"
   ]
  },
  {
   "cell_type": "markdown",
   "id": "924cf1d1",
   "metadata": {},
   "source": [
    "Разберемся с тем, чтобы получилось достать нужную нам  информацию для конкретного примера, а далее сделаем обобщающую функцию для автоматического подсчета."
   ]
  },
  {
   "cell_type": "code",
   "execution_count": 8,
   "id": "9470883d",
   "metadata": {
    "scrolled": true
   },
   "outputs": [
    {
     "name": "stdout",
     "output_type": "stream",
     "text": [
      "Подтвердите, что запросы отправляли вы, а не роботНам очень жаль, но запросы с вашего устройства похожи на автоматические.   Почему это могло произойти?У вас отключено исполнение JavaScript. По нажатию вы будете направлены на дополнительную проверку. Как включить JavaScript?Я не робот Нажмите, чтобы продолжитьSmartCaptcha by Yandex CloudЕсли у вас возникли проблемы, пожалуйста, воспользуйтесь формой обратной связи59898938-46859557-428b8607-a3db0fa7:1712754100955\n"
     ]
    }
   ],
   "source": [
    "soup = BeautifulSoup(html, 'html.parser')\n",
    "obj = soup.find_all('div')\n",
    "print(obj[0].text[:500])"
   ]
  },
  {
   "cell_type": "markdown",
   "id": "502e0a71",
   "metadata": {},
   "source": [
    "К сожалению ресурс ограничивает нам доступ к самому сайту, поэтому воспользуемся selenium"
   ]
  },
  {
   "cell_type": "code",
   "execution_count": 9,
   "id": "6f1b3f84",
   "metadata": {},
   "outputs": [],
   "source": [
    "driver = webdriver.Chrome('./chromedriver.exe')"
   ]
  },
  {
   "cell_type": "code",
   "execution_count": 10,
   "id": "50653e91",
   "metadata": {},
   "outputs": [],
   "source": [
    "page_link = 'https://auto.ru/moskva/cars/'\n",
    "car = 'fiat'\n",
    "model = '500'\n",
    "fiat = f'{car}/{model}/used'\n",
    "ref = page_link + fiat\n",
    "\n",
    "driver.get(ref)\n"
   ]
  },
  {
   "cell_type": "markdown",
   "id": "d249f492",
   "metadata": {},
   "source": [
    "Так как мы столкнулись с проблемами при обычном запросе к серверу и пользуемся теперь возможностями библиотекой `selenium`, то нам надо протестировать, что получится добраться до нужных нам данных.\n",
    "\n",
    "Ниже представлен код для авторизации на сайте через телефон и одноразоваый четырех значный код."
   ]
  },
  {
   "cell_type": "code",
   "execution_count": 11,
   "id": "33ac0025",
   "metadata": {},
   "outputs": [],
   "source": [
    "# Наводимся на строку ввода номера телефона\n",
    "stroka = driver.find_element(By.NAME, \"login\")\n",
    "\n",
    "# Нажимаем на эту строку ввода, чтобы наш курсор оказался в ней\n",
    "stroka.click()"
   ]
  },
  {
   "cell_type": "code",
   "execution_count": 12,
   "id": "995e2418",
   "metadata": {},
   "outputs": [],
   "source": [
    "# Вводим номер телефона\n",
    "stroka.send_keys('***********')\n",
    "\n",
    "# Находим кнопку \"отправить код\"\n",
    "button = driver.find_element(By.CLASS_NAME, 'Button2-DDOYo')\n",
    "button.click()"
   ]
  },
  {
   "cell_type": "code",
   "execution_count": 13,
   "id": "4043b6ca",
   "metadata": {},
   "outputs": [],
   "source": [
    "# Находим поле ввода четырехзначного кода (делаем это через XPATH, потому что при обычном поиске поля, выбирается поле с номером телефона)\n",
    "input_field = driver.find_element(By.XPATH, '//*[@id=\"app\"]/div/div[1]/div/div[2]/div[3]/div[1]/div/div/label/div[1]/input')\n",
    "input_field.click()"
   ]
  },
  {
   "cell_type": "code",
   "execution_count": 14,
   "id": "e073ace2",
   "metadata": {},
   "outputs": [],
   "source": [
    "# Вводим четырехзначный код\n",
    "input_field.send_keys('****')"
   ]
  },
  {
   "cell_type": "markdown",
   "id": "9e262db8",
   "metadata": {},
   "source": [
    "Создания объекта `BeautifulSoup`, парся HTML-страницу, полученную от `Selenium WebDriver` (driver.page_source). Используется парсер 'html.parser' для обработки HTML.\n",
    "\n",
    "Ищем первый HTML-элемент `<div>`, у которого атрибут class равен `['ListingItem']`, и сохраняет его в переменную obj\n",
    "\n",
    "Определяет переменные, содержащие имена классов для различных блоков информации, которые могут быть полезны для дальнейшего парсинга. Эти переменные:\n",
    "\n",
    "- `main` — основной блок информации об автомобиле.\n",
    "- `price` — блок с информацией о цене.\n",
    "- `year` — блок с информацией о годе выпуска.\n",
    "- `mileage` — блок с информацией о пробеге."
   ]
  },
  {
   "cell_type": "code",
   "execution_count": 15,
   "id": "7c125c16",
   "metadata": {},
   "outputs": [],
   "source": [
    "soup = BeautifulSoup(driver.page_source, 'html.parser')\n",
    "obj = soup.find(lambda tag: tag.name == 'div' and tag.get('class') == ['ListingItem'])\n",
    "\n",
    "main = 'ListingItem__main'\n",
    "price = 'ListingItem__priceBlock'\n",
    "year = 'ListingItem__yearBlock'\n",
    "mileage = 'ListingItem__kmAgeAndActionsBlock'"
   ]
  },
  {
   "cell_type": "markdown",
   "id": "23c52771",
   "metadata": {},
   "source": [
    "Ищем блоки на странице, которые отвечают за основную информацию об автомобиле."
   ]
  },
  {
   "cell_type": "code",
   "execution_count": 16,
   "id": "52e89303",
   "metadata": {
    "scrolled": true
   },
   "outputs": [],
   "source": [
    "caritems = soup.findAll(lambda tag: tag.name == 'div' and tag.get('class') == [main])"
   ]
  },
  {
   "cell_type": "markdown",
   "id": "ae83d3fe",
   "metadata": {},
   "source": [
    "Результат получается слишком большой, чтобы будет плохо выглядеть на гитхабе и займет большую часть тетрадки, поэтому ниже представлена короткая его часть.\n",
    "\n",
    "\\<div class=\"ListingItem__main\"><div class=\"ListingItem__thumb\"><a class=\"Link OfferThumb OfferThumb_radius_r8\" href=\"https://auto.ru/cars/used/sale/fiat/500/1123199681-b048322a/?geo_id=213\" rel=\"noopener\" target=\"__lol-1717015685163-0.022556985751779557\"><div class=\"OfferThumb__brazzers\"><div class=\"Brazzers Brazzers_forceShowButtons\"><div class=\"Brazzers__page\"><div class=\"Brazzers__image-wrapper\"><div class=\"LazyImage Brazzers__image LazyImage_force\"><iframe allowtransparency=\"true\" class=\"LazyImage__image s7e0f60ba\" frameborder=\"no\" hidefocus=\"true\" id=\"csr-uniq21\" marginheight=\"0\" marginwidth=\"0\" sandbox=\"allow-same-origin allow-popups allow-scripts allow-forms\" scrolling=\"no\" src=\"https://yastatic.net/naydex/autoru/12ljb9w85/147f5bbmjOq4/Ag_d_ZgTnnEu9HoqNL_1iIIiX3gtV3CFmAdXzu_NnonqrK0RhC1JdIPKKelNJtTlKFBjG5EAh-iBKLHnJ-07SDe7uF2pg6sBD0Ufa9CrRKnyk0_oCPagdKwGZ15fnD9NOu3NUVb-mhbx2aqaHxTGF4gQQnvl8UerovwgZvc8Coln2"
   ]
  },
  {
   "cell_type": "markdown",
   "id": "272ed78e",
   "metadata": {},
   "source": [
    "---"
   ]
  },
  {
   "cell_type": "markdown",
   "id": "872e7308",
   "metadata": {},
   "source": [
    "Ищем блоки на странице, которые отвечают за  информацию о цене автомобиля"
   ]
  },
  {
   "cell_type": "code",
   "execution_count": 17,
   "id": "639ad551",
   "metadata": {
    "scrolled": true
   },
   "outputs": [],
   "source": [
    "caritems_price_blocks = soup.findAll(lambda tag: tag.name == 'div' and tag.get('class') == [price])\n"
   ]
  },
  {
   "cell_type": "markdown",
   "id": "b605321d",
   "metadata": {},
   "source": [
    "ll=\"currentColor\" fill-rule=\"evenodd\">\\</path>\\</svg>\\</div>\\</span>\\</span>\\</div>\\<div class=\"Button Button_color_white Button_size_s Button_type_div Button_width_default ButtonCompare ButtonCompare_type_button ButtonCompare_size_s\" role=\"button\" type=\"div\">\\<span class=\"Button__content\">\\<span class=\"ButtonCompare__tooltip HoveredTooltip__trigger\">\\<svg class=\"IconSvg IconSvg_name_SvgCompareCar IconSvg_size_16 ButtonCompare__icon\" fill=\"none\" viewbox=\"0 0 16 16\" "
   ]
  },
  {
   "cell_type": "markdown",
   "id": "098c5b04",
   "metadata": {},
   "source": [
    "Ищем блоки на странице, которые отвечают за  информацию о годе выпуска автомобиля."
   ]
  },
  {
   "cell_type": "code",
   "execution_count": 18,
   "id": "0684f49b",
   "metadata": {},
   "outputs": [],
   "source": [
    "caritems_year_blocks = soup.findAll(lambda tag: tag.name == 'div' and tag.get('class') == [year])\n"
   ]
  },
  {
   "cell_type": "markdown",
   "id": "a76799fa",
   "metadata": {},
   "source": [
    "\\<div class=\"ListingItem__yearBlock\">\\<div class=\"ListingItem__year\">2010</div></div>,\n",
    "\n",
    " \\<div class=\"ListingItem__yearBlock\">\\<div class=\"ListingItem__year\">2017</div></div>,\n",
    " \n",
    " \\<div class=\"ListingItem__yearBlock\">\\<div class=\"ListingItem__year\">2012</div></div>,\n",
    " \n",
    " \\<div class=\"ListingItem__yearBlock\">\\<div class=\"ListingItem__year\">2015</div></div>,\n",
    " \n",
    " \\<div class=\"ListingItem__yearBlock\">\\<div class=\"ListingItem__year\">2017</div></div>,"
   ]
  },
  {
   "cell_type": "markdown",
   "id": "44e767e7",
   "metadata": {},
   "source": [
    "Ищем блоки на странице, которые отвечают за  информацию о пробеге автомобиля."
   ]
  },
  {
   "cell_type": "code",
   "execution_count": 19,
   "id": "bc2d2393",
   "metadata": {
    "scrolled": true
   },
   "outputs": [],
   "source": [
    "caritems_mileage_blocks = soup.findAll(lambda tag: tag.name == 'div' and tag.get('class') == [mileage])\n"
   ]
  },
  {
   "cell_type": "markdown",
   "id": "bcebe0a5",
   "metadata": {},
   "source": [
    "\\<span class=\"ButtonCompare__tooltip HoveredTooltip__trigger\">\\<svg class=\"IconSvg IconSvg_name_SvgCompareCar IconSvg_size_16 ButtonCompare__icon\" fill=\"none\" viewbox=\"0 0 16 16\" xmlns=\"http://www.w3.org/2000/svg\">\\<path d=\"m15 4-4-4v3.25H2v1.5h9V8zM5 11.25V8l-4 4 4 4v-3.25h9v-1.5z\" fill=\"currentColor\">"
   ]
  },
  {
   "cell_type": "code",
   "execution_count": 20,
   "id": "d04d1780",
   "metadata": {},
   "outputs": [],
   "source": [
    "# Присваиваем первый блок пробега переменной a\n",
    "a = caritems_mileage_blocks[0]\n",
    "\n",
    "# Создаем пустой словарь для хранения информации об автомобилях\n",
    "dict_car = {}\n",
    "\n",
    "# Проходим по всем блокам года выпуска и заполняем словарь информацией об автомобилях\n",
    "for i in range(len(caritems_year_blocks)):\n",
    "    make_info_dict(\n",
    "        dict_car,\n",
    "        car,\n",
    "        model,\n",
    "        caritems_price_blocks,\n",
    "        caritems_year_blocks,\n",
    "        caritems_mileage_blocks,\n",
    "        i\n",
    "    )"
   ]
  },
  {
   "cell_type": "code",
   "execution_count": 21,
   "id": "eb66836e",
   "metadata": {},
   "outputs": [
    {
     "data": {
      "text/plain": [
       "{'fiat_500_0': {'price': 1850000, 'year': 2018, 'mileage': 60000},\n",
       " 'fiat_500_1': {'price': 800000, 'year': 2012, 'mileage': 108000},\n",
       " 'fiat_500_2': {'price': 625000, 'year': 2010, 'mileage': 195515},\n",
       " 'fiat_500_3': {'price': 1295000, 'year': 2015, 'mileage': 64592},\n",
       " 'fiat_500_4': {'price': 1739000, 'year': 2017, 'mileage': 67500},\n",
       " 'fiat_500_5': {'price': 850000, 'year': 2011, 'mileage': 88000},\n",
       " 'fiat_500_6': {'price': 1390000, 'year': 2017, 'mileage': 60000},\n",
       " 'fiat_500_7': {'price': 3500000, 'year': 2020, 'mileage': 25000},\n",
       " 'fiat_500_8': {'price': 2300000, 'year': 2018, 'mileage': 35000},\n",
       " 'fiat_500_9': {'price': 1690000, 'year': 2012, 'mileage': 41200},\n",
       " 'fiat_500_10': {'price': 800000, 'year': 2010, 'mileage': 112164},\n",
       " 'fiat_500_11': {'price': 900000, 'year': 2008, 'mileage': 109000},\n",
       " 'fiat_500_12': {'price': 850000, 'year': 2008, 'mileage': 145000},\n",
       " 'fiat_500_13': {'price': 1300000, 'year': 2017, 'mileage': 64000},\n",
       " 'fiat_500_14': {'price': 550000, 'year': 2008, 'mileage': 215000},\n",
       " 'fiat_500_15': {'price': 699000, 'year': 2008, 'mileage': 110000},\n",
       " 'fiat_500_16': {'price': 3990000, 'year': 2021, 'mileage': 23000},\n",
       " 'fiat_500_17': {'price': 500000, 'year': 2008, 'mileage': 120000},\n",
       " 'fiat_500_18': {'price': 2650000, 'year': 2017, 'mileage': 47000},\n",
       " 'fiat_500_19': {'price': 890000, 'year': 2014, 'mileage': 115000},\n",
       " 'fiat_500_20': {'price': 510000, 'year': 2008, 'mileage': 170355},\n",
       " 'fiat_500_21': {'price': 2300000, 'year': 2021, 'mileage': 9000}}"
      ]
     },
     "execution_count": 21,
     "metadata": {},
     "output_type": "execute_result"
    }
   ],
   "source": [
    "dict_car"
   ]
  },
  {
   "cell_type": "markdown",
   "id": "22084ec3",
   "metadata": {},
   "source": [
    "Отлично,  нас удалось создать словарь с ценами, годом и пробегом автомобилей из объявлений."
   ]
  },
  {
   "cell_type": "markdown",
   "id": "aee3b57a",
   "metadata": {},
   "source": [
    "### Парсинг"
   ]
  },
  {
   "cell_type": "markdown",
   "id": "189f54fd",
   "metadata": {},
   "source": [
    "Создадим переменную буфер, в которую положим марку и модель автомобиля, которые разделим точкой с запятой. Это нужно для дальнейшей удобной работы"
   ]
  },
  {
   "cell_type": "code",
   "execution_count": 10,
   "id": "c3550e66",
   "metadata": {
    "scrolled": true
   },
   "outputs": [],
   "source": [
    "cars_buf = (cars['make']+';'+cars['model']).unique()\n",
    "cars_buf"
   ]
  },
  {
   "cell_type": "markdown",
   "id": "2cc95a58",
   "metadata": {},
   "source": [
    "Создадим переменные, которые мы будем заполнять спарсенными данными, переменые заполним нулями"
   ]
  },
  {
   "cell_type": "code",
   "execution_count": 13,
   "id": "c95d131f",
   "metadata": {},
   "outputs": [],
   "source": [
    "cars['price_mean'] = [0]*cars.shape[0]\n",
    "cars['mileage_mean'] = [0]*cars.shape[0]"
   ]
  },
  {
   "cell_type": "code",
   "execution_count": 24,
   "id": "20aff55b",
   "metadata": {},
   "outputs": [
    {
     "data": {
      "text/plain": [
       "(56244, 12)"
      ]
     },
     "execution_count": 24,
     "metadata": {},
     "output_type": "execute_result"
    }
   ],
   "source": [
    "cars.shape"
   ]
  },
  {
   "cell_type": "markdown",
   "id": "8e7cd108",
   "metadata": {},
   "source": [
    "Датасет"
   ]
  },
  {
   "cell_type": "code",
   "execution_count": 23,
   "id": "1d599e5d",
   "metadata": {},
   "outputs": [],
   "source": [
    "# Пройдем по всем объектам автомобилей в cars_buf\n",
    "for obj_car in tqdm_notebook(cars_buf):\n",
    "    dict_car = {}\n",
    "    driver = webdriver.Chrome('./chromedriver.exe')\n",
    "    time.sleep(3)\n",
    "    \n",
    "    page_link = 'https://auto.ru/moskva/cars/'\n",
    "    car, model = obj_car.split(';')\n",
    "    print(car, model, end=' | ')\n",
    "    \n",
    "    fiat = f'{car}/{model}/used'\n",
    "    ref = page_link + fiat\n",
    "    \n",
    "    try:\n",
    "        driver.get(ref)\n",
    "\n",
    "        # Парсим HTML-страницу\n",
    "        soup = BeautifulSoup(driver.page_source, 'html.parser')\n",
    "        \n",
    "        # Находим первый элемент div с классом 'ListingItem'\n",
    "        obj = soup.find(lambda tag: tag.name == 'div' and tag.get('class') == ['ListingItem'])\n",
    "        \n",
    "        # Ищем все элементы с нужными классами\n",
    "        caritems = soup.findAll(lambda tag: tag.name == 'div' and tag.get('class') == [main])\n",
    "        caritems_price_blocks = soup.findAll(lambda tag: tag.name == 'div' and tag.get('class') == [price])\n",
    "        caritems_year_blocks = soup.findAll(lambda tag: tag.name == 'div' and tag.get('class') == [year])\n",
    "        caritems_mileage_blocks = soup.findAll(lambda tag: tag.name == 'div' and tag.get('class') == [mileage])\n",
    "\n",
    "        # Заполняем словарь информацией об автомобилях\n",
    "        for i in range(len(caritems_year_blocks)):\n",
    "            make_info_dict(\n",
    "                dict_car,\n",
    "                car,\n",
    "                model,\n",
    "                caritems_price_blocks,\n",
    "                caritems_year_blocks,\n",
    "                caritems_mileage_blocks,\n",
    "                i\n",
    "            )\n",
    "\n",
    "        # Записываем средние значения цены и пробега в DataFrame\n",
    "        cars.loc[\n",
    "            (cars['make'] == car) & (cars['model'] == model),\n",
    "            ['price_mean', 'mileage_mean']\n",
    "        ] = find_means(dict_car)\n",
    "    \n",
    "    except:\n",
    "        print(f\"Error processing {car} {model}: {e}\")\n",
    "        cars.loc[\n",
    "            (cars['make'] == car) & (cars['model'] == model),\n",
    "            ['price_mean', 'mileage_mean']\n",
    "        ] = np.nan, np.nan\n",
    "    \n",
    "    finally:\n",
    "        driver.quit()\n",
    "    \n",
    "    # Сохраняем датафрейм в csv\n",
    "    cars.to_csv('./datasets/dataset_cars_with_mean_priceandmileage.csv')"
   ]
  },
  {
   "cell_type": "markdown",
   "id": "7009e804",
   "metadata": {},
   "source": [
    "Прогресс данной ячейки сбросился после перезагрузки тетрадки для последовательного запуска ячеек, но датасет с добавленными переменными сохранен в файл с названием `dataset_cars_with_mean_priceandmileage.csv`"
   ]
  },
  {
   "cell_type": "markdown",
   "id": "a0424c4a",
   "metadata": {},
   "source": [
    "Продолжили с этого места"
   ]
  },
  {
   "attachments": {
    "image.png": {
     "image/png": "[encoded data removed]"
    }
   },
   "cell_type": "markdown",
   "id": "53d26ed2",
   "metadata": {},
   "source": [
    "![image.png](attachment:image.png)"
   ]
  },
  {
   "cell_type": "code",
   "execution_count": 23,
   "id": "17ed6495",
   "metadata": {
    "scrolled": true
   },
   "outputs": [],
   "source": [
    "cars = pd.read_csv('./datasets/dataset_cars_with_mean_priceandmileage.csv',index_col='Unnamed: 0')\n",
    "cars = cars.drop(['Unnamed: 0.2','Unnamed: 0.1'],axis=1)"
   ]
  },
  {
   "cell_type": "markdown",
   "id": "3f9a0866",
   "metadata": {},
   "source": [
    "Присоединим датасет к оригинальному датасету, чтобы никакое значение не потерялось"
   ]
  },
  {
   "cell_type": "code",
   "execution_count": 24,
   "id": "5f6ffc86",
   "metadata": {},
   "outputs": [
    {
     "data": {
      "text/plain": [
       "(56244, 14)"
      ]
     },
     "execution_count": 24,
     "metadata": {},
     "output_type": "execute_result"
    }
   ],
   "source": [
    "cars = pd.concat([cars_orig, cars[['price_mean', 'mileage_mean']]], axis=1)\n",
    "cars.shape"
   ]
  },
  {
   "cell_type": "code",
   "execution_count": 25,
   "id": "101c19a9",
   "metadata": {},
   "outputs": [
    {
     "data": {
      "text/html": [
       "<div>\n",
       "<style scoped>\n",
       "    .dataframe tbody tr th:only-of-type {\n",
       "        vertical-align: middle;\n",
       "    }\n",
       "\n",
       "    .dataframe tbody tr th {\n",
       "        vertical-align: top;\n",
       "    }\n",
       "\n",
       "    .dataframe thead th {\n",
       "        text-align: right;\n",
       "    }\n",
       "</style>\n",
       "<table border=\"1\" class=\"dataframe\">\n",
       "  <thead>\n",
       "    <tr style=\"text-align: right;\">\n",
       "      <th></th>\n",
       "      <th>make</th>\n",
       "      <th>model</th>\n",
       "      <th>priceUSD</th>\n",
       "      <th>year</th>\n",
       "      <th>condition</th>\n",
       "      <th>mileage(kilometers)</th>\n",
       "      <th>fuel_type</th>\n",
       "      <th>volume(cm3)</th>\n",
       "      <th>color</th>\n",
       "      <th>transmission</th>\n",
       "      <th>drive_unit</th>\n",
       "      <th>segment</th>\n",
       "      <th>price_mean</th>\n",
       "      <th>mileage_mean</th>\n",
       "    </tr>\n",
       "  </thead>\n",
       "  <tbody>\n",
       "    <tr>\n",
       "      <th>0</th>\n",
       "      <td>mazda</td>\n",
       "      <td>2</td>\n",
       "      <td>5500</td>\n",
       "      <td>2008</td>\n",
       "      <td>with mileage</td>\n",
       "      <td>162000.0</td>\n",
       "      <td>petrol</td>\n",
       "      <td>1500.0</td>\n",
       "      <td>burgundy</td>\n",
       "      <td>mechanics</td>\n",
       "      <td>front-wheel drive</td>\n",
       "      <td>B</td>\n",
       "      <td>758866.666667</td>\n",
       "      <td>176636.266667</td>\n",
       "    </tr>\n",
       "    <tr>\n",
       "      <th>1</th>\n",
       "      <td>mazda</td>\n",
       "      <td>2</td>\n",
       "      <td>5350</td>\n",
       "      <td>2009</td>\n",
       "      <td>with mileage</td>\n",
       "      <td>120000.0</td>\n",
       "      <td>petrol</td>\n",
       "      <td>1300.0</td>\n",
       "      <td>black</td>\n",
       "      <td>mechanics</td>\n",
       "      <td>front-wheel drive</td>\n",
       "      <td>B</td>\n",
       "      <td>758866.666667</td>\n",
       "      <td>176636.266667</td>\n",
       "    </tr>\n",
       "  </tbody>\n",
       "</table>\n",
       "</div>"
      ],
      "text/plain": [
       "    make model  priceUSD  year     condition  mileage(kilometers) fuel_type  \\\n",
       "0  mazda     2      5500  2008  with mileage             162000.0    petrol   \n",
       "1  mazda     2      5350  2009  with mileage             120000.0    petrol   \n",
       "\n",
       "   volume(cm3)     color transmission         drive_unit segment  \\\n",
       "0       1500.0  burgundy    mechanics  front-wheel drive       B   \n",
       "1       1300.0     black    mechanics  front-wheel drive       B   \n",
       "\n",
       "      price_mean   mileage_mean  \n",
       "0  758866.666667  176636.266667  \n",
       "1  758866.666667  176636.266667  "
      ]
     },
     "execution_count": 25,
     "metadata": {},
     "output_type": "execute_result"
    }
   ],
   "source": [
    "cars.head(2)"
   ]
  },
  {
   "cell_type": "markdown",
   "id": "bf93e455",
   "metadata": {},
   "source": [
    "## EDA"
   ]
  },
  {
   "cell_type": "markdown",
   "id": "9908aae7",
   "metadata": {},
   "source": [
    "Проведем разведывательный анализ с целью обнаружения интересных зависимостей и удаления аномалий в датасете."
   ]
  },
  {
   "cell_type": "code",
   "execution_count": 26,
   "id": "e0968eee",
   "metadata": {},
   "outputs": [
    {
     "name": "stdout",
     "output_type": "stream",
     "text": [
      "<class 'pandas.core.frame.DataFrame'>\n",
      "RangeIndex: 56244 entries, 0 to 56243\n",
      "Data columns (total 14 columns):\n",
      " #   Column               Non-Null Count  Dtype  \n",
      "---  ------               --------------  -----  \n",
      " 0   make                 56244 non-null  object \n",
      " 1   model                56244 non-null  object \n",
      " 2   priceUSD             56244 non-null  int64  \n",
      " 3   year                 56244 non-null  int64  \n",
      " 4   condition            56244 non-null  object \n",
      " 5   mileage(kilometers)  56244 non-null  float64\n",
      " 6   fuel_type            56244 non-null  object \n",
      " 7   volume(cm3)          56197 non-null  float64\n",
      " 8   color                56244 non-null  object \n",
      " 9   transmission         56244 non-null  object \n",
      " 10  drive_unit           54339 non-null  object \n",
      " 11  segment              50953 non-null  object \n",
      " 12  price_mean           6856 non-null   float64\n",
      " 13  mileage_mean         6856 non-null   float64\n",
      "dtypes: float64(4), int64(2), object(8)\n",
      "memory usage: 6.0+ MB\n"
     ]
    }
   ],
   "source": [
    "cars.info()"
   ]
  },
  {
   "cell_type": "markdown",
   "id": "803e6e25",
   "metadata": {},
   "source": [
    "Из информации о датасете становится понятно, что имеется 8 текстовых признаков, 2 целочисленных и 2 дробных признака. Датасет имеет 56243 записи, что отлично подходит для его изучения."
   ]
  },
  {
   "cell_type": "markdown",
   "id": "cf60553f",
   "metadata": {},
   "source": [
    "### Пропуски в данных"
   ]
  },
  {
   "cell_type": "markdown",
   "id": "17813643",
   "metadata": {},
   "source": [
    "Изучим количество пропусков в датасете"
   ]
  },
  {
   "cell_type": "code",
   "execution_count": 27,
   "id": "b86170c1",
   "metadata": {
    "scrolled": false
   },
   "outputs": [
    {
     "data": {
      "text/plain": [
       "make                       0\n",
       "model                      0\n",
       "priceUSD                   0\n",
       "year                       0\n",
       "condition                  0\n",
       "mileage(kilometers)        0\n",
       "fuel_type                  0\n",
       "volume(cm3)               47\n",
       "color                      0\n",
       "transmission               0\n",
       "drive_unit              1905\n",
       "segment                 5291\n",
       "price_mean             49388\n",
       "mileage_mean           49388\n",
       "dtype: int64"
      ]
     },
     "execution_count": 27,
     "metadata": {},
     "output_type": "execute_result"
    }
   ],
   "source": [
    "cars.isna().sum()"
   ]
  },
  {
   "cell_type": "markdown",
   "id": "e051207b",
   "metadata": {},
   "source": [
    "Пропуски в переменных `drive_unit` и `segment` заменим на значение **Unknown**. Данное значение отлично дает понять, что значение является пропуском, но с ним можно удобно работать и считать его за отдельную категорию. Замена будет произведена именно на это значение, а не на моду, так как `drive_unit` и `segment` сильно отличаются в разных машинах и это может сильно сказаться на итоговых результатах.\n",
    "\n",
    "Пропуски в переменных `price_mean` и `mileage_mean` заменим на значение"
   ]
  },
  {
   "cell_type": "code",
   "execution_count": 28,
   "id": "5e7bba33",
   "metadata": {},
   "outputs": [],
   "source": [
    "cars['drive_unit'] = cars['drive_unit'].fillna('Unknown')\n",
    "cars['segment'] = cars['segment'].fillna('Unknown')\n",
    "cars['price_mean'] = cars['price_mean'].fillna(-1)\n",
    "cars['mileage_mean'] = cars['mileage_mean'].fillna(-1)"
   ]
  },
  {
   "cell_type": "markdown",
   "id": "6902b7b8",
   "metadata": {},
   "source": [
    "Пропуски в наших добавленных признаках мы удалять не будем, а заменим например на значение -1, так как такое возникает, когда не получилось установить соединение с ресурсом или нет базе данных автомобилей такого типа."
   ]
  },
  {
   "cell_type": "markdown",
   "id": "2506f6b7",
   "metadata": {},
   "source": [
    "Пропусков совсем небольшое количетсво. Нужно чуть подробнее изучить в каких случаях они повявляются, чтобы решить, что с ними можно сделать"
   ]
  },
  {
   "cell_type": "code",
   "execution_count": 29,
   "id": "fffb36b4",
   "metadata": {},
   "outputs": [
    {
     "data": {
      "text/html": [
       "<div>\n",
       "<style scoped>\n",
       "    .dataframe tbody tr th:only-of-type {\n",
       "        vertical-align: middle;\n",
       "    }\n",
       "\n",
       "    .dataframe tbody tr th {\n",
       "        vertical-align: top;\n",
       "    }\n",
       "\n",
       "    .dataframe thead th {\n",
       "        text-align: right;\n",
       "    }\n",
       "</style>\n",
       "<table border=\"1\" class=\"dataframe\">\n",
       "  <thead>\n",
       "    <tr style=\"text-align: right;\">\n",
       "      <th></th>\n",
       "      <th>make</th>\n",
       "      <th>model</th>\n",
       "      <th>priceUSD</th>\n",
       "      <th>year</th>\n",
       "      <th>condition</th>\n",
       "      <th>mileage(kilometers)</th>\n",
       "      <th>fuel_type</th>\n",
       "      <th>volume(cm3)</th>\n",
       "      <th>color</th>\n",
       "      <th>transmission</th>\n",
       "      <th>drive_unit</th>\n",
       "      <th>segment</th>\n",
       "      <th>price_mean</th>\n",
       "      <th>mileage_mean</th>\n",
       "    </tr>\n",
       "  </thead>\n",
       "  <tbody>\n",
       "    <tr>\n",
       "      <th>2268</th>\n",
       "      <td>alfa-romeo</td>\n",
       "      <td>147</td>\n",
       "      <td>8097</td>\n",
       "      <td>2007</td>\n",
       "      <td>with mileage</td>\n",
       "      <td>700.0</td>\n",
       "      <td>electrocar</td>\n",
       "      <td>NaN</td>\n",
       "      <td>burgundy</td>\n",
       "      <td>mechanics</td>\n",
       "      <td>Unknown</td>\n",
       "      <td>C</td>\n",
       "      <td>-1.0</td>\n",
       "      <td>-1.000000</td>\n",
       "    </tr>\n",
       "    <tr>\n",
       "      <th>4377</th>\n",
       "      <td>peugeot</td>\n",
       "      <td>406</td>\n",
       "      <td>5780</td>\n",
       "      <td>1995</td>\n",
       "      <td>with mileage</td>\n",
       "      <td>333333.0</td>\n",
       "      <td>electrocar</td>\n",
       "      <td>NaN</td>\n",
       "      <td>silver</td>\n",
       "      <td>auto</td>\n",
       "      <td>front-wheel drive</td>\n",
       "      <td>D</td>\n",
       "      <td>242000.0</td>\n",
       "      <td>302250.909091</td>\n",
       "    </tr>\n",
       "    <tr>\n",
       "      <th>4865</th>\n",
       "      <td>fiat</td>\n",
       "      <td>500</td>\n",
       "      <td>14500</td>\n",
       "      <td>2014</td>\n",
       "      <td>with mileage</td>\n",
       "      <td>49000.0</td>\n",
       "      <td>electrocar</td>\n",
       "      <td>NaN</td>\n",
       "      <td>orange</td>\n",
       "      <td>auto</td>\n",
       "      <td>front-wheel drive</td>\n",
       "      <td>M</td>\n",
       "      <td>-1.0</td>\n",
       "      <td>-1.000000</td>\n",
       "    </tr>\n",
       "    <tr>\n",
       "      <th>4867</th>\n",
       "      <td>fiat</td>\n",
       "      <td>500</td>\n",
       "      <td>13200</td>\n",
       "      <td>2013</td>\n",
       "      <td>with mileage</td>\n",
       "      <td>59900.0</td>\n",
       "      <td>electrocar</td>\n",
       "      <td>NaN</td>\n",
       "      <td>gray</td>\n",
       "      <td>auto</td>\n",
       "      <td>front-wheel drive</td>\n",
       "      <td>M</td>\n",
       "      <td>-1.0</td>\n",
       "      <td>-1.000000</td>\n",
       "    </tr>\n",
       "    <tr>\n",
       "      <th>4868</th>\n",
       "      <td>fiat</td>\n",
       "      <td>500</td>\n",
       "      <td>14500</td>\n",
       "      <td>2015</td>\n",
       "      <td>with mileage</td>\n",
       "      <td>30000.0</td>\n",
       "      <td>electrocar</td>\n",
       "      <td>NaN</td>\n",
       "      <td>gray</td>\n",
       "      <td>auto</td>\n",
       "      <td>front-wheel drive</td>\n",
       "      <td>M</td>\n",
       "      <td>-1.0</td>\n",
       "      <td>-1.000000</td>\n",
       "    </tr>\n",
       "    <tr>\n",
       "      <th>23577</th>\n",
       "      <td>cadillac</td>\n",
       "      <td>elr</td>\n",
       "      <td>25900</td>\n",
       "      <td>2014</td>\n",
       "      <td>with mileage</td>\n",
       "      <td>70000.0</td>\n",
       "      <td>electrocar</td>\n",
       "      <td>NaN</td>\n",
       "      <td>silver</td>\n",
       "      <td>auto</td>\n",
       "      <td>front-wheel drive</td>\n",
       "      <td>Unknown</td>\n",
       "      <td>-1.0</td>\n",
       "      <td>-1.000000</td>\n",
       "    </tr>\n",
       "    <tr>\n",
       "      <th>29346</th>\n",
       "      <td>bmw</td>\n",
       "      <td>i3</td>\n",
       "      <td>38000</td>\n",
       "      <td>2018</td>\n",
       "      <td>with mileage</td>\n",
       "      <td>67000.0</td>\n",
       "      <td>electrocar</td>\n",
       "      <td>NaN</td>\n",
       "      <td>other</td>\n",
       "      <td>auto</td>\n",
       "      <td>rear drive</td>\n",
       "      <td>Unknown</td>\n",
       "      <td>-1.0</td>\n",
       "      <td>-1.000000</td>\n",
       "    </tr>\n",
       "    <tr>\n",
       "      <th>29347</th>\n",
       "      <td>bmw</td>\n",
       "      <td>i3</td>\n",
       "      <td>57383</td>\n",
       "      <td>2017</td>\n",
       "      <td>with mileage</td>\n",
       "      <td>2822.0</td>\n",
       "      <td>electrocar</td>\n",
       "      <td>NaN</td>\n",
       "      <td>blue</td>\n",
       "      <td>auto</td>\n",
       "      <td>rear drive</td>\n",
       "      <td>Unknown</td>\n",
       "      <td>-1.0</td>\n",
       "      <td>-1.000000</td>\n",
       "    </tr>\n",
       "    <tr>\n",
       "      <th>29350</th>\n",
       "      <td>bmw</td>\n",
       "      <td>i3</td>\n",
       "      <td>22900</td>\n",
       "      <td>2014</td>\n",
       "      <td>with mileage</td>\n",
       "      <td>71500.0</td>\n",
       "      <td>electrocar</td>\n",
       "      <td>NaN</td>\n",
       "      <td>silver</td>\n",
       "      <td>auto</td>\n",
       "      <td>rear drive</td>\n",
       "      <td>Unknown</td>\n",
       "      <td>-1.0</td>\n",
       "      <td>-1.000000</td>\n",
       "    </tr>\n",
       "    <tr>\n",
       "      <th>29351</th>\n",
       "      <td>bmw</td>\n",
       "      <td>i3</td>\n",
       "      <td>22900</td>\n",
       "      <td>2015</td>\n",
       "      <td>with mileage</td>\n",
       "      <td>50000.0</td>\n",
       "      <td>electrocar</td>\n",
       "      <td>NaN</td>\n",
       "      <td>black</td>\n",
       "      <td>auto</td>\n",
       "      <td>rear drive</td>\n",
       "      <td>Unknown</td>\n",
       "      <td>-1.0</td>\n",
       "      <td>-1.000000</td>\n",
       "    </tr>\n",
       "  </tbody>\n",
       "</table>\n",
       "</div>"
      ],
      "text/plain": [
       "             make model  priceUSD  year     condition  mileage(kilometers)  \\\n",
       "2268   alfa-romeo   147      8097  2007  with mileage                700.0   \n",
       "4377      peugeot   406      5780  1995  with mileage             333333.0   \n",
       "4865         fiat   500     14500  2014  with mileage              49000.0   \n",
       "4867         fiat   500     13200  2013  with mileage              59900.0   \n",
       "4868         fiat   500     14500  2015  with mileage              30000.0   \n",
       "23577    cadillac   elr     25900  2014  with mileage              70000.0   \n",
       "29346         bmw    i3     38000  2018  with mileage              67000.0   \n",
       "29347         bmw    i3     57383  2017  with mileage               2822.0   \n",
       "29350         bmw    i3     22900  2014  with mileage              71500.0   \n",
       "29351         bmw    i3     22900  2015  with mileage              50000.0   \n",
       "\n",
       "        fuel_type  volume(cm3)     color transmission         drive_unit  \\\n",
       "2268   electrocar          NaN  burgundy    mechanics            Unknown   \n",
       "4377   electrocar          NaN    silver         auto  front-wheel drive   \n",
       "4865   electrocar          NaN    orange         auto  front-wheel drive   \n",
       "4867   electrocar          NaN      gray         auto  front-wheel drive   \n",
       "4868   electrocar          NaN      gray         auto  front-wheel drive   \n",
       "23577  electrocar          NaN    silver         auto  front-wheel drive   \n",
       "29346  electrocar          NaN     other         auto         rear drive   \n",
       "29347  electrocar          NaN      blue         auto         rear drive   \n",
       "29350  electrocar          NaN    silver         auto         rear drive   \n",
       "29351  electrocar          NaN     black         auto         rear drive   \n",
       "\n",
       "       segment  price_mean   mileage_mean  \n",
       "2268         C        -1.0      -1.000000  \n",
       "4377         D    242000.0  302250.909091  \n",
       "4865         M        -1.0      -1.000000  \n",
       "4867         M        -1.0      -1.000000  \n",
       "4868         M        -1.0      -1.000000  \n",
       "23577  Unknown        -1.0      -1.000000  \n",
       "29346  Unknown        -1.0      -1.000000  \n",
       "29347  Unknown        -1.0      -1.000000  \n",
       "29350  Unknown        -1.0      -1.000000  \n",
       "29351  Unknown        -1.0      -1.000000  "
      ]
     },
     "execution_count": 29,
     "metadata": {},
     "output_type": "execute_result"
    }
   ],
   "source": [
    "cars.loc[cars['volume(cm3)'].isna()].head(10)"
   ]
  },
  {
   "cell_type": "markdown",
   "id": "094b2eec",
   "metadata": {},
   "source": [
    "Можем увидеть, что пропуски в объеме двигателя связаны с тем, что в датасете есть электрокары. Постараемся избавиться от этих пропусков заменой на значение 0, потому что этот признак означает налиичие двигателя внутреннего сгорания. У электрокаров такой двигатель отсутствует, значит мы можем указать, что его объем равен 0.\n",
    "\n",
    "В двух других признаках нет каких-то явных причин появления пропусков, поэтому постараемся их заполнить после того, как изучим распределения этих переменных."
   ]
  },
  {
   "cell_type": "code",
   "execution_count": 30,
   "id": "1afb94fe",
   "metadata": {},
   "outputs": [],
   "source": [
    "cars['volume(cm3)'] = cars['volume(cm3)'].fillna(0)"
   ]
  },
  {
   "cell_type": "code",
   "execution_count": 31,
   "id": "1d25da6b",
   "metadata": {},
   "outputs": [
    {
     "data": {
      "text/plain": [
       "make                   0\n",
       "model                  0\n",
       "priceUSD               0\n",
       "year                   0\n",
       "condition              0\n",
       "mileage(kilometers)    0\n",
       "fuel_type              0\n",
       "volume(cm3)            0\n",
       "color                  0\n",
       "transmission           0\n",
       "drive_unit             0\n",
       "segment                0\n",
       "price_mean             0\n",
       "mileage_mean           0\n",
       "dtype: int64"
      ]
     },
     "execution_count": 31,
     "metadata": {},
     "output_type": "execute_result"
    }
   ],
   "source": [
    "cars.isna().sum()"
   ]
  },
  {
   "cell_type": "markdown",
   "id": "6ca91dbb",
   "metadata": {},
   "source": [
    "В признаках drive_unit и segment заменим пропуски на новую категорию \"unknown\""
   ]
  },
  {
   "cell_type": "code",
   "execution_count": 32,
   "id": "4a5890fb",
   "metadata": {},
   "outputs": [
    {
     "data": {
      "text/plain": [
       "make                   0\n",
       "model                  0\n",
       "priceUSD               0\n",
       "year                   0\n",
       "condition              0\n",
       "mileage(kilometers)    0\n",
       "fuel_type              0\n",
       "volume(cm3)            0\n",
       "color                  0\n",
       "transmission           0\n",
       "drive_unit             0\n",
       "segment                0\n",
       "price_mean             0\n",
       "mileage_mean           0\n",
       "dtype: int64"
      ]
     },
     "execution_count": 32,
     "metadata": {},
     "output_type": "execute_result"
    }
   ],
   "source": [
    "cars['drive_unit'] = cars['drive_unit'].fillna('unknown')\n",
    "cars['segment'] = cars['segment'].fillna('unknown')\n",
    "cars.isna().sum()"
   ]
  },
  {
   "cell_type": "markdown",
   "id": "a482fa4d",
   "metadata": {},
   "source": [
    "### Явные дубликаты "
   ]
  },
  {
   "cell_type": "markdown",
   "id": "94da04da",
   "metadata": {},
   "source": [
    "Стоит избавиться от всех явных дубликатов, то есть таких строк, которые повторяются."
   ]
  },
  {
   "cell_type": "code",
   "execution_count": 33,
   "id": "9cb32288",
   "metadata": {
    "scrolled": true
   },
   "outputs": [
    {
     "data": {
      "text/plain": [
       "87"
      ]
     },
     "execution_count": 33,
     "metadata": {},
     "output_type": "execute_result"
    }
   ],
   "source": [
    "cars.duplicated().sum()"
   ]
  },
  {
   "cell_type": "markdown",
   "id": "579973ea",
   "metadata": {},
   "source": [
    "Видим, что встроенный метод в pandas обнаружил 87 явных дубликата. Дубликаты никакой ценности для нас не несут, но реальность такова, что в таких данных(без какого-то более менее уникального признака) трудно сказать является ли запись дубликатом, постараемся это понять."
   ]
  },
  {
   "cell_type": "code",
   "execution_count": 34,
   "id": "589e5b14",
   "metadata": {
    "scrolled": true
   },
   "outputs": [
    {
     "data": {
      "text/html": [
       "<div>\n",
       "<style scoped>\n",
       "    .dataframe tbody tr th:only-of-type {\n",
       "        vertical-align: middle;\n",
       "    }\n",
       "\n",
       "    .dataframe tbody tr th {\n",
       "        vertical-align: top;\n",
       "    }\n",
       "\n",
       "    .dataframe thead th {\n",
       "        text-align: right;\n",
       "    }\n",
       "</style>\n",
       "<table border=\"1\" class=\"dataframe\">\n",
       "  <thead>\n",
       "    <tr style=\"text-align: right;\">\n",
       "      <th></th>\n",
       "      <th>make</th>\n",
       "      <th>model</th>\n",
       "      <th>priceUSD</th>\n",
       "      <th>year</th>\n",
       "      <th>condition</th>\n",
       "      <th>mileage(kilometers)</th>\n",
       "      <th>fuel_type</th>\n",
       "      <th>volume(cm3)</th>\n",
       "      <th>color</th>\n",
       "      <th>transmission</th>\n",
       "      <th>drive_unit</th>\n",
       "      <th>segment</th>\n",
       "      <th>price_mean</th>\n",
       "      <th>mileage_mean</th>\n",
       "    </tr>\n",
       "  </thead>\n",
       "  <tbody>\n",
       "    <tr>\n",
       "      <th>1930</th>\n",
       "      <td>audi</td>\n",
       "      <td>100</td>\n",
       "      <td>1280</td>\n",
       "      <td>1991</td>\n",
       "      <td>with mileage</td>\n",
       "      <td>305000.0</td>\n",
       "      <td>petrol</td>\n",
       "      <td>2300.0</td>\n",
       "      <td>red</td>\n",
       "      <td>mechanics</td>\n",
       "      <td>front-wheel drive</td>\n",
       "      <td>E</td>\n",
       "      <td>-1.0</td>\n",
       "      <td>-1.000000</td>\n",
       "    </tr>\n",
       "    <tr>\n",
       "      <th>2054</th>\n",
       "      <td>audi</td>\n",
       "      <td>100</td>\n",
       "      <td>2000</td>\n",
       "      <td>1988</td>\n",
       "      <td>with mileage</td>\n",
       "      <td>350000.0</td>\n",
       "      <td>petrol</td>\n",
       "      <td>2300.0</td>\n",
       "      <td>blue</td>\n",
       "      <td>mechanics</td>\n",
       "      <td>front-wheel drive</td>\n",
       "      <td>E</td>\n",
       "      <td>-1.0</td>\n",
       "      <td>-1.000000</td>\n",
       "    </tr>\n",
       "    <tr>\n",
       "      <th>2140</th>\n",
       "      <td>audi</td>\n",
       "      <td>100</td>\n",
       "      <td>1100</td>\n",
       "      <td>1989</td>\n",
       "      <td>with mileage</td>\n",
       "      <td>350000.0</td>\n",
       "      <td>petrol</td>\n",
       "      <td>2300.0</td>\n",
       "      <td>burgundy</td>\n",
       "      <td>mechanics</td>\n",
       "      <td>front-wheel drive</td>\n",
       "      <td>E</td>\n",
       "      <td>-1.0</td>\n",
       "      <td>-1.000000</td>\n",
       "    </tr>\n",
       "    <tr>\n",
       "      <th>2179</th>\n",
       "      <td>peugeot</td>\n",
       "      <td>106</td>\n",
       "      <td>700</td>\n",
       "      <td>2000</td>\n",
       "      <td>with mileage</td>\n",
       "      <td>27000.0</td>\n",
       "      <td>diesel</td>\n",
       "      <td>1500.0</td>\n",
       "      <td>blue</td>\n",
       "      <td>mechanics</td>\n",
       "      <td>front-wheel drive</td>\n",
       "      <td>B</td>\n",
       "      <td>140000.0</td>\n",
       "      <td>82294.500000</td>\n",
       "    </tr>\n",
       "    <tr>\n",
       "      <th>4334</th>\n",
       "      <td>peugeot</td>\n",
       "      <td>406</td>\n",
       "      <td>2200</td>\n",
       "      <td>1995</td>\n",
       "      <td>with mileage</td>\n",
       "      <td>330000.0</td>\n",
       "      <td>petrol</td>\n",
       "      <td>1800.0</td>\n",
       "      <td>gray</td>\n",
       "      <td>mechanics</td>\n",
       "      <td>front-wheel drive</td>\n",
       "      <td>D</td>\n",
       "      <td>242000.0</td>\n",
       "      <td>302250.909091</td>\n",
       "    </tr>\n",
       "    <tr>\n",
       "      <th>...</th>\n",
       "      <td>...</td>\n",
       "      <td>...</td>\n",
       "      <td>...</td>\n",
       "      <td>...</td>\n",
       "      <td>...</td>\n",
       "      <td>...</td>\n",
       "      <td>...</td>\n",
       "      <td>...</td>\n",
       "      <td>...</td>\n",
       "      <td>...</td>\n",
       "      <td>...</td>\n",
       "      <td>...</td>\n",
       "      <td>...</td>\n",
       "      <td>...</td>\n",
       "    </tr>\n",
       "    <tr>\n",
       "      <th>53694</th>\n",
       "      <td>bmw</td>\n",
       "      <td>x5</td>\n",
       "      <td>16500</td>\n",
       "      <td>2007</td>\n",
       "      <td>with mileage</td>\n",
       "      <td>265000.0</td>\n",
       "      <td>diesel</td>\n",
       "      <td>3000.0</td>\n",
       "      <td>white</td>\n",
       "      <td>auto</td>\n",
       "      <td>all-wheel drive</td>\n",
       "      <td>J</td>\n",
       "      <td>-1.0</td>\n",
       "      <td>-1.000000</td>\n",
       "    </tr>\n",
       "    <tr>\n",
       "      <th>53828</th>\n",
       "      <td>bmw</td>\n",
       "      <td>x5</td>\n",
       "      <td>10000</td>\n",
       "      <td>2005</td>\n",
       "      <td>with mileage</td>\n",
       "      <td>231000.0</td>\n",
       "      <td>petrol</td>\n",
       "      <td>3000.0</td>\n",
       "      <td>black</td>\n",
       "      <td>auto</td>\n",
       "      <td>all-wheel drive</td>\n",
       "      <td>J</td>\n",
       "      <td>-1.0</td>\n",
       "      <td>-1.000000</td>\n",
       "    </tr>\n",
       "    <tr>\n",
       "      <th>54264</th>\n",
       "      <td>citroen</td>\n",
       "      <td>xantia</td>\n",
       "      <td>1800</td>\n",
       "      <td>1999</td>\n",
       "      <td>with mileage</td>\n",
       "      <td>300000.0</td>\n",
       "      <td>petrol</td>\n",
       "      <td>1800.0</td>\n",
       "      <td>black</td>\n",
       "      <td>mechanics</td>\n",
       "      <td>front-wheel drive</td>\n",
       "      <td>D</td>\n",
       "      <td>-1.0</td>\n",
       "      <td>-1.000000</td>\n",
       "    </tr>\n",
       "    <tr>\n",
       "      <th>55763</th>\n",
       "      <td>opel</td>\n",
       "      <td>zafira</td>\n",
       "      <td>4700</td>\n",
       "      <td>2002</td>\n",
       "      <td>with mileage</td>\n",
       "      <td>320000.0</td>\n",
       "      <td>diesel</td>\n",
       "      <td>2000.0</td>\n",
       "      <td>silver</td>\n",
       "      <td>mechanics</td>\n",
       "      <td>front-wheel drive</td>\n",
       "      <td>M</td>\n",
       "      <td>-1.0</td>\n",
       "      <td>-1.000000</td>\n",
       "    </tr>\n",
       "    <tr>\n",
       "      <th>56173</th>\n",
       "      <td>opel</td>\n",
       "      <td>zafira</td>\n",
       "      <td>6700</td>\n",
       "      <td>2006</td>\n",
       "      <td>with mileage</td>\n",
       "      <td>293628.0</td>\n",
       "      <td>diesel</td>\n",
       "      <td>1900.0</td>\n",
       "      <td>black</td>\n",
       "      <td>mechanics</td>\n",
       "      <td>front-wheel drive</td>\n",
       "      <td>M</td>\n",
       "      <td>-1.0</td>\n",
       "      <td>-1.000000</td>\n",
       "    </tr>\n",
       "  </tbody>\n",
       "</table>\n",
       "<p>87 rows × 14 columns</p>\n",
       "</div>"
      ],
      "text/plain": [
       "          make   model  priceUSD  year     condition  mileage(kilometers)  \\\n",
       "1930      audi     100      1280  1991  with mileage             305000.0   \n",
       "2054      audi     100      2000  1988  with mileage             350000.0   \n",
       "2140      audi     100      1100  1989  with mileage             350000.0   \n",
       "2179   peugeot     106       700  2000  with mileage              27000.0   \n",
       "4334   peugeot     406      2200  1995  with mileage             330000.0   \n",
       "...        ...     ...       ...   ...           ...                  ...   \n",
       "53694      bmw      x5     16500  2007  with mileage             265000.0   \n",
       "53828      bmw      x5     10000  2005  with mileage             231000.0   \n",
       "54264  citroen  xantia      1800  1999  with mileage             300000.0   \n",
       "55763     opel  zafira      4700  2002  with mileage             320000.0   \n",
       "56173     opel  zafira      6700  2006  with mileage             293628.0   \n",
       "\n",
       "      fuel_type  volume(cm3)     color transmission         drive_unit  \\\n",
       "1930     petrol       2300.0       red    mechanics  front-wheel drive   \n",
       "2054     petrol       2300.0      blue    mechanics  front-wheel drive   \n",
       "2140     petrol       2300.0  burgundy    mechanics  front-wheel drive   \n",
       "2179     diesel       1500.0      blue    mechanics  front-wheel drive   \n",
       "4334     petrol       1800.0      gray    mechanics  front-wheel drive   \n",
       "...         ...          ...       ...          ...                ...   \n",
       "53694    diesel       3000.0     white         auto    all-wheel drive   \n",
       "53828    petrol       3000.0     black         auto    all-wheel drive   \n",
       "54264    petrol       1800.0     black    mechanics  front-wheel drive   \n",
       "55763    diesel       2000.0    silver    mechanics  front-wheel drive   \n",
       "56173    diesel       1900.0     black    mechanics  front-wheel drive   \n",
       "\n",
       "      segment  price_mean   mileage_mean  \n",
       "1930        E        -1.0      -1.000000  \n",
       "2054        E        -1.0      -1.000000  \n",
       "2140        E        -1.0      -1.000000  \n",
       "2179        B    140000.0   82294.500000  \n",
       "4334        D    242000.0  302250.909091  \n",
       "...       ...         ...            ...  \n",
       "53694       J        -1.0      -1.000000  \n",
       "53828       J        -1.0      -1.000000  \n",
       "54264       D        -1.0      -1.000000  \n",
       "55763       M        -1.0      -1.000000  \n",
       "56173       M        -1.0      -1.000000  \n",
       "\n",
       "[87 rows x 14 columns]"
      ]
     },
     "execution_count": 34,
     "metadata": {},
     "output_type": "execute_result"
    }
   ],
   "source": [
    "cars[cars.duplicated()]"
   ]
  },
  {
   "cell_type": "markdown",
   "id": "a209fe49",
   "metadata": {},
   "source": [
    "В целом данные не выглядят так, будто в них есть дубликаты, скорее всего это просто совпадение.\n",
    "\n",
    "Поэтому дубликаты удалять не будем"
   ]
  },
  {
   "cell_type": "markdown",
   "id": "23f4f894",
   "metadata": {},
   "source": [
    "### Визуализация и поиск выбросов"
   ]
  },
  {
   "cell_type": "markdown",
   "id": "cb997b56",
   "metadata": {},
   "source": [
    "Посмотрим на общую картину выбросов в числовых переменных нашего датасета."
   ]
  },
  {
   "cell_type": "code",
   "execution_count": 35,
   "id": "2c7c0dcc",
   "metadata": {
    "scrolled": false
   },
   "outputs": [
    {
     "data": {
      "image/png": "[encoded data removed]",
      "text/plain": [
       "<Figure size 1000x600 with 1 Axes>"
      ]
     },
     "metadata": {},
     "output_type": "display_data"
    }
   ],
   "source": [
    "plt.figure(figsize=(10, 6))\n",
    "sns.boxplot(data=cars);\n",
    "plt.xticks(rotation=45, ha='right');\n",
    "plt.subplots_adjust(bottom=0.2)"
   ]
  },
  {
   "cell_type": "markdown",
   "id": "f9c1a99b",
   "metadata": {},
   "source": [
    "Данный график(ящик с усами) какие есть выбросы, но после визуального анализа этих аномалий и проверки информации в интернете, принято решение не избаляться от выбросов, потому что значения находятся в разумных пределах"
   ]
  },
  {
   "cell_type": "markdown",
   "id": "cecb634e",
   "metadata": {},
   "source": [
    "**PriceUSD**"
   ]
  },
  {
   "cell_type": "code",
   "execution_count": 36,
   "id": "639b790a",
   "metadata": {
    "scrolled": true
   },
   "outputs": [
    {
     "data": {
      "image/png": "[encoded data removed]",
      "text/plain": [
       "<Figure size 640x480 with 1 Axes>"
      ]
     },
     "metadata": {},
     "output_type": "display_data"
    }
   ],
   "source": [
    "sns.boxplot(data=cars['priceUSD']);\n",
    "plt.xlabel('Признак \"Цена автомобиля\"');\n",
    "plt.ylabel('Цена в USD');\n",
    "plt.title('График \"ящик с усами\" для признака \"Цена автомобиля\"');"
   ]
  },
  {
   "cell_type": "markdown",
   "id": "14971c82",
   "metadata": {},
   "source": [
    "В целом, данный график нам говорит о том, что много значений выбросов, но проблема в том, что скорее всего эти выбросы могут быть просто очень дорогими машинами, которые действительно стоят этих денег. \n",
    "\n",
    "Поэтому для этого признака нет необходимости делать что-то с выбросами.\n"
   ]
  },
  {
   "cell_type": "markdown",
   "id": "7c0e3d69",
   "metadata": {},
   "source": [
    "----"
   ]
  },
  {
   "cell_type": "markdown",
   "id": "10444a92",
   "metadata": {},
   "source": [
    "###  Распределения переменных"
   ]
  },
  {
   "cell_type": "markdown",
   "id": "54aaa4eb",
   "metadata": {},
   "source": [
    "Изучим распределения переменных, чтобы понять какие могут быть у них зависимости"
   ]
  },
  {
   "cell_type": "code",
   "execution_count": 37,
   "id": "7eae7f81",
   "metadata": {},
   "outputs": [],
   "source": [
    "# Функция для визуализации переменных\n",
    "def visualize_variable(df, variable):\n",
    "    \"\"\"\n",
    "    Визуализирует распределение или количество значений переменной из DataFrame.\n",
    "\n",
    "    Параметры:\n",
    "    df (pd.DataFrame): DataFrame, содержащий данные.\n",
    "    variable (str): Название переменной/столбца для визуализации.\n",
    "\n",
    "    Описание:\n",
    "    Функция создает график для заданной переменной из DataFrame. Если тип данных переменной - числовой (int64 или float64),\n",
    "    строится гистограмма с линией плотности (kde). Если тип данных переменной - категориальный, строится столбчатая диаграмма.\n",
    "    Метки на оси X поворачиваются на 45 градусов для улучшения читаемости, а также добавляется отступ снизу для предотвращения\n",
    "    наложения меток.\n",
    "    \n",
    "    Возвращаемое значение:\n",
    "    None\n",
    "    \"\"\"\n",
    "    plt.figure(figsize=(10, 6))\n",
    "    if df[variable].dtype in ['int64', 'float64']:\n",
    "        sns.histplot(df[variable], kde=True)\n",
    "        plt.title(f'Distribution of {variable}')\n",
    "    else:\n",
    "        sns.countplot(x=variable, data=df)\n",
    "        plt.title(f'Count plot of {variable}')\n",
    "    plt.xlabel(variable)\n",
    "    plt.ylabel('Frequency')\n",
    "    plt.xticks(rotation=45, ha='right')\n",
    "    plt.subplots_adjust(bottom=0.2)\n",
    "    plt.show()"
   ]
  },
  {
   "cell_type": "code",
   "execution_count": 38,
   "id": "1d2ca6eb",
   "metadata": {
    "scrolled": true
   },
   "outputs": [
    {
     "data": {
      "image/png": "[encoded data removed]",
      "text/plain": [
       "<Figure size 1000x600 with 1 Axes>"
      ]
     },
     "metadata": {},
     "output_type": "display_data"
    },
    {
     "data": {
      "image/png": "[encoded data removed]",
      "text/plain": [
       "<Figure size 1000x600 with 1 Axes>"
      ]
     },
     "metadata": {},
     "output_type": "display_data"
    },
    {
     "data": {
      "image/png": "[encoded data removed]",
      "text/plain": [
       "<Figure size 1000x600 with 1 Axes>"
      ]
     },
     "metadata": {},
     "output_type": "display_data"
    },
    {
     "data": {
      "image/png": "[encoded data removed]",
      "text/plain": [
       "<Figure size 1000x600 with 1 Axes>"
      ]
     },
     "metadata": {},
     "output_type": "display_data"
    },
    {
     "data": {
      "image/png": "[encoded data removed]",
      "text/plain": [
       "<Figure size 1000x600 with 1 Axes>"
      ]
     },
     "metadata": {},
     "output_type": "display_data"
    },
    {
     "data": {
      "image/png": "[encoded data removed]",
      "text/plain": [
       "<Figure size 1000x600 with 1 Axes>"
      ]
     },
     "metadata": {},
     "output_type": "display_data"
    }
   ],
   "source": [
    "# Список переменных для визуализации\n",
    "variables = ['priceUSD', 'year', 'mileage(kilometers)', 'volume(cm3)', 'price_mean', 'mileage_mean']\n",
    "\n",
    "# Установим стиль графиков\n",
    "sns.set(style=\"whitegrid\")\n",
    "\n",
    "# Визуализация всех переменных из списка\n",
    "for var in variables:\n",
    "    visualize_variable(cars, var)"
   ]
  },
  {
   "cell_type": "markdown",
   "id": "76ccde52",
   "metadata": {},
   "source": [
    "# Выводы из графиков\n",
    "\n",
    "**Распределение цены (priceUSD)**\n",
    "- Распределение цены автомобилей является асимметричным с длинным правым хвостом.\n",
    "- Большинство автомобилей имеют цену в пределах до 50,000 долларов, с очень небольшим количеством автомобилей, цена которых превышает эту сумму.\n",
    "- Наблюдается несколько экстремально высоких значений, что может указывать на наличие премиальных или эксклюзивных моделей.\n",
    "\n",
    "**Распределение года выпуска (year)**\n",
    "- Распределение года выпуска также имеет асимметрию с длинным правым хвостом.\n",
    "- Большинство автомобилей в датасете относительно новые, выпущенные после 2000 года.\n",
    "- Присутствует небольшое количество автомобилей старых годов выпуска, возможно, коллекционных или классических моделей.\n",
    "\n",
    "**Распределение пробега (mileage(kilometers))**\n",
    "- Пробег автомобилей имеет асимметричное распределение с длинным правым хвостом.\n",
    "- Большинство автомобилей имеют пробег менее 200,000 километров, что является ожидаемым значением для большинства используемых автомобилей.\n",
    "- Наблюдается несколько автомобилей с очень большим пробегом, что может указывать на коммерческое использование или высокую долговечность.\n",
    "\n",
    "**Распределение объема двигателя (volume(cm3))**\n",
    "- Распределение объема двигателя также имеет асимметрию с длинным правым хвостом.\n",
    "- Большинство автомобилей имеют объем двигателя в диапазоне от 1,500 до 3,000 куб. см.\n",
    "- Есть несколько автомобилей с экстремально высоким объемом двигателя, что может указывать на спортивные или высокопроизводительные модели.\n",
    "\n",
    "**Распределение средней цены (price_mean)**\n",
    "- Средняя цена автомобилей также имеет асимметричное распределение с длинным правым хвостом.\n",
    "- Большинство автомобилей имеют среднюю цену до 50,000 долларов, что согласуется с распределением цены.\n",
    "\n",
    "**Распределение среднего пробега (mileage_mean)**\n",
    "- Средний пробег автомобилей также имеет асимметричное распределение с длинным правым хвостом.\n",
    "- Большинство автомобилей имеют средний пробег до 150,000 километров, что согласуется с распределением пробега.\n",
    "\n",
    "# Общие выводы\n",
    "- Все представленные данные имеют асимметричное распределение с длинным правым хвостом.\n",
    "- Большинство автомобилей имеют относительно низкие значения для цены, года выпуска, пробега и объема двигателя, но присутствуют несколько экстремальных значений.\n",
    "- Эти экстремальные значения могут представлять собой премиальные, коллекционные или коммерчески используемые автомобили.\n",
    "- Большинство автомобилей в датасете новые и имеют средний пробег, что делает их более привлекательными для покупателей.\n"
   ]
  },
  {
   "cell_type": "markdown",
   "id": "2b1735ac",
   "metadata": {},
   "source": [
    "### Тепловая карта корреляций"
   ]
  },
  {
   "cell_type": "code",
   "execution_count": 39,
   "id": "a68fe5d0",
   "metadata": {},
   "outputs": [],
   "source": [
    "cars_new = cars.copy()\n",
    "cars_new = cars_new[['priceUSD', 'year', 'mileage(kilometers)', 'volume(cm3)', 'price_mean', 'mileage_mean']]"
   ]
  },
  {
   "cell_type": "code",
   "execution_count": 40,
   "id": "12e0b541",
   "metadata": {},
   "outputs": [
    {
     "data": {
      "text/plain": [
       "<Axes: >"
      ]
     },
     "execution_count": 40,
     "metadata": {},
     "output_type": "execute_result"
    },
    {
     "data": {
      "image/png": "[encoded data removed]",
      "text/plain": [
       "<Figure size 640x480 with 2 Axes>"
      ]
     },
     "metadata": {},
     "output_type": "display_data"
    }
   ],
   "source": [
    "sns.heatmap(cars_new.corr(), annot=True, cmap='coolwarm')"
   ]
  },
  {
   "cell_type": "markdown",
   "id": "c8ed30d1",
   "metadata": {},
   "source": [
    "# Выводы из тепловой карты корреляций\n",
    "\n",
    "1. **Сильная положительная корреляция между `priceUSD` и `year` (0.61)**:\n",
    "   - Это указывает на то, что более новые автомобили, как правило, стоят дороже. Это логично, так как новые автомобили обычно имеют более высокую стоимость по сравнению со старыми.\n",
    "\n",
    "\n",
    "2. **Положительная корреляция между `priceUSD` и `volume(cm3)` (0.26)**:\n",
    "   - Это указывает на то, что автомобили с большим объемом двигателя, как правило, стоят дороже. Это может быть связано с тем, что автомобили с более мощными двигателями обычно дороже.\n",
    "\n",
    "\n",
    "3. **Сильная положительная корреляция между `price_mean` и `mileage_mean` (0.54)**:\n",
    "   - Это может указывать на то, что автомобили с более высокой средней ценой также имеют более высокий средний пробег. Это может означать, что более дорогие автомобили используются больше или что они старше и, соответственно, имеют больше пробега.\n",
    "\n",
    "\n",
    "4. **Отрицательная корреляция между `mileage(kilometers)` и `year` (-0.23)**:\n",
    "   - Это указывает на то, что более новые автомобили, как правило, имеют меньший пробег. Это логично, так как новые автомобили обычно не успевают набрать большой пробег.\n",
    "\n",
    "\n",
    "5. **Слабая корреляция между другими переменными**:\n",
    "   - Большинство других переменных имеют слабую корреляцию между собой, что указывает на то, что они не сильно зависят друг от друга.\n",
    "\n",
    "\n",
    "# Общие выводы\n",
    "- Стоимость автомобиля (`priceUSD`) в значительной степени зависит от года выпуска и объема двигателя. Данный факт говорит о том, что эти признаки помогут нам лучше предсказывать стоимость автомобиля.\n",
    "- Более новые автомобили имеют тенденцию к меньшему пробегу и большей стоимости.\n",
    "- Средняя цена и средний пробег связаны, что может отражать тенденцию, что более дорогие автомобили используются чаще или дольше.\n",
    "- Остальные переменные не демонстрируют значительных взаимосвязей, что может указывать на разнообразие факторов, влияющих на характеристики автомобилей в этом датасете.\n"
   ]
  },
  {
   "cell_type": "markdown",
   "id": "ed6326f1",
   "metadata": {},
   "source": [
    "### Изучим отдельно каждый признак на аномалии"
   ]
  },
  {
   "cell_type": "markdown",
   "id": "ec895f3b",
   "metadata": {},
   "source": [
    "**year**"
   ]
  },
  {
   "cell_type": "code",
   "execution_count": 41,
   "id": "0339e98b",
   "metadata": {},
   "outputs": [
    {
     "data": {
      "image/png": "[encoded data removed]",
      "text/plain": [
       "<Figure size 640x480 with 1 Axes>"
      ]
     },
     "metadata": {},
     "output_type": "display_data"
    }
   ],
   "source": [
    "sns.boxplot(data=cars['year']);\n",
    "plt.xlabel('Признак \"Год выпуска автомобиля\"');\n",
    "plt.ylabel('Год выпуска');\n",
    "plt.title('График \"ящик с усами\" для признака \"Год выпуска\"');"
   ]
  },
  {
   "cell_type": "markdown",
   "id": "8e23a972",
   "metadata": {},
   "source": [
    "Тут нужно уделить внимание машинам до 1980 года, попробуем определить не попали ли туда современные машины. В целом даты выпуска примерно похожи на правду и такие автомобили правда могут быть выложены на продажу."
   ]
  },
  {
   "cell_type": "code",
   "execution_count": 42,
   "id": "a742606d",
   "metadata": {},
   "outputs": [
    {
     "data": {
      "text/html": [
       "<div>\n",
       "<style scoped>\n",
       "    .dataframe tbody tr th:only-of-type {\n",
       "        vertical-align: middle;\n",
       "    }\n",
       "\n",
       "    .dataframe tbody tr th {\n",
       "        vertical-align: top;\n",
       "    }\n",
       "\n",
       "    .dataframe thead th {\n",
       "        text-align: right;\n",
       "    }\n",
       "</style>\n",
       "<table border=\"1\" class=\"dataframe\">\n",
       "  <thead>\n",
       "    <tr style=\"text-align: right;\">\n",
       "      <th></th>\n",
       "      <th>make</th>\n",
       "      <th>model</th>\n",
       "      <th>priceUSD</th>\n",
       "      <th>year</th>\n",
       "      <th>condition</th>\n",
       "      <th>mileage(kilometers)</th>\n",
       "      <th>fuel_type</th>\n",
       "      <th>volume(cm3)</th>\n",
       "      <th>color</th>\n",
       "      <th>transmission</th>\n",
       "      <th>drive_unit</th>\n",
       "      <th>segment</th>\n",
       "      <th>price_mean</th>\n",
       "      <th>mileage_mean</th>\n",
       "    </tr>\n",
       "  </thead>\n",
       "  <tbody>\n",
       "    <tr>\n",
       "      <th>867</th>\n",
       "      <td>gaz</td>\n",
       "      <td>21</td>\n",
       "      <td>3499</td>\n",
       "      <td>1963</td>\n",
       "      <td>with mileage</td>\n",
       "      <td>1.0</td>\n",
       "      <td>petrol</td>\n",
       "      <td>2400.0</td>\n",
       "      <td>other</td>\n",
       "      <td>mechanics</td>\n",
       "      <td>rear drive</td>\n",
       "      <td>E</td>\n",
       "      <td>2.022421e+06</td>\n",
       "      <td>67441.736842</td>\n",
       "    </tr>\n",
       "    <tr>\n",
       "      <th>5927</th>\n",
       "      <td>zaz</td>\n",
       "      <td>965</td>\n",
       "      <td>4200</td>\n",
       "      <td>1967</td>\n",
       "      <td>with mileage</td>\n",
       "      <td>1800.0</td>\n",
       "      <td>petrol</td>\n",
       "      <td>900.0</td>\n",
       "      <td>blue</td>\n",
       "      <td>mechanics</td>\n",
       "      <td>rear drive</td>\n",
       "      <td>A</td>\n",
       "      <td>3.338455e+05</td>\n",
       "      <td>84885.575758</td>\n",
       "    </tr>\n",
       "    <tr>\n",
       "      <th>881</th>\n",
       "      <td>gaz</td>\n",
       "      <td>21</td>\n",
       "      <td>6655</td>\n",
       "      <td>1969</td>\n",
       "      <td>with mileage</td>\n",
       "      <td>30000.0</td>\n",
       "      <td>petrol</td>\n",
       "      <td>2440.0</td>\n",
       "      <td>black</td>\n",
       "      <td>mechanics</td>\n",
       "      <td>rear drive</td>\n",
       "      <td>E</td>\n",
       "      <td>2.022421e+06</td>\n",
       "      <td>67441.736842</td>\n",
       "    </tr>\n",
       "    <tr>\n",
       "      <th>884</th>\n",
       "      <td>gaz</td>\n",
       "      <td>21</td>\n",
       "      <td>2500</td>\n",
       "      <td>1962</td>\n",
       "      <td>with mileage</td>\n",
       "      <td>44444.0</td>\n",
       "      <td>petrol</td>\n",
       "      <td>2400.0</td>\n",
       "      <td>green</td>\n",
       "      <td>mechanics</td>\n",
       "      <td>rear drive</td>\n",
       "      <td>E</td>\n",
       "      <td>2.022421e+06</td>\n",
       "      <td>67441.736842</td>\n",
       "    </tr>\n",
       "    <tr>\n",
       "      <th>52637</th>\n",
       "      <td>eksklyuziv</td>\n",
       "      <td>voennaya-tehnika</td>\n",
       "      <td>20000</td>\n",
       "      <td>1945</td>\n",
       "      <td>with mileage</td>\n",
       "      <td>1.0</td>\n",
       "      <td>petrol</td>\n",
       "      <td>2199.0</td>\n",
       "      <td>green</td>\n",
       "      <td>mechanics</td>\n",
       "      <td>part-time four-wheel drive</td>\n",
       "      <td>Unknown</td>\n",
       "      <td>-1.000000e+00</td>\n",
       "      <td>-1.000000</td>\n",
       "    </tr>\n",
       "    <tr>\n",
       "      <th>4484</th>\n",
       "      <td>moskvich</td>\n",
       "      <td>407</td>\n",
       "      <td>500</td>\n",
       "      <td>1962</td>\n",
       "      <td>with mileage</td>\n",
       "      <td>1111111.0</td>\n",
       "      <td>petrol</td>\n",
       "      <td>1300.0</td>\n",
       "      <td>blue</td>\n",
       "      <td>mechanics</td>\n",
       "      <td>Unknown</td>\n",
       "      <td>Unknown</td>\n",
       "      <td>-1.000000e+00</td>\n",
       "      <td>-1.000000</td>\n",
       "    </tr>\n",
       "    <tr>\n",
       "      <th>873</th>\n",
       "      <td>gaz</td>\n",
       "      <td>21</td>\n",
       "      <td>500</td>\n",
       "      <td>1968</td>\n",
       "      <td>with damage</td>\n",
       "      <td>99000.0</td>\n",
       "      <td>petrol</td>\n",
       "      <td>2400.0</td>\n",
       "      <td>white</td>\n",
       "      <td>mechanics</td>\n",
       "      <td>rear drive</td>\n",
       "      <td>E</td>\n",
       "      <td>2.022421e+06</td>\n",
       "      <td>67441.736842</td>\n",
       "    </tr>\n",
       "    <tr>\n",
       "      <th>859</th>\n",
       "      <td>gaz</td>\n",
       "      <td>21</td>\n",
       "      <td>3000</td>\n",
       "      <td>1962</td>\n",
       "      <td>with mileage</td>\n",
       "      <td>40000.0</td>\n",
       "      <td>petrol</td>\n",
       "      <td>2400.0</td>\n",
       "      <td>green</td>\n",
       "      <td>mechanics</td>\n",
       "      <td>rear drive</td>\n",
       "      <td>E</td>\n",
       "      <td>2.022421e+06</td>\n",
       "      <td>67441.736842</td>\n",
       "    </tr>\n",
       "    <tr>\n",
       "      <th>1060</th>\n",
       "      <td>gaz</td>\n",
       "      <td>69</td>\n",
       "      <td>650</td>\n",
       "      <td>1966</td>\n",
       "      <td>with mileage</td>\n",
       "      <td>123.0</td>\n",
       "      <td>petrol</td>\n",
       "      <td>2200.0</td>\n",
       "      <td>green</td>\n",
       "      <td>mechanics</td>\n",
       "      <td>part-time four-wheel drive</td>\n",
       "      <td>Unknown</td>\n",
       "      <td>6.699397e+05</td>\n",
       "      <td>53482.257143</td>\n",
       "    </tr>\n",
       "    <tr>\n",
       "      <th>905</th>\n",
       "      <td>gaz</td>\n",
       "      <td>21</td>\n",
       "      <td>2500</td>\n",
       "      <td>1967</td>\n",
       "      <td>with mileage</td>\n",
       "      <td>102000.0</td>\n",
       "      <td>petrol</td>\n",
       "      <td>2400.0</td>\n",
       "      <td>other</td>\n",
       "      <td>mechanics</td>\n",
       "      <td>rear drive</td>\n",
       "      <td>E</td>\n",
       "      <td>2.022421e+06</td>\n",
       "      <td>67441.736842</td>\n",
       "    </tr>\n",
       "  </tbody>\n",
       "</table>\n",
       "</div>"
      ],
      "text/plain": [
       "             make             model  priceUSD  year     condition  \\\n",
       "867           gaz                21      3499  1963  with mileage   \n",
       "5927          zaz               965      4200  1967  with mileage   \n",
       "881           gaz                21      6655  1969  with mileage   \n",
       "884           gaz                21      2500  1962  with mileage   \n",
       "52637  eksklyuziv  voennaya-tehnika     20000  1945  with mileage   \n",
       "4484     moskvich               407       500  1962  with mileage   \n",
       "873           gaz                21       500  1968   with damage   \n",
       "859           gaz                21      3000  1962  with mileage   \n",
       "1060          gaz                69       650  1966  with mileage   \n",
       "905           gaz                21      2500  1967  with mileage   \n",
       "\n",
       "       mileage(kilometers) fuel_type  volume(cm3)  color transmission  \\\n",
       "867                    1.0    petrol       2400.0  other    mechanics   \n",
       "5927                1800.0    petrol        900.0   blue    mechanics   \n",
       "881                30000.0    petrol       2440.0  black    mechanics   \n",
       "884                44444.0    petrol       2400.0  green    mechanics   \n",
       "52637                  1.0    petrol       2199.0  green    mechanics   \n",
       "4484             1111111.0    petrol       1300.0   blue    mechanics   \n",
       "873                99000.0    petrol       2400.0  white    mechanics   \n",
       "859                40000.0    petrol       2400.0  green    mechanics   \n",
       "1060                 123.0    petrol       2200.0  green    mechanics   \n",
       "905               102000.0    petrol       2400.0  other    mechanics   \n",
       "\n",
       "                       drive_unit  segment    price_mean  mileage_mean  \n",
       "867                    rear drive        E  2.022421e+06  67441.736842  \n",
       "5927                   rear drive        A  3.338455e+05  84885.575758  \n",
       "881                    rear drive        E  2.022421e+06  67441.736842  \n",
       "884                    rear drive        E  2.022421e+06  67441.736842  \n",
       "52637  part-time four-wheel drive  Unknown -1.000000e+00     -1.000000  \n",
       "4484                      Unknown  Unknown -1.000000e+00     -1.000000  \n",
       "873                    rear drive        E  2.022421e+06  67441.736842  \n",
       "859                    rear drive        E  2.022421e+06  67441.736842  \n",
       "1060   part-time four-wheel drive  Unknown  6.699397e+05  53482.257143  \n",
       "905                    rear drive        E  2.022421e+06  67441.736842  "
      ]
     },
     "execution_count": 42,
     "metadata": {},
     "output_type": "execute_result"
    }
   ],
   "source": [
    "cars.loc[(cars['year']<1970)].sample(10)"
   ]
  },
  {
   "cell_type": "code",
   "execution_count": 43,
   "id": "9a67f823",
   "metadata": {},
   "outputs": [
    {
     "data": {
      "text/html": [
       "<div>\n",
       "<style scoped>\n",
       "    .dataframe tbody tr th:only-of-type {\n",
       "        vertical-align: middle;\n",
       "    }\n",
       "\n",
       "    .dataframe tbody tr th {\n",
       "        vertical-align: top;\n",
       "    }\n",
       "\n",
       "    .dataframe thead th {\n",
       "        text-align: right;\n",
       "    }\n",
       "</style>\n",
       "<table border=\"1\" class=\"dataframe\">\n",
       "  <thead>\n",
       "    <tr style=\"text-align: right;\">\n",
       "      <th></th>\n",
       "      <th>make</th>\n",
       "      <th>model</th>\n",
       "      <th>priceUSD</th>\n",
       "      <th>year</th>\n",
       "      <th>condition</th>\n",
       "      <th>mileage(kilometers)</th>\n",
       "      <th>fuel_type</th>\n",
       "      <th>volume(cm3)</th>\n",
       "      <th>color</th>\n",
       "      <th>transmission</th>\n",
       "      <th>drive_unit</th>\n",
       "      <th>segment</th>\n",
       "      <th>price_mean</th>\n",
       "      <th>mileage_mean</th>\n",
       "    </tr>\n",
       "  </thead>\n",
       "  <tbody>\n",
       "    <tr>\n",
       "      <th>5952</th>\n",
       "      <td>zaz</td>\n",
       "      <td>968</td>\n",
       "      <td>48</td>\n",
       "      <td>1910</td>\n",
       "      <td>with damage</td>\n",
       "      <td>25000.0</td>\n",
       "      <td>petrol</td>\n",
       "      <td>1100.0</td>\n",
       "      <td>green</td>\n",
       "      <td>mechanics</td>\n",
       "      <td>rear drive</td>\n",
       "      <td>B</td>\n",
       "      <td>-1.0</td>\n",
       "      <td>-1.0</td>\n",
       "    </tr>\n",
       "  </tbody>\n",
       "</table>\n",
       "</div>"
      ],
      "text/plain": [
       "     make model  priceUSD  year    condition  mileage(kilometers) fuel_type  \\\n",
       "5952  zaz   968        48  1910  with damage              25000.0    petrol   \n",
       "\n",
       "      volume(cm3)  color transmission  drive_unit segment  price_mean  \\\n",
       "5952       1100.0  green    mechanics  rear drive       B        -1.0   \n",
       "\n",
       "      mileage_mean  \n",
       "5952          -1.0  "
      ]
     },
     "execution_count": 43,
     "metadata": {},
     "output_type": "execute_result"
    }
   ],
   "source": [
    "cars.loc[(cars['year']<1930)].head(10)"
   ]
  },
  {
   "cell_type": "markdown",
   "id": "ce3ebac3",
   "metadata": {},
   "source": [
    "В целом можем увидеть, что каких-то выбивающихся аномалий нет в данных. Поэтому оставим их как они есть, кроме одной записи, которая включает в себя ЗАЗ-968, этот автмобиль выпускался с 1970 по 1979. Эту запись мы удалим."
   ]
  },
  {
   "cell_type": "code",
   "execution_count": 44,
   "id": "c0786eb8",
   "metadata": {},
   "outputs": [],
   "source": [
    "cars = cars.loc[(cars['year']>=1930)]"
   ]
  },
  {
   "cell_type": "markdown",
   "id": "41b61a66",
   "metadata": {},
   "source": [
    "**mileage(kilometers)**"
   ]
  },
  {
   "cell_type": "code",
   "execution_count": 45,
   "id": "c2c18fba",
   "metadata": {},
   "outputs": [
    {
     "data": {
      "image/png": "[encoded data removed]",
      "text/plain": [
       "<Figure size 640x480 with 1 Axes>"
      ]
     },
     "metadata": {},
     "output_type": "display_data"
    }
   ],
   "source": [
    "sns.boxplot(data=cars['mileage(kilometers)']);\n",
    "plt.xlabel('Признак \"Пробег автомобиля\"');\n",
    "plt.ylabel('Пробег автомобиля в млн. км');\n",
    "plt.title('График \"ящик с усами\" для признака \"Пробег автомобиля\"');"
   ]
  },
  {
   "cell_type": "markdown",
   "id": "0140a58f",
   "metadata": {},
   "source": [
    "Основное скопление автомобилей находится до 200тысяч км, но и автомобили с пробегом до 1 млн км это нормально, потому что есть информация о таких экземплярах. Что-то делать с этими выбросами опасно, можем потерять ценные данные. \n",
    "\n",
    "Чтобы проверить насколько правдивы данные о пробеге, нужно смотреть на данные, которые отображает сам автомобиль и сверять их вручную."
   ]
  },
  {
   "cell_type": "markdown",
   "id": "4fd04429",
   "metadata": {},
   "source": [
    "**volume(cm3)**"
   ]
  },
  {
   "cell_type": "code",
   "execution_count": 62,
   "id": "30187061",
   "metadata": {},
   "outputs": [
    {
     "data": {
      "image/png": "[encoded data removed]",
      "text/plain": [
       "<Figure size 640x480 with 1 Axes>"
      ]
     },
     "metadata": {},
     "output_type": "display_data"
    }
   ],
   "source": [
    "sns.boxplot(data=cars['volume(cm3)']);\n",
    "plt.xlabel('Признак \"Объем двигателя\"');\n",
    "plt.ylabel('Объем двигателя в см кубических');\n",
    "plt.title('График \"ящик с усами\" для признака \"Объем двигателя\"');"
   ]
  },
  {
   "cell_type": "markdown",
   "id": "51ed464f",
   "metadata": {},
   "source": [
    "Очень много данных с огромными объемами двигателя, нужно изучить подробнее"
   ]
  },
  {
   "cell_type": "code",
   "execution_count": 63,
   "id": "14be635a",
   "metadata": {},
   "outputs": [
    {
     "data": {
      "text/html": [
       "<div>\n",
       "<style scoped>\n",
       "    .dataframe tbody tr th:only-of-type {\n",
       "        vertical-align: middle;\n",
       "    }\n",
       "\n",
       "    .dataframe tbody tr th {\n",
       "        vertical-align: top;\n",
       "    }\n",
       "\n",
       "    .dataframe thead th {\n",
       "        text-align: right;\n",
       "    }\n",
       "</style>\n",
       "<table border=\"1\" class=\"dataframe\">\n",
       "  <thead>\n",
       "    <tr style=\"text-align: right;\">\n",
       "      <th></th>\n",
       "      <th>make</th>\n",
       "      <th>model</th>\n",
       "      <th>priceUSD</th>\n",
       "      <th>year</th>\n",
       "      <th>condition</th>\n",
       "      <th>mileage(kilometers)</th>\n",
       "      <th>fuel_type</th>\n",
       "      <th>volume(cm3)</th>\n",
       "      <th>color</th>\n",
       "      <th>transmission</th>\n",
       "      <th>drive_unit</th>\n",
       "      <th>segment</th>\n",
       "      <th>price_mean</th>\n",
       "      <th>mileage_mean</th>\n",
       "    </tr>\n",
       "  </thead>\n",
       "  <tbody>\n",
       "    <tr>\n",
       "      <th>81</th>\n",
       "      <td>mazda</td>\n",
       "      <td>3</td>\n",
       "      <td>5300</td>\n",
       "      <td>2006</td>\n",
       "      <td>with mileage</td>\n",
       "      <td>168000.0</td>\n",
       "      <td>petrol</td>\n",
       "      <td>20000.0</td>\n",
       "      <td>silver</td>\n",
       "      <td>mechanics</td>\n",
       "      <td>front-wheel drive</td>\n",
       "      <td>C</td>\n",
       "      <td>8.893243e+05</td>\n",
       "      <td>168942.432432</td>\n",
       "    </tr>\n",
       "    <tr>\n",
       "      <th>354</th>\n",
       "      <td>mazda</td>\n",
       "      <td>6</td>\n",
       "      <td>7500</td>\n",
       "      <td>2003</td>\n",
       "      <td>with mileage</td>\n",
       "      <td>240000.0</td>\n",
       "      <td>diesel</td>\n",
       "      <td>20000.0</td>\n",
       "      <td>silver</td>\n",
       "      <td>mechanics</td>\n",
       "      <td>front-wheel drive</td>\n",
       "      <td>D</td>\n",
       "      <td>1.706798e+06</td>\n",
       "      <td>130089.605263</td>\n",
       "    </tr>\n",
       "    <tr>\n",
       "      <th>929</th>\n",
       "      <td>renault</td>\n",
       "      <td>21</td>\n",
       "      <td>200</td>\n",
       "      <td>1990</td>\n",
       "      <td>for parts</td>\n",
       "      <td>300.0</td>\n",
       "      <td>petrol</td>\n",
       "      <td>16000.0</td>\n",
       "      <td>other</td>\n",
       "      <td>mechanics</td>\n",
       "      <td>front-wheel drive</td>\n",
       "      <td>D</td>\n",
       "      <td>3.425000e+05</td>\n",
       "      <td>266311.500000</td>\n",
       "    </tr>\n",
       "    <tr>\n",
       "      <th>1537</th>\n",
       "      <td>audi</td>\n",
       "      <td>80</td>\n",
       "      <td>2900</td>\n",
       "      <td>1993</td>\n",
       "      <td>with mileage</td>\n",
       "      <td>392432.0</td>\n",
       "      <td>petrol</td>\n",
       "      <td>20000.0</td>\n",
       "      <td>burgundy</td>\n",
       "      <td>mechanics</td>\n",
       "      <td>front-wheel drive</td>\n",
       "      <td>D</td>\n",
       "      <td>-1.000000e+00</td>\n",
       "      <td>-1.000000</td>\n",
       "    </tr>\n",
       "    <tr>\n",
       "      <th>1768</th>\n",
       "      <td>audi</td>\n",
       "      <td>100</td>\n",
       "      <td>2150</td>\n",
       "      <td>1992</td>\n",
       "      <td>with mileage</td>\n",
       "      <td>300000.0</td>\n",
       "      <td>petrol</td>\n",
       "      <td>20000.0</td>\n",
       "      <td>silver</td>\n",
       "      <td>mechanics</td>\n",
       "      <td>front-wheel drive</td>\n",
       "      <td>E</td>\n",
       "      <td>-1.000000e+00</td>\n",
       "      <td>-1.000000</td>\n",
       "    </tr>\n",
       "  </tbody>\n",
       "</table>\n",
       "</div>"
      ],
      "text/plain": [
       "         make model  priceUSD  year     condition  mileage(kilometers)  \\\n",
       "81      mazda     3      5300  2006  with mileage             168000.0   \n",
       "354     mazda     6      7500  2003  with mileage             240000.0   \n",
       "929   renault    21       200  1990     for parts                300.0   \n",
       "1537     audi    80      2900  1993  with mileage             392432.0   \n",
       "1768     audi   100      2150  1992  with mileage             300000.0   \n",
       "\n",
       "     fuel_type  volume(cm3)     color transmission         drive_unit segment  \\\n",
       "81      petrol      20000.0    silver    mechanics  front-wheel drive       C   \n",
       "354     diesel      20000.0    silver    mechanics  front-wheel drive       D   \n",
       "929     petrol      16000.0     other    mechanics  front-wheel drive       D   \n",
       "1537    petrol      20000.0  burgundy    mechanics  front-wheel drive       D   \n",
       "1768    petrol      20000.0    silver    mechanics  front-wheel drive       E   \n",
       "\n",
       "        price_mean   mileage_mean  \n",
       "81    8.893243e+05  168942.432432  \n",
       "354   1.706798e+06  130089.605263  \n",
       "929   3.425000e+05  266311.500000  \n",
       "1537 -1.000000e+00      -1.000000  \n",
       "1768 -1.000000e+00      -1.000000  "
      ]
     },
     "execution_count": 63,
     "metadata": {},
     "output_type": "execute_result"
    }
   ],
   "source": [
    "cars.loc[cars['volume(cm3)']>7500].head(5)"
   ]
  },
  {
   "cell_type": "markdown",
   "id": "a0244fa4",
   "metadata": {},
   "source": [
    "После изучения этой темы в интернете, можно точно сказать, что лучше убрать машины с объемом двигателя более 7500 см3."
   ]
  },
  {
   "cell_type": "code",
   "execution_count": 64,
   "id": "dde8677c",
   "metadata": {},
   "outputs": [],
   "source": [
    "cars = cars.loc[cars['volume(cm3)']<=7500]"
   ]
  },
  {
   "cell_type": "markdown",
   "id": "c0a88c0a",
   "metadata": {},
   "source": [
    "### Изучение остальных признаков, с помощью визуализации"
   ]
  },
  {
   "cell_type": "markdown",
   "id": "f1772382",
   "metadata": {},
   "source": [
    "Визуализация в этой части еще будет производиться, графики без оформления нужны для бысрого ознакомления"
   ]
  },
  {
   "cell_type": "code",
   "execution_count": 81,
   "id": "1c29a68f",
   "metadata": {},
   "outputs": [
    {
     "data": {
      "text/plain": [
       "<Axes: xlabel='segment'>"
      ]
     },
     "execution_count": 81,
     "metadata": {},
     "output_type": "execute_result"
    },
    {
     "data": {
      "image/png": "[encoded data removed]",
      "text/plain": [
       "<Figure size 640x480 with 1 Axes>"
      ]
     },
     "metadata": {},
     "output_type": "display_data"
    }
   ],
   "source": [
    "cars['segment'].value_counts().plot(kind='bar')"
   ]
  },
  {
   "cell_type": "markdown",
   "id": "eaafc738",
   "metadata": {},
   "source": [
    "\n",
    "1. **Наибольшее количество автомобилей представлено в сегменте D:**\n",
    "\n",
    "    - Сегмент D является самым многочисленным, что может указывать на высокую популярность автомобилей среднего класса среди пользователей.\n",
    "\n",
    "2. **Сегменты C и J также имеют большое количество автомобилей:**\n",
    "\n",
    "    - Сегмент C (компактные автомобили) и сегмент J (внедорожники) также популярны среди пользователей, занимая второе и третье места соответственно\n",
    "\n",
    "3. **Сегмент S и сегмент A имеют наименьшее количество автомобилей:**\n",
    "\n",
    "    - Сегмент S (спорткары) и сегмент A (мини-автомобили) имеют наименьшее количество автомобилей, что может указывать на их меньшую популярность или более узкую целевую аудиторию.\n",
    "\n",
    "\n",
    "4. **Сегмент \"Unknown\" также присутствует:**\n",
    "\n",
    "    - Наличие значительного числа автомобилей с неизвестным сегментом может указывать на неполные данные или отсутствие классификации для некоторых автомобилей.\n",
    "    \n",
    "# Общие выводы:\n",
    "- Средний класс (D), компактные автомобили (C) и внедорожники (J) являются наиболее популярными сегментами среди пользователей.\n",
    "- Меньшая популярность наблюдается у спортивных автомобилей (S) и мини-автомобилей (A), что может отражать их узкую целевую аудиторию или специфические потребности.\n",
    "- Наличие автомобилей с неизвестным сегментом указывает на необходимость улучшения классификации данных.\n"
   ]
  },
  {
   "cell_type": "markdown",
   "id": "e37f9696",
   "metadata": {},
   "source": [
    "**drive_unit**"
   ]
  },
  {
   "cell_type": "code",
   "execution_count": 82,
   "id": "39691476",
   "metadata": {
    "scrolled": false
   },
   "outputs": [
    {
     "data": {
      "text/plain": [
       "<Axes: xlabel='drive_unit'>"
      ]
     },
     "execution_count": 82,
     "metadata": {},
     "output_type": "execute_result"
    },
    {
     "data": {
      "image/png": "[encoded data removed]",
      "text/plain": [
       "<Figure size 640x480 with 1 Axes>"
      ]
     },
     "metadata": {},
     "output_type": "display_data"
    }
   ],
   "source": [
    "cars['drive_unit'].value_counts().plot(kind='bar')"
   ]
  },
  {
   "cell_type": "markdown",
   "id": "8df859ba",
   "metadata": {},
   "source": [
    "Преобладает перелний привод, но и остальных достаточное для изучения количество."
   ]
  },
  {
   "cell_type": "markdown",
   "id": "fee3ea72",
   "metadata": {},
   "source": [
    "**fuel_type**"
   ]
  },
  {
   "cell_type": "code",
   "execution_count": 83,
   "id": "e7c90ec6",
   "metadata": {},
   "outputs": [
    {
     "data": {
      "text/plain": [
       "<Axes: xlabel='fuel_type'>"
      ]
     },
     "execution_count": 83,
     "metadata": {},
     "output_type": "execute_result"
    },
    {
     "data": {
      "image/png": "[encoded data removed]",
      "text/plain": [
       "<Figure size 640x480 with 1 Axes>"
      ]
     },
     "metadata": {},
     "output_type": "display_data"
    }
   ],
   "source": [
    "cars['fuel_type'].value_counts().plot(kind='bar')"
   ]
  },
  {
   "cell_type": "markdown",
   "id": "b4fcb796",
   "metadata": {},
   "source": [
    "# Предположения о влиянии типа топлива на цену автомобиля\n",
    "1. **Бензиновые автомобили:**\n",
    "\n",
    "    - Поскольку бензиновые автомобили являются наиболее распространенными, их цены могут варьироваться в широком диапазоне. Высокий спрос может означать, что цены будут зависеть от других факторов, таких как марка, модель, год выпуска и пробег.\n",
    "    \n",
    "    - Средняя цена бензиновых автомобилей может быть ниже по сравнению с дизельными и электромобилями, так как они более доступны и широко распространены.\n",
    "\n",
    "2. **Дизельные автомобили:**\n",
    "\n",
    "    - Дизельные автомобили могут иметь более высокую среднюю цену по сравнению с бензиновыми из-за их экономичности и долговечности. Это особенно актуально для коммерческих и внедорожных автомобилей, которые часто используют дизельные двигатели.\n",
    "    \n",
    "    - Однако строгие экологические нормы и тенденция к снижению использования дизельных двигателей могут повлиять на спрос и, следовательно, на цену дизельных автомобилей."
   ]
  },
  {
   "cell_type": "markdown",
   "id": "a2e9b1ba",
   "metadata": {},
   "source": [
    "Постараемся проверить предположения путем проведения статистических тестов путем проверки гипотезы"
   ]
  },
  {
   "cell_type": "markdown",
   "id": "71e1b13c",
   "metadata": {},
   "source": [
    "**transmission**"
   ]
  },
  {
   "cell_type": "code",
   "execution_count": 84,
   "id": "3a276126",
   "metadata": {
    "scrolled": false
   },
   "outputs": [
    {
     "data": {
      "text/plain": [
       "<Axes: xlabel='transmission'>"
      ]
     },
     "execution_count": 84,
     "metadata": {},
     "output_type": "execute_result"
    },
    {
     "data": {
      "image/png": "[encoded data removed]",
      "text/plain": [
       "<Figure size 640x480 with 1 Axes>"
      ]
     },
     "metadata": {},
     "output_type": "display_data"
    }
   ],
   "source": [
    "cars['transmission'].value_counts().plot(kind='bar')"
   ]
  },
  {
   "cell_type": "markdown",
   "id": "e4d56b57",
   "metadata": {},
   "source": [
    "1. **Механическая трансмиссия:**\n",
    "\n",
    "    - Поскольку автомобили с механической трансмиссией являются наиболее распространенными, их цены могут варьироваться в широком диапазоне. Высокий спрос может означать, что цены будут зависеть от других факторов, таких как марка, модель, год выпуска и пробег.\n",
    "    - Средняя цена автомобилей с механической трансмиссией может быть ниже по сравнению с автомобилями с автоматической трансмиссией, так как механические трансмиссии обычно дешевле в производстве и обслуживании.\n",
    "\n",
    "\n",
    "2. **Автоматическая трансмиссия:**\n",
    "\n",
    "    - Автомобили с автоматической трансмиссией могут иметь более высокую среднюю цену по сравнению с автомобилями с механической трансмиссией из-за удобства в управлении и технологических особенностей.\n",
    "    - Популярность автоматических трансмиссий может расти, особенно в городских условиях, что может привести к увеличению спроса и, следовательно, к росту цен на такие автомобили."
   ]
  },
  {
   "cell_type": "markdown",
   "id": "00daea73",
   "metadata": {},
   "source": [
    "Постараемся проверить предположения путем проведения статистических тестов путем проверки гипотезы"
   ]
  },
  {
   "cell_type": "markdown",
   "id": "d6a4076b",
   "metadata": {},
   "source": [
    "## Создание новых признаков"
   ]
  },
  {
   "cell_type": "markdown",
   "id": "cb8d8565",
   "metadata": {},
   "source": [
    "Есть несколько идей новых признаков, в том числе они будут внедрены после добавления парсинга и вытягивания дополнительной информации с сайта auto.ru"
   ]
  },
  {
   "cell_type": "markdown",
   "id": "0a3d77b2",
   "metadata": {},
   "source": [
    "Создадим переменную **av_price_usd**. Так как у нас новый признак рассчитан в рублях, а предсказание у нас происходит в долларах, то эффективным будет добавить стоимость в долларах."
   ]
  },
  {
   "cell_type": "code",
   "execution_count": 96,
   "id": "c6dc8009",
   "metadata": {},
   "outputs": [],
   "source": [
    "usd_course = 90\n",
    "cars['av_price_usd'] = round(cars['price_mean']/usd_course,2)"
   ]
  },
  {
   "cell_type": "code",
   "execution_count": 97,
   "id": "11c3e99a",
   "metadata": {},
   "outputs": [
    {
     "data": {
      "text/html": [
       "<div>\n",
       "<style scoped>\n",
       "    .dataframe tbody tr th:only-of-type {\n",
       "        vertical-align: middle;\n",
       "    }\n",
       "\n",
       "    .dataframe tbody tr th {\n",
       "        vertical-align: top;\n",
       "    }\n",
       "\n",
       "    .dataframe thead th {\n",
       "        text-align: right;\n",
       "    }\n",
       "</style>\n",
       "<table border=\"1\" class=\"dataframe\">\n",
       "  <thead>\n",
       "    <tr style=\"text-align: right;\">\n",
       "      <th></th>\n",
       "      <th>make</th>\n",
       "      <th>model</th>\n",
       "      <th>priceUSD</th>\n",
       "      <th>year</th>\n",
       "      <th>condition</th>\n",
       "      <th>mileage(kilometers)</th>\n",
       "      <th>fuel_type</th>\n",
       "      <th>volume(cm3)</th>\n",
       "      <th>color</th>\n",
       "      <th>transmission</th>\n",
       "      <th>drive_unit</th>\n",
       "      <th>segment</th>\n",
       "      <th>price_mean</th>\n",
       "      <th>mileage_mean</th>\n",
       "      <th>av_price_usd</th>\n",
       "    </tr>\n",
       "  </thead>\n",
       "  <tbody>\n",
       "    <tr>\n",
       "      <th>0</th>\n",
       "      <td>mazda</td>\n",
       "      <td>2</td>\n",
       "      <td>5500</td>\n",
       "      <td>2008</td>\n",
       "      <td>with mileage</td>\n",
       "      <td>162000.0</td>\n",
       "      <td>petrol</td>\n",
       "      <td>1500.0</td>\n",
       "      <td>burgundy</td>\n",
       "      <td>mechanics</td>\n",
       "      <td>front-wheel drive</td>\n",
       "      <td>B</td>\n",
       "      <td>758866.666667</td>\n",
       "      <td>176636.266667</td>\n",
       "      <td>8431.85</td>\n",
       "    </tr>\n",
       "  </tbody>\n",
       "</table>\n",
       "</div>"
      ],
      "text/plain": [
       "    make model  priceUSD  year     condition  mileage(kilometers) fuel_type  \\\n",
       "0  mazda     2      5500  2008  with mileage             162000.0    petrol   \n",
       "\n",
       "   volume(cm3)     color transmission         drive_unit segment  \\\n",
       "0       1500.0  burgundy    mechanics  front-wheel drive       B   \n",
       "\n",
       "      price_mean   mileage_mean  av_price_usd  \n",
       "0  758866.666667  176636.266667       8431.85  "
      ]
     },
     "execution_count": 97,
     "metadata": {},
     "output_type": "execute_result"
    }
   ],
   "source": [
    "cars.head(1)"
   ]
  },
  {
   "cell_type": "markdown",
   "id": "8851060e",
   "metadata": {},
   "source": [
    "Создадим переменную **mileage_year_curr** которая содержит средний пробег с года, когда был выпущен автомобиль.\n",
    "И **mileage_year_av**"
   ]
  },
  {
   "cell_type": "code",
   "execution_count": 98,
   "id": "270a7493",
   "metadata": {},
   "outputs": [],
   "source": [
    "curr_year = 2024\n",
    "cars['mileage_year'] = round(cars['mileage(kilometers)']/(2024 - cars['year']),2)\n",
    "cars['mileage_year_av'] = round(cars['mileage_mean']/(2024 - cars['year']),2)"
   ]
  },
  {
   "cell_type": "code",
   "execution_count": 99,
   "id": "077bfb81",
   "metadata": {
    "scrolled": true
   },
   "outputs": [
    {
     "data": {
      "text/html": [
       "<div>\n",
       "<style scoped>\n",
       "    .dataframe tbody tr th:only-of-type {\n",
       "        vertical-align: middle;\n",
       "    }\n",
       "\n",
       "    .dataframe tbody tr th {\n",
       "        vertical-align: top;\n",
       "    }\n",
       "\n",
       "    .dataframe thead th {\n",
       "        text-align: right;\n",
       "    }\n",
       "</style>\n",
       "<table border=\"1\" class=\"dataframe\">\n",
       "  <thead>\n",
       "    <tr style=\"text-align: right;\">\n",
       "      <th></th>\n",
       "      <th>make</th>\n",
       "      <th>model</th>\n",
       "      <th>priceUSD</th>\n",
       "      <th>year</th>\n",
       "      <th>condition</th>\n",
       "      <th>mileage(kilometers)</th>\n",
       "      <th>fuel_type</th>\n",
       "      <th>volume(cm3)</th>\n",
       "      <th>color</th>\n",
       "      <th>transmission</th>\n",
       "      <th>drive_unit</th>\n",
       "      <th>segment</th>\n",
       "      <th>price_mean</th>\n",
       "      <th>mileage_mean</th>\n",
       "      <th>av_price_usd</th>\n",
       "      <th>mileage_year</th>\n",
       "      <th>mileage_year_av</th>\n",
       "    </tr>\n",
       "  </thead>\n",
       "  <tbody>\n",
       "    <tr>\n",
       "      <th>0</th>\n",
       "      <td>mazda</td>\n",
       "      <td>2</td>\n",
       "      <td>5500</td>\n",
       "      <td>2008</td>\n",
       "      <td>with mileage</td>\n",
       "      <td>162000.0</td>\n",
       "      <td>petrol</td>\n",
       "      <td>1500.0</td>\n",
       "      <td>burgundy</td>\n",
       "      <td>mechanics</td>\n",
       "      <td>front-wheel drive</td>\n",
       "      <td>B</td>\n",
       "      <td>758866.666667</td>\n",
       "      <td>176636.266667</td>\n",
       "      <td>8431.85</td>\n",
       "      <td>10125.0</td>\n",
       "      <td>11039.77</td>\n",
       "    </tr>\n",
       "  </tbody>\n",
       "</table>\n",
       "</div>"
      ],
      "text/plain": [
       "    make model  priceUSD  year     condition  mileage(kilometers) fuel_type  \\\n",
       "0  mazda     2      5500  2008  with mileage             162000.0    petrol   \n",
       "\n",
       "   volume(cm3)     color transmission         drive_unit segment  \\\n",
       "0       1500.0  burgundy    mechanics  front-wheel drive       B   \n",
       "\n",
       "      price_mean   mileage_mean  av_price_usd  mileage_year  mileage_year_av  \n",
       "0  758866.666667  176636.266667       8431.85       10125.0         11039.77  "
      ]
     },
     "execution_count": 99,
     "metadata": {},
     "output_type": "execute_result"
    }
   ],
   "source": [
    "cars.head(1)"
   ]
  },
  {
   "cell_type": "markdown",
   "id": "f075b767",
   "metadata": {},
   "source": [
    "Знание среднего пробега по годам может помочь оценить износ и долговечность автомобилей разных годов выпуска. Это может быть полезно для потенциальных покупателей, которые хотят понять, насколько надежны автомобили определенного возраста.\n"
   ]
  },
  {
   "cell_type": "markdown",
   "id": "f472ab8a",
   "metadata": {},
   "source": [
    "## Гипотезы"
   ]
  },
  {
   "cell_type": "code",
   "execution_count": 100,
   "id": "771c389d",
   "metadata": {},
   "outputs": [
    {
     "data": {
      "text/plain": [
       "Index(['make', 'model', 'priceUSD', 'year', 'condition', 'mileage(kilometers)',\n",
       "       'fuel_type', 'volume(cm3)', 'color', 'transmission', 'drive_unit',\n",
       "       'segment', 'price_mean', 'mileage_mean', 'av_price_usd', 'mileage_year',\n",
       "       'mileage_year_av'],\n",
       "      dtype='object')"
      ]
     },
     "execution_count": 100,
     "metadata": {},
     "output_type": "execute_result"
    }
   ],
   "source": [
    "cars.columns"
   ]
  },
  {
   "cell_type": "markdown",
   "id": "74d01b2b",
   "metadata": {},
   "source": [
    "### Гипотеза 1"
   ]
  },
  {
   "cell_type": "markdown",
   "id": "0d109b15",
   "metadata": {},
   "source": [
    "Нулевая гипотеза: Цена автомобилей с автоматической коробкой передач **НЕ** выше цен на автомобили с механической. (переменные `transmission`-тип коробки; `priceUSD`-цена в долларах)\n",
    "\n",
    "Альтернативная: Цена автомобилей с автоматической коробкой передач выше цен на автомобили с механической.\n",
    "\n",
    "\n",
    "Необходимость проверки этой гипотезы: Многие раритетные автомобили, которые стоят больших денег, имеют механику, но автомобили с автоматом стоят обычно дороже, поэтому необходимо узнать как этот параметр влияет на цену\n",
    "\n",
    "Установим уровень статистической значимости `a=5%`"
   ]
  },
  {
   "cell_type": "markdown",
   "id": "3d164477",
   "metadata": {},
   "source": [
    "Перед проведением теста, проверим насколко сильно отличаются дисперсии"
   ]
  },
  {
   "cell_type": "code",
   "execution_count": 101,
   "id": "de11de0b",
   "metadata": {},
   "outputs": [
    {
     "name": "stdout",
     "output_type": "stream",
     "text": [
      "var_mech 16578752.769541701 ; var_auto 124266369.55978708\n"
     ]
    }
   ],
   "source": [
    "gr_mech = cars[cars['transmission'] == 'mechanics']['priceUSD']\n",
    "gr_auto = cars[cars['transmission'] == 'auto']['priceUSD']\n",
    "\n",
    "var_mech = gr_mech.var()\n",
    "var_auto = gr_auto.var()\n",
    "print('var_mech', var_mech, '; var_auto', var_auto)"
   ]
  },
  {
   "cell_type": "markdown",
   "id": "332e9e3d",
   "metadata": {},
   "source": [
    "В случае когда дисперсии отличаются больше чем в 4 раза, нам нужно передавть аргумент False в параметр equal_var"
   ]
  },
  {
   "cell_type": "code",
   "execution_count": 102,
   "id": "9b3304f6",
   "metadata": {},
   "outputs": [
    {
     "name": "stdout",
     "output_type": "stream",
     "text": [
      "var_mech/var_auto 0.13341302903007338\n"
     ]
    }
   ],
   "source": [
    "print('var_mech/var_auto', var_mech/var_auto)"
   ]
  },
  {
   "cell_type": "markdown",
   "id": "698b6db2",
   "metadata": {},
   "source": [
    "Они отличаются более чем в 4 раза."
   ]
  },
  {
   "cell_type": "code",
   "execution_count": 103,
   "id": "b84a0f6b",
   "metadata": {},
   "outputs": [
    {
     "name": "stdout",
     "output_type": "stream",
     "text": [
      "statistic: 95.71486385987956, P-value: 0.0\n"
     ]
    }
   ],
   "source": [
    "stat_1, p_value_1 = ttest_ind(gr_auto, gr_mech, equal_var=False, alternative='greater')\n",
    "print(f\"statistic: {stat_1}, P-value: {p_value_1}\")"
   ]
  },
  {
   "cell_type": "markdown",
   "id": "34bc40e4",
   "metadata": {},
   "source": [
    "Аргумент `greater`, который передается в параметр **alternative** говорит нам о том, что мы проверяем, что среднее первой последовательности больше среднего втоорой"
   ]
  },
  {
   "cell_type": "markdown",
   "id": "77c86ce1",
   "metadata": {},
   "source": [
    "Так как ttest показал результат `pvalue=0.0`, значит нулевая гипотеза **Цена автомобилей с автоматической коробкой передач НЕ выше цен на автомобили с механической.** отвергается в пользу альтернативной."
   ]
  },
  {
   "cell_type": "markdown",
   "id": "b289dcab",
   "metadata": {},
   "source": [
    "### Гипотеза 2"
   ]
  },
  {
   "cell_type": "markdown",
   "id": "29b96506",
   "metadata": {},
   "source": [
    "Нулевая гипотеза: Автомобили на бензине имеют такую же стоимость как и автомобили на дизеле.\n",
    "\n",
    "Альтернативная: Автомобили на бензине имеют **НЕ** такую же стоимость как и автомобили на дизеле.\n",
    "\n",
    "\n",
    "Необходимость проверки этой гипотезы: Важно проверить как влияет этот фактор"
   ]
  },
  {
   "cell_type": "code",
   "execution_count": 104,
   "id": "e8582a8d",
   "metadata": {},
   "outputs": [],
   "source": [
    "gr_petrol = cars[cars['fuel_type'] == 'petrol']['priceUSD']\n",
    "gr_diesel = cars[cars['fuel_type'] == 'diesel']['priceUSD']\n"
   ]
  },
  {
   "cell_type": "code",
   "execution_count": 105,
   "id": "4b7925a7",
   "metadata": {},
   "outputs": [
    {
     "name": "stdout",
     "output_type": "stream",
     "text": [
      "var_petrol 66368726.371957675 ; var_diesel 67535624.49234632\n"
     ]
    }
   ],
   "source": [
    "var_petrol = gr_petrol.var()\n",
    "var_diesel = gr_diesel.var()\n",
    "print('var_petrol', var_petrol, '; var_diesel', var_diesel)"
   ]
  },
  {
   "cell_type": "markdown",
   "id": "e42ddf56",
   "metadata": {},
   "source": [
    "В случае когда дисперсии отличаются больше чем в 4 раза, нам нужно передавть аргумент False в параметр equal_var"
   ]
  },
  {
   "cell_type": "code",
   "execution_count": 106,
   "id": "b7f812a6",
   "metadata": {},
   "outputs": [
    {
     "name": "stdout",
     "output_type": "stream",
     "text": [
      "var_petrol/var_diesel 0.9827217393907287\n"
     ]
    }
   ],
   "source": [
    "print('var_petrol/var_diesel', var_petrol/var_diesel)"
   ]
  },
  {
   "cell_type": "markdown",
   "id": "4264d580",
   "metadata": {},
   "source": [
    "Они отличаются менее чем в 4 раза."
   ]
  },
  {
   "cell_type": "code",
   "execution_count": 107,
   "id": "c5b9f159",
   "metadata": {
    "scrolled": true
   },
   "outputs": [
    {
     "name": "stdout",
     "output_type": "stream",
     "text": [
      "statistic: 119.0870706586817, P-value: 0.0\n"
     ]
    }
   ],
   "source": [
    "stat_2, p_value_2 = ttest_ind(gr_auto, gr_mech, equal_var=True)\n",
    "print(f\"statistic: {stat_2}, P-value: {p_value_2}\")"
   ]
  },
  {
   "cell_type": "markdown",
   "id": "7e4e7961",
   "metadata": {},
   "source": [
    "Так как ttest показал результат `pvalue=0.0`, значит нулевая гипотеза **Автомобили на бензине имеют такую же стоимость как и автомобили на дизеле.** отвергается в пользу альтернативной **Автомобили на бензине имеют НЕ такую же стоимость как и автомобили на дизеле**."
   ]
  },
  {
   "cell_type": "markdown",
   "id": "ae69d165",
   "metadata": {},
   "source": [
    "### Гипотеза 3"
   ]
  },
  {
   "cell_type": "markdown",
   "id": "97b38d51",
   "metadata": {},
   "source": [
    "Влияние типа топлива на пробег автомобиля.(маленькое допущение, потребление электричества электрокарами тоже будем считать топливом)\n",
    "\n",
    "Разные типы топлива могут влиять на эксплуатационные характеристики автомобиля, включая пробег. Например, дизельные автомобили часто имеют больший пробег из-за более высокой топливной эффективности, в то время как бензиновые автомобили могут иметь меньший пробег. Электромобили, с другой стороны, могут иметь совершенно другие характеристики пробега. Проверка этой гипотезы поможет понять, как тип топлива влияет на пробег.\n",
    "\n",
    "**Нулевая гипотеза**: тип топлива **НЕ** оказывает значительное влияние на пробег автомобиля.\n",
    "\n",
    "**Альтернативная гипотеза**: тип топлива оказывает значительное влияние на пробег автомобиля.\n",
    "\n",
    "Уровень значимости 5%"
   ]
  },
  {
   "cell_type": "code",
   "execution_count": 108,
   "id": "f0a39f2d",
   "metadata": {},
   "outputs": [
    {
     "name": "stdout",
     "output_type": "stream",
     "text": [
      "F-statistic: 210.53120752232704, P-value: 8.101680483713554e-92\n"
     ]
    }
   ],
   "source": [
    "petrol_mileage = cars[cars['fuel_type'] == 'petrol']['mileage(kilometers)']\n",
    "diesel_mileage = cars[cars['fuel_type'] == 'diesel']['mileage(kilometers)']\n",
    "electrocar_mileage = cars[cars['fuel_type'] == 'electrocar']['mileage(kilometers)']\n",
    "\n",
    "f_stat, p_value = f_oneway(petrol_mileage, diesel_mileage, electrocar_mileage)\n",
    "\n",
    "print(f\"F-statistic: {f_stat}, P-value: {p_value}\")"
   ]
  },
  {
   "cell_type": "markdown",
   "id": "020068f5",
   "metadata": {},
   "source": [
    "Так как p_value сильно меньше 5%, значит можем отвергнуть нулевую гипотезу в пользу альтернативной"
   ]
  },
  {
   "cell_type": "markdown",
   "id": "af583b86",
   "metadata": {},
   "source": [
    "### Гипотеза 4"
   ]
  },
  {
   "cell_type": "markdown",
   "id": "725a1a0a",
   "metadata": {},
   "source": [
    " На тепловой карте матрицы корреляции было заметно, что `year` и `priceUSD` имеют высокое значение корреляции. Проверим насоклько значимы эти результаты. \n",
    " \n",
    "**Нулевая гипотеза**: год выпуска **НЕ** оказывает значительного влияния на цену автомобиля.\n",
    "\n",
    "**Альтернативная гипотеза**: год выпуска оказывает значительного влияния на цену автомобиля.\n",
    " \n",
    "уровень значимости 5%"
   ]
  },
  {
   "cell_type": "code",
   "execution_count": 109,
   "id": "9e199c15",
   "metadata": {},
   "outputs": [
    {
     "name": "stdout",
     "output_type": "stream",
     "text": [
      "                            OLS Regression Results                            \n",
      "==============================================================================\n",
      "Dep. Variable:               priceUSD   R-squared:                       0.367\n",
      "Model:                            OLS   Adj. R-squared:                  0.367\n",
      "Method:                 Least Squares   F-statistic:                 3.252e+04\n",
      "Date:                Sun, 02 Jun 2024   Prob (F-statistic):               0.00\n",
      "Time:                        02:23:36   Log-Likelihood:            -5.7372e+05\n",
      "No. Observations:               56153   AIC:                         1.147e+06\n",
      "Df Residuals:                   56151   BIC:                         1.147e+06\n",
      "Df Model:                           1                                         \n",
      "Covariance Type:            nonrobust                                         \n",
      "==============================================================================\n",
      "                 coef    std err          t      P>|t|      [0.025      0.975]\n",
      "------------------------------------------------------------------------------\n",
      "const      -1.234e+06   6883.534   -179.255      0.000   -1.25e+06   -1.22e+06\n",
      "year         619.5901      3.436    180.334      0.000     612.856     626.324\n",
      "==============================================================================\n",
      "Omnibus:                    74758.047   Durbin-Watson:                   0.916\n",
      "Prob(Omnibus):                  0.000   Jarque-Bera (JB):         30689351.429\n",
      "Skew:                           7.361   Prob(JB):                         0.00\n",
      "Kurtosis:                     116.578   Cond. No.                     4.94e+05\n",
      "==============================================================================\n",
      "\n",
      "Notes:\n",
      "[1] Standard Errors assume that the covariance matrix of the errors is correctly specified.\n",
      "[2] The condition number is large, 4.94e+05. This might indicate that there are\n",
      "strong multicollinearity or other numerical problems.\n"
     ]
    }
   ],
   "source": [
    "X = cars['year']\n",
    "y = cars['priceUSD']\n",
    "\n",
    "X = sm.add_constant(X)\n",
    "model = sm.OLS(y, X).fit()\n",
    "\n",
    "print(model.summary())"
   ]
  },
  {
   "cell_type": "markdown",
   "id": "a10013f2",
   "metadata": {},
   "source": [
    "1. Коэффициент при переменной `year` является значимым\n",
    "2. Модель объясняет достаточную долю вариации цены. `R2` имеет значение **0.37**, для нас это достаточно высокое значение, потому что процесс существования автомобиля очень случайный и подвержен большому количеству факторов. Данный процесс можно сравнить с жизнью человека(уместное сравнение, так как автомобиль является важной частью жизни людей), а в социальных науках принято считать, что коэффициент `R2`>**0.3** уже достаточно приелемым, потому что поведение людей трудно предсказуемо и содержит много случайностей и неопределенностей.\n",
    "\n",
    "Следовательно, можно заключить, что год выпуска оказывает значительное влияние на цену автомобиля."
   ]
  },
  {
   "cell_type": "markdown",
   "id": "d5788488",
   "metadata": {},
   "source": [
    "##  Машинное обучение"
   ]
  },
  {
   "cell_type": "markdown",
   "id": "0c1b9b27",
   "metadata": {},
   "source": [
    "В нашем наборе данных есть переменная, `priceUSD` - переменная, которая отражает стоимость автомобиля в долларах. Данную переменную мы и будем предсказывать, потому что нашей задачей исследование является оценка параметров автомобиля, одной из лучших оценкой как раз является денежный коэффициент(лучший из тех, что имеется у нас)."
   ]
  },
  {
   "cell_type": "markdown",
   "id": "d79bf6e5",
   "metadata": {},
   "source": [
    "### Разделим данные на выборки"
   ]
  },
  {
   "cell_type": "code",
   "execution_count": 110,
   "id": "45de4476",
   "metadata": {},
   "outputs": [
    {
     "name": "stdout",
     "output_type": "stream",
     "text": [
      "<class 'pandas.core.frame.DataFrame'>\n",
      "Index: 56153 entries, 0 to 56243\n",
      "Data columns (total 17 columns):\n",
      " #   Column               Non-Null Count  Dtype  \n",
      "---  ------               --------------  -----  \n",
      " 0   make                 56153 non-null  object \n",
      " 1   model                56153 non-null  object \n",
      " 2   priceUSD             56153 non-null  int64  \n",
      " 3   year                 56153 non-null  int64  \n",
      " 4   condition            56153 non-null  object \n",
      " 5   mileage(kilometers)  56153 non-null  float64\n",
      " 6   fuel_type            56153 non-null  object \n",
      " 7   volume(cm3)          56153 non-null  float64\n",
      " 8   color                56153 non-null  object \n",
      " 9   transmission         56153 non-null  object \n",
      " 10  drive_unit           56153 non-null  object \n",
      " 11  segment              56153 non-null  object \n",
      " 12  price_mean           56153 non-null  float64\n",
      " 13  mileage_mean         56153 non-null  float64\n",
      " 14  av_price_usd         56153 non-null  float64\n",
      " 15  mileage_year         56153 non-null  float64\n",
      " 16  mileage_year_av      56153 non-null  float64\n",
      "dtypes: float64(7), int64(2), object(8)\n",
      "memory usage: 7.7+ MB\n"
     ]
    }
   ],
   "source": [
    "cars.info()"
   ]
  },
  {
   "cell_type": "markdown",
   "id": "672659d4",
   "metadata": {},
   "source": [
    "Удостоверимся, что категориальные переменные полностью состоят из строковых данных"
   ]
  },
  {
   "cell_type": "code",
   "execution_count": 111,
   "id": "addebfb4",
   "metadata": {},
   "outputs": [],
   "source": [
    "cars['make'] = cars['make'].astype(str)\n",
    "cars['model'] = cars['model'].astype(str)\n",
    "cars['condition'] = cars['condition'].astype(str)\n",
    "cars['fuel_type'] = cars['fuel_type'].astype(str)\n",
    "cars['color'] = cars['color'].astype(str)\n",
    "cars['transmission'] = cars['transmission'].astype(str)\n",
    "cars['drive_unit'] = cars['drive_unit'].astype(str)\n",
    "cars['segment'] = cars['segment'].astype(str)"
   ]
  },
  {
   "cell_type": "markdown",
   "id": "9eb0119d",
   "metadata": {},
   "source": [
    "На этом этапе разделим наши данные на 3 выборки:\n",
    " - Обучающая\n",
    " - Валидационная\n",
    " - Тестовая\n",
    " \n",
    " \n",
    "**Обучающая** выборка нужна для того, чтобы модель могла научиться выявлять закономерности и зависимости в данных.\n",
    "\n",
    "**Валидационная** выборка используется для настройки гиперпараметров модели и предотвращения переобучения. Переобучение происходит, когда модель слишком хорошо подстраивается под обучающие данные и теряет способность обобщать информацию на новых данных. \n",
    "\n",
    "**Тестовая** выборка предназначена для окончательной оценки производительности модели. После того как модель была обучена на обучающей выборке и оптимизирована с использованием валидационной выборки, тестовая выборка используется для независимой проверки ее качества.\n",
    "\n",
    "Данные выборки разделены в таких пропорциях Обучающая:Валидационная:Тестовая = 4:3:3"
   ]
  },
  {
   "cell_type": "code",
   "execution_count": 105,
   "id": "75b185df",
   "metadata": {
    "scrolled": true
   },
   "outputs": [
    {
     "name": "stdout",
     "output_type": "stream",
     "text": [
      "Соотношение выборок: обучающая 33691 : валидационная 11231 : тестовая 11231\n"
     ]
    }
   ],
   "source": [
    "features = cars.drop('priceUSD', axis=1)\n",
    "target = cars['priceUSD']\n",
    "\n",
    "features_train, features_valid_test, target_train, target_valid_test = train_test_split(features, target, test_size=0.4, random_state=12345)\n",
    "features_valid, features_test, target_valid, target_test = train_test_split(features_valid_test, target_valid_test, test_size=0.5, random_state=12345)\n",
    "\n",
    "\n",
    "\n",
    "print('Соотношение выборок: обучающая', features_train.shape[0],': валидационная',features_valid.shape[0],': тестовая',features_test.shape[0])"
   ]
  },
  {
   "cell_type": "code",
   "execution_count": 108,
   "id": "826b481f",
   "metadata": {},
   "outputs": [
    {
     "name": "stdout",
     "output_type": "stream",
     "text": [
      "Соотношение выборок: обучающая 33691 : валидационная 11231 : тестовая 11231\n"
     ]
    }
   ],
   "source": [
    "# Разделение данных на признаки и целевую переменную\n",
    "features = cars.drop('priceUSD', axis=1)\n",
    "target = cars['priceUSD']\n",
    "\n",
    "# Разделение на обучающую и временную выборки (валидационную и тестовую)\n",
    "features_train, features_valid_test, target_train, target_valid_test = train_test_split(\n",
    "    features, target, test_size=0.4, random_state=RANDOM_SEED\n",
    ")\n",
    "\n",
    "# Разделение временной выборки на валидационную и тестовую\n",
    "features_valid, features_test, target_valid, target_test = train_test_split(\n",
    "    features_valid_test, target_valid_test, test_size=0.5, random_state=RANDOM_SEED\n",
    ")\n",
    "\n",
    "print('Соотношение выборок: обучающая',\n",
    "      features_train.shape[0], ': валидационная',\n",
    "      features_valid.shape[0], ': тестовая',\n",
    "      features_test.shape[0]\n",
    "     )"
   ]
  },
  {
   "cell_type": "markdown",
   "id": "4d102aba",
   "metadata": {},
   "source": [
    "### Кодирование категориальных признаков"
   ]
  },
  {
   "cell_type": "markdown",
   "id": "ecab7664",
   "metadata": {},
   "source": [
    "Мы сделаем два отдельных набора, один закодируем  методом OHE для линейной регрессии, а для случайного леса и бустинга методом BinaryEncoding"
   ]
  },
  {
   "cell_type": "markdown",
   "id": "18364f8f",
   "metadata": {},
   "source": [
    "#### OHE"
   ]
  },
  {
   "cell_type": "markdown",
   "id": "553f6c4c",
   "metadata": {},
   "source": [
    "Создание объекта OneHotEncoder, получение списка столбцов с типом данных obj, чтобы закодировать, только категориальные переменые."
   ]
  },
  {
   "cell_type": "code",
   "execution_count": 107,
   "id": "ff0d05ba",
   "metadata": {
    "scrolled": true
   },
   "outputs": [
    {
     "name": "stdout",
     "output_type": "stream",
     "text": [
      "['make_acura' 'make_alfa-romeo' 'make_aro' ... 'segment_M' 'segment_S'\n",
      " 'segment_Unknown']\n"
     ]
    }
   ],
   "source": [
    "encoder_ohe = OneHotEncoder(handle_unknown='ignore', sparse=False)\n",
    "\n",
    "obj_feats = features_train.select_dtypes(include='object').columns.to_list()\n",
    "\n",
    "encoder_ohe.fit(features_train[obj_feats])"
   ]
  },
  {
   "cell_type": "markdown",
   "id": "9728507d",
   "metadata": {},
   "source": [
    "Преобразование категориальных признаков с использованием One-Hot Encoding"
   ]
  },
  {
   "cell_type": "code",
   "execution_count": 109,
   "id": "aa8916ca",
   "metadata": {},
   "outputs": [],
   "source": [
    "features_train_ohed = features_train.copy()\n",
    "\n",
    "features_train_ohed[encoder_ohe.get_feature_names_out()] = encoder_ohe.transform(features_train_ohed[obj_feats])\n",
    "\n",
    "features_train_ohed = features_train_ohed.drop(obj_feats, axis=1)"
   ]
  },
  {
   "cell_type": "code",
   "execution_count": 110,
   "id": "08ce505c",
   "metadata": {},
   "outputs": [],
   "source": [
    "features_test_ohed = features_test.copy()\n",
    "features_test_ohed[encoder_ohe.get_feature_names_out()] = encoder_ohe.transform(features_test_ohed[obj_feats])\n",
    "\n",
    "features_test_ohed = features_test_ohed.drop(obj_feats, axis=1)"
   ]
  },
  {
   "cell_type": "code",
   "execution_count": 111,
   "id": "55510eb8",
   "metadata": {},
   "outputs": [],
   "source": [
    "features_valid_ohed = features_valid.copy()\n",
    "features_valid_ohed[encoder_ohe.get_feature_names_out()] = encoder_ohe.transform(features_valid_ohed[obj_feats])\n",
    "\n",
    "features_valid_ohed = features_valid_ohed.drop(obj_feats, axis=1)"
   ]
  },
  {
   "cell_type": "markdown",
   "id": "7056219b",
   "metadata": {},
   "source": [
    "#### BE"
   ]
  },
  {
   "cell_type": "markdown",
   "id": "9f228523",
   "metadata": {},
   "source": [
    "Создание объекта BinaryEncoder и преобразование категориальных признаков с использованием BinaryEncoder. "
   ]
  },
  {
   "cell_type": "code",
   "execution_count": 112,
   "id": "523d67b1",
   "metadata": {},
   "outputs": [
    {
     "data": {
      "text/html": [
       "<div>\n",
       "<style scoped>\n",
       "    .dataframe tbody tr th:only-of-type {\n",
       "        vertical-align: middle;\n",
       "    }\n",
       "\n",
       "    .dataframe tbody tr th {\n",
       "        vertical-align: top;\n",
       "    }\n",
       "\n",
       "    .dataframe thead th {\n",
       "        text-align: right;\n",
       "    }\n",
       "</style>\n",
       "<table border=\"1\" class=\"dataframe\">\n",
       "  <thead>\n",
       "    <tr style=\"text-align: right;\">\n",
       "      <th></th>\n",
       "      <th>make_0</th>\n",
       "      <th>make_1</th>\n",
       "      <th>make_2</th>\n",
       "      <th>make_3</th>\n",
       "      <th>make_4</th>\n",
       "      <th>make_5</th>\n",
       "      <th>make_6</th>\n",
       "      <th>model_0</th>\n",
       "      <th>model_1</th>\n",
       "      <th>model_2</th>\n",
       "      <th>...</th>\n",
       "      <th>drive_unit_2</th>\n",
       "      <th>segment_0</th>\n",
       "      <th>segment_1</th>\n",
       "      <th>segment_2</th>\n",
       "      <th>segment_3</th>\n",
       "      <th>price_mean</th>\n",
       "      <th>mileage_mean</th>\n",
       "      <th>av_price_usd</th>\n",
       "      <th>mileage_year</th>\n",
       "      <th>mileage_year_av</th>\n",
       "    </tr>\n",
       "  </thead>\n",
       "  <tbody>\n",
       "    <tr>\n",
       "      <th>51434</th>\n",
       "      <td>0</td>\n",
       "      <td>0</td>\n",
       "      <td>0</td>\n",
       "      <td>0</td>\n",
       "      <td>0</td>\n",
       "      <td>0</td>\n",
       "      <td>1</td>\n",
       "      <td>0</td>\n",
       "      <td>0</td>\n",
       "      <td>0</td>\n",
       "      <td>...</td>\n",
       "      <td>1</td>\n",
       "      <td>0</td>\n",
       "      <td>0</td>\n",
       "      <td>0</td>\n",
       "      <td>1</td>\n",
       "      <td>-1.000000e+00</td>\n",
       "      <td>-1.000000</td>\n",
       "      <td>-0.01</td>\n",
       "      <td>15625.00</td>\n",
       "      <td>-0.06</td>\n",
       "    </tr>\n",
       "    <tr>\n",
       "      <th>8252</th>\n",
       "      <td>0</td>\n",
       "      <td>0</td>\n",
       "      <td>0</td>\n",
       "      <td>0</td>\n",
       "      <td>0</td>\n",
       "      <td>1</td>\n",
       "      <td>0</td>\n",
       "      <td>0</td>\n",
       "      <td>0</td>\n",
       "      <td>0</td>\n",
       "      <td>...</td>\n",
       "      <td>0</td>\n",
       "      <td>0</td>\n",
       "      <td>0</td>\n",
       "      <td>0</td>\n",
       "      <td>1</td>\n",
       "      <td>-1.000000e+00</td>\n",
       "      <td>-1.000000</td>\n",
       "      <td>-0.01</td>\n",
       "      <td>12500.00</td>\n",
       "      <td>-0.08</td>\n",
       "    </tr>\n",
       "    <tr>\n",
       "      <th>42091</th>\n",
       "      <td>0</td>\n",
       "      <td>0</td>\n",
       "      <td>0</td>\n",
       "      <td>0</td>\n",
       "      <td>0</td>\n",
       "      <td>1</td>\n",
       "      <td>1</td>\n",
       "      <td>0</td>\n",
       "      <td>0</td>\n",
       "      <td>0</td>\n",
       "      <td>...</td>\n",
       "      <td>1</td>\n",
       "      <td>0</td>\n",
       "      <td>0</td>\n",
       "      <td>1</td>\n",
       "      <td>0</td>\n",
       "      <td>-1.000000e+00</td>\n",
       "      <td>-1.000000</td>\n",
       "      <td>-0.01</td>\n",
       "      <td>14454.55</td>\n",
       "      <td>-0.09</td>\n",
       "    </tr>\n",
       "    <tr>\n",
       "      <th>51810</th>\n",
       "      <td>0</td>\n",
       "      <td>0</td>\n",
       "      <td>0</td>\n",
       "      <td>0</td>\n",
       "      <td>0</td>\n",
       "      <td>0</td>\n",
       "      <td>1</td>\n",
       "      <td>0</td>\n",
       "      <td>0</td>\n",
       "      <td>0</td>\n",
       "      <td>...</td>\n",
       "      <td>1</td>\n",
       "      <td>0</td>\n",
       "      <td>0</td>\n",
       "      <td>0</td>\n",
       "      <td>1</td>\n",
       "      <td>-1.000000e+00</td>\n",
       "      <td>-1.000000</td>\n",
       "      <td>-0.01</td>\n",
       "      <td>31746.03</td>\n",
       "      <td>-0.03</td>\n",
       "    </tr>\n",
       "    <tr>\n",
       "      <th>18627</th>\n",
       "      <td>0</td>\n",
       "      <td>0</td>\n",
       "      <td>0</td>\n",
       "      <td>0</td>\n",
       "      <td>1</td>\n",
       "      <td>0</td>\n",
       "      <td>0</td>\n",
       "      <td>0</td>\n",
       "      <td>0</td>\n",
       "      <td>0</td>\n",
       "      <td>...</td>\n",
       "      <td>1</td>\n",
       "      <td>0</td>\n",
       "      <td>0</td>\n",
       "      <td>0</td>\n",
       "      <td>1</td>\n",
       "      <td>2.142847e+06</td>\n",
       "      <td>140365.631579</td>\n",
       "      <td>23809.42</td>\n",
       "      <td>17272.73</td>\n",
       "      <td>12760.51</td>\n",
       "    </tr>\n",
       "  </tbody>\n",
       "</table>\n",
       "<p>5 rows × 42 columns</p>\n",
       "</div>"
      ],
      "text/plain": [
       "       make_0  make_1  make_2  make_3  make_4  make_5  make_6  model_0  \\\n",
       "51434       0       0       0       0       0       0       1        0   \n",
       "8252        0       0       0       0       0       1       0        0   \n",
       "42091       0       0       0       0       0       1       1        0   \n",
       "51810       0       0       0       0       0       0       1        0   \n",
       "18627       0       0       0       0       1       0       0        0   \n",
       "\n",
       "       model_1  model_2  ...  drive_unit_2  segment_0  segment_1  segment_2  \\\n",
       "51434        0        0  ...             1          0          0          0   \n",
       "8252         0        0  ...             0          0          0          0   \n",
       "42091        0        0  ...             1          0          0          1   \n",
       "51810        0        0  ...             1          0          0          0   \n",
       "18627        0        0  ...             1          0          0          0   \n",
       "\n",
       "       segment_3    price_mean   mileage_mean  av_price_usd  mileage_year  \\\n",
       "51434          1 -1.000000e+00      -1.000000         -0.01      15625.00   \n",
       "8252           1 -1.000000e+00      -1.000000         -0.01      12500.00   \n",
       "42091          0 -1.000000e+00      -1.000000         -0.01      14454.55   \n",
       "51810          1 -1.000000e+00      -1.000000         -0.01      31746.03   \n",
       "18627          1  2.142847e+06  140365.631579      23809.42      17272.73   \n",
       "\n",
       "       mileage_year_av  \n",
       "51434            -0.06  \n",
       "8252             -0.08  \n",
       "42091            -0.09  \n",
       "51810            -0.03  \n",
       "18627         12760.51  \n",
       "\n",
       "[5 rows x 42 columns]"
      ]
     },
     "execution_count": 112,
     "metadata": {},
     "output_type": "execute_result"
    }
   ],
   "source": [
    "features_train_encoded = ce.BinaryEncoder().fit_transform(features_train)\n",
    "features_train_encoded.head()"
   ]
  },
  {
   "cell_type": "code",
   "execution_count": 113,
   "id": "c899d67e",
   "metadata": {},
   "outputs": [],
   "source": [
    "binenc = ce.BinaryEncoder().fit(features_train)\n",
    "features_test_encoded = binenc.transform(features_test)"
   ]
  },
  {
   "cell_type": "code",
   "execution_count": 114,
   "id": "b3b3746a",
   "metadata": {},
   "outputs": [],
   "source": [
    "features_valid_encoded = binenc.transform(features_valid)"
   ]
  },
  {
   "cell_type": "code",
   "execution_count": 115,
   "id": "843dbb0f",
   "metadata": {},
   "outputs": [
    {
     "data": {
      "text/html": [
       "<div>\n",
       "<style scoped>\n",
       "    .dataframe tbody tr th:only-of-type {\n",
       "        vertical-align: middle;\n",
       "    }\n",
       "\n",
       "    .dataframe tbody tr th {\n",
       "        vertical-align: top;\n",
       "    }\n",
       "\n",
       "    .dataframe thead th {\n",
       "        text-align: right;\n",
       "    }\n",
       "</style>\n",
       "<table border=\"1\" class=\"dataframe\">\n",
       "  <thead>\n",
       "    <tr style=\"text-align: right;\">\n",
       "      <th></th>\n",
       "      <th>make_0</th>\n",
       "      <th>make_1</th>\n",
       "      <th>make_2</th>\n",
       "      <th>make_3</th>\n",
       "      <th>make_4</th>\n",
       "      <th>make_5</th>\n",
       "      <th>make_6</th>\n",
       "      <th>model_0</th>\n",
       "      <th>model_1</th>\n",
       "      <th>model_2</th>\n",
       "      <th>...</th>\n",
       "      <th>drive_unit_2</th>\n",
       "      <th>segment_0</th>\n",
       "      <th>segment_1</th>\n",
       "      <th>segment_2</th>\n",
       "      <th>segment_3</th>\n",
       "      <th>price_mean</th>\n",
       "      <th>mileage_mean</th>\n",
       "      <th>av_price_usd</th>\n",
       "      <th>mileage_year</th>\n",
       "      <th>mileage_year_av</th>\n",
       "    </tr>\n",
       "  </thead>\n",
       "  <tbody>\n",
       "    <tr>\n",
       "      <th>4485</th>\n",
       "      <td>1</td>\n",
       "      <td>0</td>\n",
       "      <td>0</td>\n",
       "      <td>0</td>\n",
       "      <td>1</td>\n",
       "      <td>0</td>\n",
       "      <td>0</td>\n",
       "      <td>0</td>\n",
       "      <td>0</td>\n",
       "      <td>1</td>\n",
       "      <td>...</td>\n",
       "      <td>0</td>\n",
       "      <td>1</td>\n",
       "      <td>0</td>\n",
       "      <td>0</td>\n",
       "      <td>0</td>\n",
       "      <td>-1.000000e+00</td>\n",
       "      <td>-1.000000</td>\n",
       "      <td>-0.01</td>\n",
       "      <td>770.49</td>\n",
       "      <td>-0.02</td>\n",
       "    </tr>\n",
       "    <tr>\n",
       "      <th>44861</th>\n",
       "      <td>0</td>\n",
       "      <td>0</td>\n",
       "      <td>0</td>\n",
       "      <td>1</td>\n",
       "      <td>0</td>\n",
       "      <td>1</td>\n",
       "      <td>1</td>\n",
       "      <td>0</td>\n",
       "      <td>0</td>\n",
       "      <td>0</td>\n",
       "      <td>...</td>\n",
       "      <td>1</td>\n",
       "      <td>0</td>\n",
       "      <td>0</td>\n",
       "      <td>1</td>\n",
       "      <td>0</td>\n",
       "      <td>-1.000000e+00</td>\n",
       "      <td>-1.000000</td>\n",
       "      <td>-0.01</td>\n",
       "      <td>6924.55</td>\n",
       "      <td>-0.09</td>\n",
       "    </tr>\n",
       "    <tr>\n",
       "      <th>655</th>\n",
       "      <td>0</td>\n",
       "      <td>0</td>\n",
       "      <td>1</td>\n",
       "      <td>1</td>\n",
       "      <td>0</td>\n",
       "      <td>1</td>\n",
       "      <td>0</td>\n",
       "      <td>0</td>\n",
       "      <td>0</td>\n",
       "      <td>1</td>\n",
       "      <td>...</td>\n",
       "      <td>1</td>\n",
       "      <td>0</td>\n",
       "      <td>0</td>\n",
       "      <td>0</td>\n",
       "      <td>1</td>\n",
       "      <td>1.706798e+06</td>\n",
       "      <td>130089.605263</td>\n",
       "      <td>18964.42</td>\n",
       "      <td>9551.00</td>\n",
       "      <td>10006.89</td>\n",
       "    </tr>\n",
       "    <tr>\n",
       "      <th>46236</th>\n",
       "      <td>0</td>\n",
       "      <td>0</td>\n",
       "      <td>0</td>\n",
       "      <td>0</td>\n",
       "      <td>1</td>\n",
       "      <td>1</td>\n",
       "      <td>0</td>\n",
       "      <td>0</td>\n",
       "      <td>0</td>\n",
       "      <td>0</td>\n",
       "      <td>...</td>\n",
       "      <td>1</td>\n",
       "      <td>1</td>\n",
       "      <td>0</td>\n",
       "      <td>0</td>\n",
       "      <td>0</td>\n",
       "      <td>-1.000000e+00</td>\n",
       "      <td>-1.000000</td>\n",
       "      <td>-0.01</td>\n",
       "      <td>23333.33</td>\n",
       "      <td>-0.06</td>\n",
       "    </tr>\n",
       "    <tr>\n",
       "      <th>10933</th>\n",
       "      <td>0</td>\n",
       "      <td>0</td>\n",
       "      <td>0</td>\n",
       "      <td>1</td>\n",
       "      <td>0</td>\n",
       "      <td>0</td>\n",
       "      <td>0</td>\n",
       "      <td>0</td>\n",
       "      <td>0</td>\n",
       "      <td>1</td>\n",
       "      <td>...</td>\n",
       "      <td>1</td>\n",
       "      <td>1</td>\n",
       "      <td>0</td>\n",
       "      <td>0</td>\n",
       "      <td>1</td>\n",
       "      <td>-1.000000e+00</td>\n",
       "      <td>-1.000000</td>\n",
       "      <td>-0.01</td>\n",
       "      <td>10909.09</td>\n",
       "      <td>-0.05</td>\n",
       "    </tr>\n",
       "  </tbody>\n",
       "</table>\n",
       "<p>5 rows × 42 columns</p>\n",
       "</div>"
      ],
      "text/plain": [
       "       make_0  make_1  make_2  make_3  make_4  make_5  make_6  model_0  \\\n",
       "4485        1       0       0       0       1       0       0        0   \n",
       "44861       0       0       0       1       0       1       1        0   \n",
       "655         0       0       1       1       0       1       0        0   \n",
       "46236       0       0       0       0       1       1       0        0   \n",
       "10933       0       0       0       1       0       0       0        0   \n",
       "\n",
       "       model_1  model_2  ...  drive_unit_2  segment_0  segment_1  segment_2  \\\n",
       "4485         0        1  ...             0          1          0          0   \n",
       "44861        0        0  ...             1          0          0          1   \n",
       "655          0        1  ...             1          0          0          0   \n",
       "46236        0        0  ...             1          1          0          0   \n",
       "10933        0        1  ...             1          1          0          0   \n",
       "\n",
       "       segment_3    price_mean   mileage_mean  av_price_usd  mileage_year  \\\n",
       "4485           0 -1.000000e+00      -1.000000         -0.01        770.49   \n",
       "44861          0 -1.000000e+00      -1.000000         -0.01       6924.55   \n",
       "655            1  1.706798e+06  130089.605263      18964.42       9551.00   \n",
       "46236          0 -1.000000e+00      -1.000000         -0.01      23333.33   \n",
       "10933          1 -1.000000e+00      -1.000000         -0.01      10909.09   \n",
       "\n",
       "       mileage_year_av  \n",
       "4485             -0.02  \n",
       "44861            -0.09  \n",
       "655           10006.89  \n",
       "46236            -0.06  \n",
       "10933            -0.05  \n",
       "\n",
       "[5 rows x 42 columns]"
      ]
     },
     "execution_count": 115,
     "metadata": {},
     "output_type": "execute_result"
    }
   ],
   "source": [
    "features_test_encoded.head()"
   ]
  },
  {
   "cell_type": "markdown",
   "id": "5e79e42b",
   "metadata": {},
   "source": [
    "### Проверка разных моделей"
   ]
  },
  {
   "cell_type": "markdown",
   "id": "d9a9ea4d",
   "metadata": {},
   "source": [
    "План заключается в использовании нескольких разных видов моделей: Линейная регрессия, Случайный лес, Catboost\n",
    "\n",
    "Модели могут по-разному себя показать, поэтому протестируем несколько вариантов."
   ]
  },
  {
   "cell_type": "code",
   "execution_count": 116,
   "id": "bfa9a492",
   "metadata": {},
   "outputs": [
    {
     "data": {
      "text/plain": [
       "['year',\n",
       " 'mileage(kilometers)',\n",
       " 'volume(cm3)',\n",
       " 'price_mean',\n",
       " 'mileage_mean',\n",
       " 'av_price_usd',\n",
       " 'mileage_year',\n",
       " 'mileage_year_av']"
      ]
     },
     "execution_count": 116,
     "metadata": {},
     "output_type": "execute_result"
    }
   ],
   "source": [
    "numeric_feats = cars.select_dtypes(include='number')\n",
    "\n",
    "numeric = list(numeric_feats.drop('priceUSD',axis=1).columns)\n",
    "numeric"
   ]
  },
  {
   "cell_type": "markdown",
   "id": "278f472a",
   "metadata": {},
   "source": [
    "#### Линейная регрессия"
   ]
  },
  {
   "cell_type": "markdown",
   "id": "70580518",
   "metadata": {},
   "source": [
    "##### Масштабируем данные для линейной регрессии"
   ]
  },
  {
   "cell_type": "code",
   "execution_count": 117,
   "id": "c7a211da",
   "metadata": {},
   "outputs": [],
   "source": [
    "scaler = StandardScaler()\n",
    "\n",
    "scaler.fit(features_train[numeric])\n",
    "\n",
    "features_train_scaled, features_test_scaled = features_train.copy(), features_test.copy()\n",
    "\n",
    "features_train_scaled_ohed = features_train_ohed.copy()\n",
    "features_test_scaled_ohed = features_test_ohed.copy()\n",
    "\n",
    "features_train_scaled_ohed[numeric] = scaler.transform(features_train[numeric])\n",
    "features_test_scaled_ohed[numeric]  = scaler.transform(features_test[numeric])\n"
   ]
  },
  {
   "cell_type": "markdown",
   "id": "f9fce3fa",
   "metadata": {},
   "source": [
    "#####  Приступим к обучению регрессии"
   ]
  },
  {
   "cell_type": "code",
   "execution_count": 118,
   "id": "94934157",
   "metadata": {},
   "outputs": [
    {
     "name": "stdout",
     "output_type": "stream",
     "text": [
      "CPU times: total: 15 s\n",
      "Wall time: 3.78 s\n"
     ]
    }
   ],
   "source": [
    "%%time\n",
    "model_l = LinearRegression()\n",
    "\n",
    "\n",
    "# (lasso, X, y, cv=3) model, feats, targ, cv\n",
    "predictions_cv_lin = model_l.fit(features_train_ohed, target_train)"
   ]
  },
  {
   "cell_type": "code",
   "execution_count": 119,
   "id": "82c4e530",
   "metadata": {},
   "outputs": [
    {
     "name": "stdout",
     "output_type": "stream",
     "text": [
      "CPU times: total: 78.1 ms\n",
      "Wall time: 87.9 ms\n"
     ]
    }
   ],
   "source": [
    "%%time\n",
    "predictions_lin_valid = model_l.predict(features_valid_ohed)"
   ]
  },
  {
   "cell_type": "code",
   "execution_count": 120,
   "id": "48e359c7",
   "metadata": {},
   "outputs": [
    {
     "name": "stdout",
     "output_type": "stream",
     "text": [
      "RMSE Линейной регресси равно: 4531.989785981447\n"
     ]
    }
   ],
   "source": [
    "rmse_valid_lin = mean_squared_error(target_valid, predictions_lin_valid)**0.5\n",
    "print('RMSE Линейной регресси равно:', rmse_valid_lin)"
   ]
  },
  {
   "cell_type": "markdown",
   "id": "0a3ce6c2",
   "metadata": {},
   "source": [
    "#### Случайный лес"
   ]
  },
  {
   "cell_type": "code",
   "execution_count": 121,
   "id": "7f9f053a",
   "metadata": {},
   "outputs": [
    {
     "data": {
      "application/vnd.jupyter.widget-view+json": {
       "model_id": "1e38249e7a6442c99e004031036b49e5",
       "version_major": 2,
       "version_minor": 0
      },
      "text/plain": [
       "depth:   0%|          | 0/6 [00:00<?, ?it/s]"
      ]
     },
     "metadata": {},
     "output_type": "display_data"
    },
    {
     "data": {
      "application/vnd.jupyter.widget-view+json": {
       "model_id": "",
       "version_major": 2,
       "version_minor": 0
      },
      "text/plain": [
       "estimator:   0%|          | 0/5 [00:00<?, ?it/s]"
      ]
     },
     "metadata": {},
     "output_type": "display_data"
    },
    {
     "data": {
      "application/vnd.jupyter.widget-view+json": {
       "model_id": "",
       "version_major": 2,
       "version_minor": 0
      },
      "text/plain": [
       "estimator:   0%|          | 0/5 [00:00<?, ?it/s]"
      ]
     },
     "metadata": {},
     "output_type": "display_data"
    },
    {
     "data": {
      "application/vnd.jupyter.widget-view+json": {
       "model_id": "",
       "version_major": 2,
       "version_minor": 0
      },
      "text/plain": [
       "estimator:   0%|          | 0/5 [00:00<?, ?it/s]"
      ]
     },
     "metadata": {},
     "output_type": "display_data"
    },
    {
     "data": {
      "application/vnd.jupyter.widget-view+json": {
       "model_id": "",
       "version_major": 2,
       "version_minor": 0
      },
      "text/plain": [
       "estimator:   0%|          | 0/5 [00:00<?, ?it/s]"
      ]
     },
     "metadata": {},
     "output_type": "display_data"
    },
    {
     "data": {
      "application/vnd.jupyter.widget-view+json": {
       "model_id": "",
       "version_major": 2,
       "version_minor": 0
      },
      "text/plain": [
       "estimator:   0%|          | 0/5 [00:00<?, ?it/s]"
      ]
     },
     "metadata": {},
     "output_type": "display_data"
    },
    {
     "data": {
      "application/vnd.jupyter.widget-view+json": {
       "model_id": "",
       "version_major": 2,
       "version_minor": 0
      },
      "text/plain": [
       "estimator:   0%|          | 0/5 [00:00<?, ?it/s]"
      ]
     },
     "metadata": {},
     "output_type": "display_data"
    },
    {
     "name": "stdout",
     "output_type": "stream",
     "text": [
      "CPU times: total: 15min 35s\n",
      "Wall time: 15min 44s\n"
     ]
    }
   ],
   "source": [
    "%%time\n",
    "best_depth = 0\n",
    "best_est = 0\n",
    "rmse_f_best = 1e300\n",
    "\n",
    "# Диапазоны значений для глубины дерева и количества оценщиков\n",
    "depthes = [None] + [i for i in range(2, 7)]\n",
    "ests = [10, 35, 60, 85, 110]\n",
    "\n",
    "# Время выполнения кода\n",
    "start_time = time.time()\n",
    "\n",
    "# Поиск наилучших параметров\n",
    "for depth_i in trange(len(depthes), desc='depth'):\n",
    "    for est_i in trange(len(ests), desc='estimator', leave=False):\n",
    "        model_f = RandomForestRegressor(\n",
    "            n_estimators=ests[est_i], \n",
    "            max_depth=depthes[depth_i], \n",
    "            random_state=RANDOM_SEED\n",
    "        )\n",
    "        \n",
    "        predictions_cv_forest = cross_val_predict(\n",
    "            model_f, features_train_encoded.fillna(-1), target_train\n",
    "        )\n",
    "        \n",
    "        rmse = mean_squared_error(target_train, predictions_cv_forest)\n",
    "        \n",
    "        if rmse < rmse_f_best:\n",
    "            best_depth = depthes[depth_i]\n",
    "            best_est = ests[est_i]\n",
    "            rmse_f_best = rmse"
   ]
  },
  {
   "cell_type": "code",
   "execution_count": 122,
   "id": "c76ee89d",
   "metadata": {},
   "outputs": [
    {
     "name": "stdout",
     "output_type": "stream",
     "text": [
      "Лучший rmse случайного леса равен: 2984.506608685202\n",
      "Лучшая глубина леса None лучшее количество деревьев 110\n"
     ]
    }
   ],
   "source": [
    "print('Лучший rmse случайного леса равен:', rmse_f_best**0.5)\n",
    "print('Лучшая глубина леса', best_depth, 'лучшее количество деревьев', best_est)"
   ]
  },
  {
   "cell_type": "markdown",
   "id": "1bf5f3d4",
   "metadata": {},
   "source": [
    "**Теперь обучим модель на обучающей выборке и протестируем на валидационной**"
   ]
  },
  {
   "cell_type": "code",
   "execution_count": 123,
   "id": "a0e32304",
   "metadata": {},
   "outputs": [],
   "source": [
    "model_f = RandomForestRegressor(n_estimators=110, max_depth=None, random_state=12345)"
   ]
  },
  {
   "cell_type": "code",
   "execution_count": 124,
   "id": "08f35f01",
   "metadata": {},
   "outputs": [
    {
     "name": "stdout",
     "output_type": "stream",
     "text": [
      "CPU times: total: 50.2 s\n",
      "Wall time: 50.5 s\n"
     ]
    },
    {
     "data": {
      "text/html": [
       "<style>#sk-container-id-1 {color: black;}#sk-container-id-1 pre{padding: 0;}#sk-container-id-1 div.sk-toggleable {background-color: white;}#sk-container-id-1 label.sk-toggleable__label {cursor: pointer;display: block;width: 100%;margin-bottom: 0;padding: 0.3em;box-sizing: border-box;text-align: center;}#sk-container-id-1 label.sk-toggleable__label-arrow:before {content: \"▸\";float: left;margin-right: 0.25em;color: #696969;}#sk-container-id-1 label.sk-toggleable__label-arrow:hover:before {color: black;}#sk-container-id-1 div.sk-estimator:hover label.sk-toggleable__label-arrow:before {color: black;}#sk-container-id-1 div.sk-toggleable__content {max-height: 0;max-width: 0;overflow: hidden;text-align: left;background-color: #f0f8ff;}#sk-container-id-1 div.sk-toggleable__content pre {margin: 0.2em;color: black;border-radius: 0.25em;background-color: #f0f8ff;}#sk-container-id-1 input.sk-toggleable__control:checked~div.sk-toggleable__content {max-height: 200px;max-width: 100%;overflow: auto;}#sk-container-id-1 input.sk-toggleable__control:checked~label.sk-toggleable__label-arrow:before {content: \"▾\";}#sk-container-id-1 div.sk-estimator input.sk-toggleable__control:checked~label.sk-toggleable__label {background-color: #d4ebff;}#sk-container-id-1 div.sk-label input.sk-toggleable__control:checked~label.sk-toggleable__label {background-color: #d4ebff;}#sk-container-id-1 input.sk-hidden--visually {border: 0;clip: rect(1px 1px 1px 1px);clip: rect(1px, 1px, 1px, 1px);height: 1px;margin: -1px;overflow: hidden;padding: 0;position: absolute;width: 1px;}#sk-container-id-1 div.sk-estimator {font-family: monospace;background-color: #f0f8ff;border: 1px dotted black;border-radius: 0.25em;box-sizing: border-box;margin-bottom: 0.5em;}#sk-container-id-1 div.sk-estimator:hover {background-color: #d4ebff;}#sk-container-id-1 div.sk-parallel-item::after {content: \"\";width: 100%;border-bottom: 1px solid gray;flex-grow: 1;}#sk-container-id-1 div.sk-label:hover label.sk-toggleable__label {background-color: #d4ebff;}#sk-container-id-1 div.sk-serial::before {content: \"\";position: absolute;border-left: 1px solid gray;box-sizing: border-box;top: 0;bottom: 0;left: 50%;z-index: 0;}#sk-container-id-1 div.sk-serial {display: flex;flex-direction: column;align-items: center;background-color: white;padding-right: 0.2em;padding-left: 0.2em;position: relative;}#sk-container-id-1 div.sk-item {position: relative;z-index: 1;}#sk-container-id-1 div.sk-parallel {display: flex;align-items: stretch;justify-content: center;background-color: white;position: relative;}#sk-container-id-1 div.sk-item::before, #sk-container-id-1 div.sk-parallel-item::before {content: \"\";position: absolute;border-left: 1px solid gray;box-sizing: border-box;top: 0;bottom: 0;left: 50%;z-index: -1;}#sk-container-id-1 div.sk-parallel-item {display: flex;flex-direction: column;z-index: 1;position: relative;background-color: white;}#sk-container-id-1 div.sk-parallel-item:first-child::after {align-self: flex-end;width: 50%;}#sk-container-id-1 div.sk-parallel-item:last-child::after {align-self: flex-start;width: 50%;}#sk-container-id-1 div.sk-parallel-item:only-child::after {width: 0;}#sk-container-id-1 div.sk-dashed-wrapped {border: 1px dashed gray;margin: 0 0.4em 0.5em 0.4em;box-sizing: border-box;padding-bottom: 0.4em;background-color: white;}#sk-container-id-1 div.sk-label label {font-family: monospace;font-weight: bold;display: inline-block;line-height: 1.2em;}#sk-container-id-1 div.sk-label-container {text-align: center;}#sk-container-id-1 div.sk-container {/* jupyter's `normalize.less` sets `[hidden] { display: none; }` but bootstrap.min.css set `[hidden] { display: none !important; }` so we also need the `!important` here to be able to override the default hidden behavior on the sphinx rendered scikit-learn.org. See: https://github.com/scikit-learn/scikit-learn/issues/21755 */display: inline-block !important;position: relative;}#sk-container-id-1 div.sk-text-repr-fallback {display: none;}</style><div id=\"sk-container-id-1\" class=\"sk-top-container\"><div class=\"sk-text-repr-fallback\"><pre>RandomForestRegressor(n_estimators=110, random_state=12345)</pre><b>In a Jupyter environment, please rerun this cell to show the HTML representation or trust the notebook. <br />On GitHub, the HTML representation is unable to render, please try loading this page with nbviewer.org.</b></div><div class=\"sk-container\" hidden><div class=\"sk-item\"><div class=\"sk-estimator sk-toggleable\"><input class=\"sk-toggleable__control sk-hidden--visually\" id=\"sk-estimator-id-1\" type=\"checkbox\" checked><label for=\"sk-estimator-id-1\" class=\"sk-toggleable__label sk-toggleable__label-arrow\">RandomForestRegressor</label><div class=\"sk-toggleable__content\"><pre>RandomForestRegressor(n_estimators=110, random_state=12345)</pre></div></div></div></div></div>"
      ],
      "text/plain": [
       "RandomForestRegressor(n_estimators=110, random_state=12345)"
      ]
     },
     "execution_count": 124,
     "metadata": {},
     "output_type": "execute_result"
    }
   ],
   "source": [
    "%%time\n",
    "model_f.fit(features_train_encoded, target_train)"
   ]
  },
  {
   "cell_type": "code",
   "execution_count": 125,
   "id": "aa816f12",
   "metadata": {},
   "outputs": [
    {
     "name": "stdout",
     "output_type": "stream",
     "text": [
      "CPU times: total: 469 ms\n",
      "Wall time: 486 ms\n"
     ]
    }
   ],
   "source": [
    "%%time\n",
    "predictions_f = model_f.predict(features_valid_encoded)"
   ]
  },
  {
   "cell_type": "markdown",
   "id": "66c45f0d",
   "metadata": {},
   "source": [
    "Посмотрим на результаты"
   ]
  },
  {
   "cell_type": "code",
   "execution_count": 126,
   "id": "d56826b4",
   "metadata": {},
   "outputs": [
    {
     "name": "stdout",
     "output_type": "stream",
     "text": [
      "RMSE случайного леса равно: 2560.219822630233\n"
     ]
    }
   ],
   "source": [
    "rmse_forest = mean_squared_error(predictions_f,target_valid)**0.5\n",
    "print('RMSE случайного леса равно:',rmse_forest)"
   ]
  },
  {
   "cell_type": "markdown",
   "id": "404c89e2",
   "metadata": {},
   "source": [
    "#### CatBoost"
   ]
  },
  {
   "cell_type": "markdown",
   "id": "c337ea5a",
   "metadata": {},
   "source": [
    "##### Catboost с кросс-валидацией"
   ]
  },
  {
   "cell_type": "code",
   "execution_count": 127,
   "id": "c2aa9a0f",
   "metadata": {},
   "outputs": [],
   "source": [
    "model_cat = CatBoostRegressor()"
   ]
  },
  {
   "cell_type": "code",
   "execution_count": 128,
   "id": "53583406",
   "metadata": {},
   "outputs": [],
   "source": [
    "cat_features = ['make','model','condition','fuel_type','color','transmission','drive_unit','segment']"
   ]
  },
  {
   "cell_type": "code",
   "execution_count": 129,
   "id": "98808139",
   "metadata": {
    "scrolled": false
   },
   "outputs": [
    {
     "data": {
      "application/vnd.jupyter.widget-view+json": {
       "model_id": "2a1d086011f545a7b1b6527d8b917493",
       "version_major": 2,
       "version_minor": 0
      },
      "text/plain": [
       "MetricVisualizer(layout=Layout(align_self='stretch', height='500px'))"
      ]
     },
     "metadata": {},
     "output_type": "display_data"
    },
    {
     "name": "stdout",
     "output_type": "stream",
     "text": [
      "Training on fold [0/5]\n"
     ]
    },
    {
     "name": "stderr",
     "output_type": "stream",
     "text": [
      " Warning: The least populated class in y has only 1 members, which is too few. The minimum number of members in any class cannot be less than parts count=5\n"
     ]
    },
    {
     "name": "stdout",
     "output_type": "stream",
     "text": [
      "\n",
      "bestTest = 5458.376653\n",
      "bestIteration = 277\n",
      "\n",
      "Training on fold [1/5]\n"
     ]
    },
    {
     "name": "stderr",
     "output_type": "stream",
     "text": [
      " Warning: The least populated class in y has only 1 members, which is too few. The minimum number of members in any class cannot be less than parts count=5\n"
     ]
    },
    {
     "name": "stdout",
     "output_type": "stream",
     "text": [
      "\n",
      "bestTest = 2115.308633\n",
      "bestIteration = 294\n",
      "\n",
      "Training on fold [2/5]\n"
     ]
    },
    {
     "name": "stderr",
     "output_type": "stream",
     "text": [
      " Warning: The least populated class in y has only 1 members, which is too few. The minimum number of members in any class cannot be less than parts count=5\n"
     ]
    },
    {
     "name": "stdout",
     "output_type": "stream",
     "text": [
      "\n",
      "bestTest = 2331.089327\n",
      "bestIteration = 299\n",
      "\n",
      "Training on fold [3/5]\n"
     ]
    },
    {
     "name": "stderr",
     "output_type": "stream",
     "text": [
      " Warning: The least populated class in y has only 1 members, which is too few. The minimum number of members in any class cannot be less than parts count=5\n"
     ]
    },
    {
     "name": "stdout",
     "output_type": "stream",
     "text": [
      "\n",
      "bestTest = 1851.562664\n",
      "bestIteration = 298\n",
      "\n",
      "Training on fold [4/5]\n"
     ]
    },
    {
     "name": "stderr",
     "output_type": "stream",
     "text": [
      " Warning: The least populated class in y has only 1 members, which is too few. The minimum number of members in any class cannot be less than parts count=5\n"
     ]
    },
    {
     "name": "stdout",
     "output_type": "stream",
     "text": [
      "\n",
      "bestTest = 1871.556658\n",
      "bestIteration = 295\n",
      "\n",
      "CPU times: total: 4min 44s\n",
      "Wall time: 1min 23s\n"
     ]
    }
   ],
   "source": [
    "%%time\n",
    "params = {\n",
    "    'loss_function': 'RMSE',\n",
    "    'iterations': 300,\n",
    "    'random_seed': 12345,\n",
    "    'learning_rate': 0.2\n",
    "}\n",
    "\n",
    "cv_data = cv(\n",
    "    params=params,\n",
    "    pool=Pool(features_train, label=target_train, cat_features=cat_features),\n",
    "    fold_count=5, \n",
    "    shuffle=True, \n",
    "    partition_random_seed=12345,\n",
    "    plot=True, \n",
    "    stratified=True, \n",
    "    verbose=False\n",
    ")"
   ]
  },
  {
   "cell_type": "markdown",
   "id": "cdb16cf1",
   "metadata": {},
   "source": [
    "##### CatBoost без кросс-валидации"
   ]
  },
  {
   "cell_type": "code",
   "execution_count": 130,
   "id": "cbd2823b",
   "metadata": {},
   "outputs": [
    {
     "data": {
      "application/vnd.jupyter.widget-view+json": {
       "model_id": "c8350d79888a456fad08c8b290878df0",
       "version_major": 2,
       "version_minor": 0
      },
      "text/plain": [
       "MetricVisualizer(layout=Layout(align_self='stretch', height='500px'))"
      ]
     },
     "metadata": {},
     "output_type": "display_data"
    },
    {
     "name": "stdout",
     "output_type": "stream",
     "text": [
      "0:\tlearn: 7292.2383366\ttotal: 59.2ms\tremaining: 17.7s\n",
      "40:\tlearn: 2846.8444592\ttotal: 2.3s\tremaining: 14.5s\n",
      "80:\tlearn: 2498.5247285\ttotal: 4.59s\tremaining: 12.4s\n",
      "120:\tlearn: 2308.2997489\ttotal: 6.89s\tremaining: 10.2s\n",
      "160:\tlearn: 2168.9928162\ttotal: 9.19s\tremaining: 7.93s\n",
      "200:\tlearn: 2059.4569975\ttotal: 11.5s\tremaining: 5.65s\n",
      "240:\tlearn: 1975.4393482\ttotal: 13.8s\tremaining: 3.38s\n",
      "280:\tlearn: 1904.7043892\ttotal: 16.1s\tremaining: 1.09s\n",
      "299:\tlearn: 1877.2613087\ttotal: 17.2s\tremaining: 0us\n",
      "CPU times: total: 58.4 s\n",
      "Wall time: 17.6 s\n"
     ]
    },
    {
     "data": {
      "text/plain": [
       "<catboost.core.CatBoostRegressor at 0x131d8633310>"
      ]
     },
     "execution_count": 130,
     "metadata": {},
     "output_type": "execute_result"
    }
   ],
   "source": [
    "%%time\n",
    "model_cat = CatBoostRegressor(iterations=300, learning_rate= 0.2)\n",
    "\n",
    "\n",
    "cat_features = ['make','model','condition','fuel_type','color','transmission','drive_unit','segment']\n",
    "model_cat.fit(features_train, target_train, cat_features=cat_features, verbose=40, plot=True)"
   ]
  },
  {
   "cell_type": "code",
   "execution_count": 133,
   "id": "444487b2",
   "metadata": {},
   "outputs": [
    {
     "name": "stdout",
     "output_type": "stream",
     "text": [
      "CPU times: total: 109 ms\n",
      "Wall time: 44.5 ms\n"
     ]
    }
   ],
   "source": [
    "%%time\n",
    "predictions_cat = model_cat.predict(features_valid)"
   ]
  },
  {
   "cell_type": "code",
   "execution_count": 134,
   "id": "f8dafb7a",
   "metadata": {},
   "outputs": [
    {
     "name": "stdout",
     "output_type": "stream",
     "text": [
      "Значение RMSE для модели catboost равно 2371.857155263551\n"
     ]
    }
   ],
   "source": [
    "rmse_cat = mean_squared_error(target_valid, predictions_cat)**0.5\n",
    "print('Значение RMSE для модели catboost равно', rmse_cat)"
   ]
  },
  {
   "cell_type": "markdown",
   "id": "99ac7dc7",
   "metadata": {},
   "source": [
    "### Результаты моделей"
   ]
  },
  {
   "cell_type": "code",
   "execution_count": 136,
   "id": "5810cab7",
   "metadata": {
    "scrolled": true
   },
   "outputs": [
    {
     "name": "stdout",
     "output_type": "stream",
     "text": [
      "Линейная регрессия\n",
      "Качество модели, значение RMSE 4531.989785981447\n",
      "\n",
      "Случайный лес\n",
      "Качество модели, значение RMSE 2560.219822630233\n",
      "\n",
      "CatBoost\n",
      "Качество модели, значение RMSE 2371.857155263551\n"
     ]
    }
   ],
   "source": [
    "print('Линейная регрессия')\n",
    "print('Качество модели, значение RMSE', rmse_valid_lin)\n",
    "print()\n",
    "print('Случайный лес')\n",
    "print('Качество модели, значение RMSE', rmse_forest)\n",
    "print()\n",
    "print('CatBoost')\n",
    "print('Качество модели, значение RMSE', rmse_cat)"
   ]
  },
  {
   "cell_type": "markdown",
   "id": "f41ff0a1",
   "metadata": {},
   "source": [
    "# Итоги сравнения моделей:\n",
    "В данном случае линейная регрессия показала наихудший результат по сравнению с другими моделями, так как значение RMSE у нее самое большое.\n",
    "\n",
    "Случайный лес лучше справляется с задачей предсказания по сравнению с линейной регрессией, так как он может улавливать более сложные зависимости между признаками и целевой переменной.\n",
    "\n",
    "CatBoost показал наилучший результат, так как он способен эффективно обрабатывать сложные и нелинейные зависимости в данных, а также лучше справляется с категориальными признаками."
   ]
  },
  {
   "cell_type": "markdown",
   "id": "21a6ca77",
   "metadata": {},
   "source": [
    "### Лучшая модель на валидационной выборке"
   ]
  },
  {
   "cell_type": "markdown",
   "id": "98c5b27a",
   "metadata": {},
   "source": [
    "Лучшей моделью оказался CatBoost, поэтому для проверки на тестовой выборке выберем именно его.\n",
    "\n",
    "Далее проведем тест на тестовой выборке и посмотрим на важность факторов модели"
   ]
  },
  {
   "cell_type": "markdown",
   "id": "d32a8c85",
   "metadata": {},
   "source": [
    "Первым делом посмотрим на результаты на тестовой выборке"
   ]
  },
  {
   "cell_type": "code",
   "execution_count": 137,
   "id": "69cc8d72",
   "metadata": {},
   "outputs": [
    {
     "name": "stdout",
     "output_type": "stream",
     "text": [
      "rmse финальной модели катбуст на тестовой выборке: 2397.1467811120106\n"
     ]
    }
   ],
   "source": [
    "predictions_final = model_cat.predict(features_test)\n",
    "rmse_final = mean_squared_error(target_test, predictions_final)**0.5\n",
    "print('rmse финальной модели катбуст на тестовой выборке:', rmse_final)"
   ]
  },
  {
   "cell_type": "markdown",
   "id": "7e1fd717",
   "metadata": {},
   "source": [
    "**Важность факторов**"
   ]
  },
  {
   "cell_type": "code",
   "execution_count": 138,
   "id": "91412a7a",
   "metadata": {},
   "outputs": [
    {
     "data": {
      "text/html": [
       "<div>\n",
       "<style scoped>\n",
       "    .dataframe tbody tr th:only-of-type {\n",
       "        vertical-align: middle;\n",
       "    }\n",
       "\n",
       "    .dataframe tbody tr th {\n",
       "        vertical-align: top;\n",
       "    }\n",
       "\n",
       "    .dataframe thead th {\n",
       "        text-align: right;\n",
       "    }\n",
       "</style>\n",
       "<table border=\"1\" class=\"dataframe\">\n",
       "  <thead>\n",
       "    <tr style=\"text-align: right;\">\n",
       "      <th></th>\n",
       "      <th>importance</th>\n",
       "      <th>feature</th>\n",
       "    </tr>\n",
       "  </thead>\n",
       "  <tbody>\n",
       "    <tr>\n",
       "      <th>12</th>\n",
       "      <td>0.026266</td>\n",
       "      <td>mileage_mean</td>\n",
       "    </tr>\n",
       "    <tr>\n",
       "      <th>11</th>\n",
       "      <td>0.186135</td>\n",
       "      <td>price_mean</td>\n",
       "    </tr>\n",
       "    <tr>\n",
       "      <th>13</th>\n",
       "      <td>0.368769</td>\n",
       "      <td>av_price_usd</td>\n",
       "    </tr>\n",
       "    <tr>\n",
       "      <th>3</th>\n",
       "      <td>0.392482</td>\n",
       "      <td>condition</td>\n",
       "    </tr>\n",
       "    <tr>\n",
       "      <th>7</th>\n",
       "      <td>0.686168</td>\n",
       "      <td>color</td>\n",
       "    </tr>\n",
       "    <tr>\n",
       "      <th>4</th>\n",
       "      <td>1.679299</td>\n",
       "      <td>mileage(kilometers)</td>\n",
       "    </tr>\n",
       "    <tr>\n",
       "      <th>1</th>\n",
       "      <td>2.2384</td>\n",
       "      <td>model</td>\n",
       "    </tr>\n",
       "    <tr>\n",
       "      <th>14</th>\n",
       "      <td>2.256765</td>\n",
       "      <td>mileage_year</td>\n",
       "    </tr>\n",
       "    <tr>\n",
       "      <th>8</th>\n",
       "      <td>2.484083</td>\n",
       "      <td>transmission</td>\n",
       "    </tr>\n",
       "    <tr>\n",
       "      <th>10</th>\n",
       "      <td>3.271279</td>\n",
       "      <td>segment</td>\n",
       "    </tr>\n",
       "    <tr>\n",
       "      <th>5</th>\n",
       "      <td>3.411355</td>\n",
       "      <td>fuel_type</td>\n",
       "    </tr>\n",
       "    <tr>\n",
       "      <th>9</th>\n",
       "      <td>5.294242</td>\n",
       "      <td>drive_unit</td>\n",
       "    </tr>\n",
       "    <tr>\n",
       "      <th>0</th>\n",
       "      <td>6.604074</td>\n",
       "      <td>make</td>\n",
       "    </tr>\n",
       "    <tr>\n",
       "      <th>15</th>\n",
       "      <td>9.695954</td>\n",
       "      <td>mileage_year_av</td>\n",
       "    </tr>\n",
       "    <tr>\n",
       "      <th>6</th>\n",
       "      <td>23.631605</td>\n",
       "      <td>volume(cm3)</td>\n",
       "    </tr>\n",
       "    <tr>\n",
       "      <th>2</th>\n",
       "      <td>37.773123</td>\n",
       "      <td>year</td>\n",
       "    </tr>\n",
       "  </tbody>\n",
       "</table>\n",
       "</div>"
      ],
      "text/plain": [
       "   importance              feature\n",
       "12   0.026266         mileage_mean\n",
       "11   0.186135           price_mean\n",
       "13   0.368769         av_price_usd\n",
       "3    0.392482            condition\n",
       "7    0.686168                color\n",
       "4    1.679299  mileage(kilometers)\n",
       "1      2.2384                model\n",
       "14   2.256765         mileage_year\n",
       "8    2.484083         transmission\n",
       "10   3.271279              segment\n",
       "5    3.411355            fuel_type\n",
       "9    5.294242           drive_unit\n",
       "0    6.604074                 make\n",
       "15   9.695954      mileage_year_av\n",
       "6   23.631605          volume(cm3)\n",
       "2   37.773123                 year"
      ]
     },
     "execution_count": 138,
     "metadata": {},
     "output_type": "execute_result"
    }
   ],
   "source": [
    "importance = pd.DataFrame(np.array([model_cat.get_feature_importance(),features_train.columns]).T, columns = ['importance', 'feature'])\n",
    "importance = importance.sort_values(by='importance')\n",
    "importance"
   ]
  },
  {
   "cell_type": "code",
   "execution_count": 139,
   "id": "98e3b4da",
   "metadata": {},
   "outputs": [
    {
     "data": {
      "text/plain": [
       "<Axes: title={'center': 'Важность признаков в условных единицах'}, ylabel='feature'>"
      ]
     },
     "execution_count": 139,
     "metadata": {},
     "output_type": "execute_result"
    },
    {
     "data": {
      "image/png": "[encoded data removed]",
      "text/plain": [
       "<Figure size 640x480 with 1 Axes>"
      ]
     },
     "metadata": {},
     "output_type": "display_data"
    }
   ],
   "source": [
    "importance.plot(kind='barh', x='feature', title='Важность признаков в условных единицах')"
   ]
  },
  {
   "cell_type": "markdown",
   "id": "a2ab1b99",
   "metadata": {},
   "source": [
    "Как мы видим на графике важности каждого признака, самым влиятельным окзалася год, данный результат кажется закономерным, так как чем старее машина, тем хуже у нее состояние, следоавтельно и меньше цена(это не отсносится к раритетным и коллекционным автомобилям)."
   ]
  },
  {
   "cell_type": "markdown",
   "id": "1caff3a0",
   "metadata": {},
   "source": [
    "На втором месте находится объем двигателя, который грубо дает оценку о том, насколько мощный автомобиль, на третьем средний пробег за год, что также как и год важно для понимания состояния автомобиля. "
   ]
  },
  {
   "cell_type": "markdown",
   "id": "4ed07fe8",
   "metadata": {},
   "source": [
    "## Итоги"
   ]
  },
  {
   "cell_type": "markdown",
   "id": "c4c459fa",
   "metadata": {},
   "source": [
    "Итоги данной работы. \n",
    "\n",
    "Мы нашли датасет, наполнили его данным с ресурса auto.ru новыми данными с помощью парсинга, далее провели исследование данных, проверили на наличие аномалий и избавились от них. Добавили в датасет еще новых признаков на основе имеющихся и проверили интересующие нас гипотезы. Далее, протестировали несколько моделей, а именно LinearRegression, RandomForestRegressor, CatBoostRegressor. Сравнили результаты и выбрали оптимальную.\n",
    "\n",
    "Во время работы было выолнено 10 следующих пунктов:\n",
    "\n",
    "- Загрузка данных\n",
    "- Парсинг\n",
    "- Изучение данных(EDA)\n",
    "- Создание новых признаков\n",
    "- Проверка гипотез\n",
    "- Подготовка выборок\n",
    "- Обучение разных моделей\n",
    "- Анализ  качества моделей.\n",
    "- Выбор лучшей модели\n",
    "- Подведение итогов\n",
    "\n",
    "\n",
    "По итогам работы выбрали модель CatBoostRegressor, . Значение метрики rmse равно 2397, что означает, что главную цель работы мы выполнили, но есть куда стремиться! Можно подумать над улучшением алгоритма отбора новых признаков(парсинг) или придумать что-то еще с данными. \n"
   ]
  }
 ],
 "metadata": {
  "kernelspec": {
   "display_name": "Python 3 (ipykernel)",
   "language": "python",
   "name": "python3"
  },
  "language_info": {
   "codemirror_mode": {
    "name": "ipython",
    "version": 3
   },
   "file_extension": ".py",
   "mimetype": "text/x-python",
   "name": "python",
   "nbconvert_exporter": "python",
   "pygments_lexer": "ipython3",
   "version": "3.10.8"
  },
  "toc": {
   "base_numbering": "1",
   "nav_menu": {},
   "number_sections": true,
   "sideBar": true,
   "skip_h1_title": true,
   "title_cell": "Содержание",
   "title_sidebar": "Contents",
   "toc_cell": true,
   "toc_position": {
    "height": "calc(100% - 180px)",
    "left": "10px",
    "top": "150px",
    "width": "353.984px"
   },
   "toc_section_display": true,
   "toc_window_display": true
  }
 },
 "nbformat": 4,
 "nbformat_minor": 5
}
